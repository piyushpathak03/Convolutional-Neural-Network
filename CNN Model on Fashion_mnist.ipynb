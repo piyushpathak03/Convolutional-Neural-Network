{
 "cells": [
  {
   "cell_type": "code",
   "execution_count": null,
   "metadata": {
    "_cell_guid": "b1076dfc-b9ad-4769-8c92-a6c4dae69d19",
    "_uuid": "8f2839f25d086af736a60e9eeb907d3b93b6e0e5"
   },
   "outputs": [],
   "source": [
    "# This Python 3 environment comes with many helpful analytics libraries installed\n",
    "# It is defined by the kaggle/python Docker image: https://github.com/kaggle/docker-python\n",
    "# For example, here's several helpful packages to load\n",
    "\n",
    "import numpy as np # linear algebra\n",
    "import pandas as pd # data processing, CSV file I/O (e.g. pd.read_csv)\n",
    "\n",
    "# Input data files are available in the read-only \"../input/\" directory\n",
    "# For example, running this (by clicking run or pressing Shift+Enter) will list all files under the input directory\n",
    "\n",
    "import os\n",
    "for dirname, _, filenames in os.walk('/kaggle/input'):\n",
    "    for filename in filenames:\n",
    "        print(os.path.join(dirname, filename))\n",
    "\n",
    "# You can write up to 5GB to the current directory (/kaggle/working/) that gets preserved as output when you create a version using \"Save & Run All\" \n",
    "# You can also write temporary files to /kaggle/temp/, but they won't be saved outside of the current session"
   ]
  },
  {
   "cell_type": "code",
   "execution_count": 1,
   "metadata": {
    "_cell_guid": "79c7e3d0-c299-4dcb-8224-4455121ee9b0",
    "_uuid": "d629ff2d2480ee46fbb7e2d37f6b5fab8052498a"
   },
   "outputs": [
    {
     "name": "stdout",
     "output_type": "stream",
     "text": [
      "Collecting keras-tuner\n",
      "  Downloading keras-tuner-1.0.1.tar.gz (54 kB)\n",
      "\u001b[K     |████████████████████████████████| 54 kB 1.5 MB/s eta 0:00:011\n",
      "\u001b[?25hRequirement already satisfied: future in /opt/conda/lib/python3.7/site-packages (from keras-tuner) (0.18.2)\n",
      "Requirement already satisfied: numpy in /opt/conda/lib/python3.7/site-packages (from keras-tuner) (1.18.1)\n",
      "Requirement already satisfied: tabulate in /opt/conda/lib/python3.7/site-packages (from keras-tuner) (0.8.7)\n",
      "Collecting terminaltables\n",
      "  Downloading terminaltables-3.1.0.tar.gz (12 kB)\n",
      "Requirement already satisfied: colorama in /opt/conda/lib/python3.7/site-packages (from keras-tuner) (0.4.3)\n",
      "Requirement already satisfied: tqdm in /opt/conda/lib/python3.7/site-packages (from keras-tuner) (4.45.0)\n",
      "Requirement already satisfied: requests in /opt/conda/lib/python3.7/site-packages (from keras-tuner) (2.23.0)\n",
      "Requirement already satisfied: scipy in /opt/conda/lib/python3.7/site-packages (from keras-tuner) (1.4.1)\n",
      "Requirement already satisfied: scikit-learn in /opt/conda/lib/python3.7/site-packages (from keras-tuner) (0.22.2.post1)\n",
      "Requirement already satisfied: idna<3,>=2.5 in /opt/conda/lib/python3.7/site-packages (from requests->keras-tuner) (2.9)\n",
      "Requirement already satisfied: certifi>=2017.4.17 in /opt/conda/lib/python3.7/site-packages (from requests->keras-tuner) (2020.4.5.1)\n",
      "Requirement already satisfied: urllib3!=1.25.0,!=1.25.1,<1.26,>=1.21.1 in /opt/conda/lib/python3.7/site-packages (from requests->keras-tuner) (1.24.3)\n",
      "Requirement already satisfied: chardet<4,>=3.0.2 in /opt/conda/lib/python3.7/site-packages (from requests->keras-tuner) (3.0.4)\n",
      "Requirement already satisfied: joblib>=0.11 in /opt/conda/lib/python3.7/site-packages (from scikit-learn->keras-tuner) (0.14.1)\n",
      "Building wheels for collected packages: keras-tuner, terminaltables\n",
      "  Building wheel for keras-tuner (setup.py) ... \u001b[?25ldone\n",
      "\u001b[?25h  Created wheel for keras-tuner: filename=keras_tuner-1.0.1-py3-none-any.whl size=73198 sha256=c6116546b18cdf1798a04686691a8689f65297f8a33f811d5e854c5b73dfaf17\n",
      "  Stored in directory: /root/.cache/pip/wheels/0b/cf/2f/1a1749d3a3650fac3305a8d7f9237b6de7c41068e2f8520ca2\n",
      "  Building wheel for terminaltables (setup.py) ... \u001b[?25ldone\n",
      "\u001b[?25h  Created wheel for terminaltables: filename=terminaltables-3.1.0-py3-none-any.whl size=15354 sha256=ff7562a3aee993e36585ced8a963860c59ba038c2f65978f258fc306ca6884e8\n",
      "  Stored in directory: /root/.cache/pip/wheels/ba/ad/c8/2d98360791161cd3db6daf6b5e730f34021fc9367d5879f497\n",
      "Successfully built keras-tuner terminaltables\n",
      "Installing collected packages: terminaltables, keras-tuner\n",
      "Successfully installed keras-tuner-1.0.1 terminaltables-3.1.0\n",
      "\u001b[33mWARNING: You are using pip version 20.1; however, version 20.1.1 is available.\n",
      "You should consider upgrading via the '/opt/conda/bin/python3.7 -m pip install --upgrade pip' command.\u001b[0m\n"
     ]
    }
   ],
   "source": [
    "!pip install keras-tuner"
   ]
  },
  {
   "cell_type": "code",
   "execution_count": 2,
   "metadata": {},
   "outputs": [],
   "source": [
    "import tensorflow as tf\n",
    "from tensorflow import keras\n",
    "import numpy as np"
   ]
  },
  {
   "cell_type": "code",
   "execution_count": 3,
   "metadata": {},
   "outputs": [],
   "source": [
    "fashion_mnist=keras.datasets.fashion_mnist"
   ]
  },
  {
   "cell_type": "code",
   "execution_count": 4,
   "metadata": {},
   "outputs": [
    {
     "name": "stdout",
     "output_type": "stream",
     "text": [
      "Downloading data from https://storage.googleapis.com/tensorflow/tf-keras-datasets/train-labels-idx1-ubyte.gz\n",
      "32768/29515 [=================================] - 0s 0us/step\n",
      "Downloading data from https://storage.googleapis.com/tensorflow/tf-keras-datasets/train-images-idx3-ubyte.gz\n",
      "26427392/26421880 [==============================] - 0s 0us/step\n",
      "Downloading data from https://storage.googleapis.com/tensorflow/tf-keras-datasets/t10k-labels-idx1-ubyte.gz\n",
      "8192/5148 [===============================================] - 0s 0us/step\n",
      "Downloading data from https://storage.googleapis.com/tensorflow/tf-keras-datasets/t10k-images-idx3-ubyte.gz\n",
      "4423680/4422102 [==============================] - 0s 0us/step\n"
     ]
    }
   ],
   "source": [
    "(train_images,train_labels),(test_images,test_labels)=fashion_mnist.load_data()\n"
   ]
  },
  {
   "cell_type": "code",
   "execution_count": 5,
   "metadata": {},
   "outputs": [
    {
     "data": {
      "text/plain": [
       "array([[[0, 0, 0, ..., 0, 0, 0],\n",
       "        [0, 0, 0, ..., 0, 0, 0],\n",
       "        [0, 0, 0, ..., 0, 0, 0],\n",
       "        ...,\n",
       "        [0, 0, 0, ..., 0, 0, 0],\n",
       "        [0, 0, 0, ..., 0, 0, 0],\n",
       "        [0, 0, 0, ..., 0, 0, 0]],\n",
       "\n",
       "       [[0, 0, 0, ..., 0, 0, 0],\n",
       "        [0, 0, 0, ..., 0, 0, 0],\n",
       "        [0, 0, 0, ..., 0, 0, 0],\n",
       "        ...,\n",
       "        [0, 0, 0, ..., 0, 0, 0],\n",
       "        [0, 0, 0, ..., 0, 0, 0],\n",
       "        [0, 0, 0, ..., 0, 0, 0]],\n",
       "\n",
       "       [[0, 0, 0, ..., 0, 0, 0],\n",
       "        [0, 0, 0, ..., 0, 0, 0],\n",
       "        [0, 0, 0, ..., 0, 0, 0],\n",
       "        ...,\n",
       "        [0, 0, 0, ..., 0, 0, 0],\n",
       "        [0, 0, 0, ..., 0, 0, 0],\n",
       "        [0, 0, 0, ..., 0, 0, 0]],\n",
       "\n",
       "       ...,\n",
       "\n",
       "       [[0, 0, 0, ..., 0, 0, 0],\n",
       "        [0, 0, 0, ..., 0, 0, 0],\n",
       "        [0, 0, 0, ..., 0, 0, 0],\n",
       "        ...,\n",
       "        [0, 0, 0, ..., 0, 0, 0],\n",
       "        [0, 0, 0, ..., 0, 0, 0],\n",
       "        [0, 0, 0, ..., 0, 0, 0]],\n",
       "\n",
       "       [[0, 0, 0, ..., 0, 0, 0],\n",
       "        [0, 0, 0, ..., 0, 0, 0],\n",
       "        [0, 0, 0, ..., 0, 0, 0],\n",
       "        ...,\n",
       "        [0, 0, 0, ..., 0, 0, 0],\n",
       "        [0, 0, 0, ..., 0, 0, 0],\n",
       "        [0, 0, 0, ..., 0, 0, 0]],\n",
       "\n",
       "       [[0, 0, 0, ..., 0, 0, 0],\n",
       "        [0, 0, 0, ..., 0, 0, 0],\n",
       "        [0, 0, 0, ..., 0, 0, 0],\n",
       "        ...,\n",
       "        [0, 0, 0, ..., 0, 0, 0],\n",
       "        [0, 0, 0, ..., 0, 0, 0],\n",
       "        [0, 0, 0, ..., 0, 0, 0]]], dtype=uint8)"
      ]
     },
     "execution_count": 5,
     "metadata": {},
     "output_type": "execute_result"
    }
   ],
   "source": [
    "train_images"
   ]
  },
  {
   "cell_type": "code",
   "execution_count": 6,
   "metadata": {},
   "outputs": [],
   "source": [
    "train_images=train_images/255.0\n",
    "test_images=test_images/255.0"
   ]
  },
  {
   "cell_type": "code",
   "execution_count": 7,
   "metadata": {},
   "outputs": [
    {
     "data": {
      "text/plain": [
       "array([[0.        , 0.        , 0.        , 0.        , 0.        ,\n",
       "        0.        , 0.        , 0.        , 0.        , 0.        ,\n",
       "        0.        , 0.        , 0.        , 0.        , 0.        ,\n",
       "        0.        , 0.        , 0.        , 0.        , 0.        ,\n",
       "        0.        , 0.        , 0.        , 0.        , 0.        ,\n",
       "        0.        , 0.        , 0.        ],\n",
       "       [0.        , 0.        , 0.        , 0.        , 0.        ,\n",
       "        0.        , 0.        , 0.        , 0.        , 0.        ,\n",
       "        0.        , 0.        , 0.        , 0.        , 0.        ,\n",
       "        0.        , 0.        , 0.        , 0.        , 0.        ,\n",
       "        0.        , 0.        , 0.        , 0.        , 0.        ,\n",
       "        0.        , 0.        , 0.        ],\n",
       "       [0.        , 0.        , 0.        , 0.        , 0.        ,\n",
       "        0.        , 0.        , 0.        , 0.        , 0.        ,\n",
       "        0.        , 0.        , 0.        , 0.        , 0.        ,\n",
       "        0.        , 0.        , 0.        , 0.        , 0.        ,\n",
       "        0.        , 0.        , 0.        , 0.        , 0.        ,\n",
       "        0.        , 0.        , 0.        ],\n",
       "       [0.        , 0.        , 0.        , 0.        , 0.        ,\n",
       "        0.        , 0.        , 0.        , 0.        , 0.        ,\n",
       "        0.        , 0.        , 0.00392157, 0.        , 0.        ,\n",
       "        0.05098039, 0.28627451, 0.        , 0.        , 0.00392157,\n",
       "        0.01568627, 0.        , 0.        , 0.        , 0.        ,\n",
       "        0.00392157, 0.00392157, 0.        ],\n",
       "       [0.        , 0.        , 0.        , 0.        , 0.        ,\n",
       "        0.        , 0.        , 0.        , 0.        , 0.        ,\n",
       "        0.        , 0.        , 0.01176471, 0.        , 0.14117647,\n",
       "        0.53333333, 0.49803922, 0.24313725, 0.21176471, 0.        ,\n",
       "        0.        , 0.        , 0.00392157, 0.01176471, 0.01568627,\n",
       "        0.        , 0.        , 0.01176471],\n",
       "       [0.        , 0.        , 0.        , 0.        , 0.        ,\n",
       "        0.        , 0.        , 0.        , 0.        , 0.        ,\n",
       "        0.        , 0.        , 0.02352941, 0.        , 0.4       ,\n",
       "        0.8       , 0.69019608, 0.5254902 , 0.56470588, 0.48235294,\n",
       "        0.09019608, 0.        , 0.        , 0.        , 0.        ,\n",
       "        0.04705882, 0.03921569, 0.        ],\n",
       "       [0.        , 0.        , 0.        , 0.        , 0.        ,\n",
       "        0.        , 0.        , 0.        , 0.        , 0.        ,\n",
       "        0.        , 0.        , 0.        , 0.        , 0.60784314,\n",
       "        0.9254902 , 0.81176471, 0.69803922, 0.41960784, 0.61176471,\n",
       "        0.63137255, 0.42745098, 0.25098039, 0.09019608, 0.30196078,\n",
       "        0.50980392, 0.28235294, 0.05882353],\n",
       "       [0.        , 0.        , 0.        , 0.        , 0.        ,\n",
       "        0.        , 0.        , 0.        , 0.        , 0.        ,\n",
       "        0.        , 0.00392157, 0.        , 0.27058824, 0.81176471,\n",
       "        0.8745098 , 0.85490196, 0.84705882, 0.84705882, 0.63921569,\n",
       "        0.49803922, 0.4745098 , 0.47843137, 0.57254902, 0.55294118,\n",
       "        0.34509804, 0.6745098 , 0.25882353],\n",
       "       [0.        , 0.        , 0.        , 0.        , 0.        ,\n",
       "        0.        , 0.        , 0.        , 0.        , 0.00392157,\n",
       "        0.00392157, 0.00392157, 0.        , 0.78431373, 0.90980392,\n",
       "        0.90980392, 0.91372549, 0.89803922, 0.8745098 , 0.8745098 ,\n",
       "        0.84313725, 0.83529412, 0.64313725, 0.49803922, 0.48235294,\n",
       "        0.76862745, 0.89803922, 0.        ],\n",
       "       [0.        , 0.        , 0.        , 0.        , 0.        ,\n",
       "        0.        , 0.        , 0.        , 0.        , 0.        ,\n",
       "        0.        , 0.        , 0.        , 0.71764706, 0.88235294,\n",
       "        0.84705882, 0.8745098 , 0.89411765, 0.92156863, 0.89019608,\n",
       "        0.87843137, 0.87058824, 0.87843137, 0.86666667, 0.8745098 ,\n",
       "        0.96078431, 0.67843137, 0.        ],\n",
       "       [0.        , 0.        , 0.        , 0.        , 0.        ,\n",
       "        0.        , 0.        , 0.        , 0.        , 0.        ,\n",
       "        0.        , 0.        , 0.        , 0.75686275, 0.89411765,\n",
       "        0.85490196, 0.83529412, 0.77647059, 0.70588235, 0.83137255,\n",
       "        0.82352941, 0.82745098, 0.83529412, 0.8745098 , 0.8627451 ,\n",
       "        0.95294118, 0.79215686, 0.        ],\n",
       "       [0.        , 0.        , 0.        , 0.        , 0.        ,\n",
       "        0.        , 0.        , 0.        , 0.        , 0.00392157,\n",
       "        0.01176471, 0.        , 0.04705882, 0.85882353, 0.8627451 ,\n",
       "        0.83137255, 0.85490196, 0.75294118, 0.6627451 , 0.89019608,\n",
       "        0.81568627, 0.85490196, 0.87843137, 0.83137255, 0.88627451,\n",
       "        0.77254902, 0.81960784, 0.20392157],\n",
       "       [0.        , 0.        , 0.        , 0.        , 0.        ,\n",
       "        0.        , 0.        , 0.        , 0.        , 0.        ,\n",
       "        0.02352941, 0.        , 0.38823529, 0.95686275, 0.87058824,\n",
       "        0.8627451 , 0.85490196, 0.79607843, 0.77647059, 0.86666667,\n",
       "        0.84313725, 0.83529412, 0.87058824, 0.8627451 , 0.96078431,\n",
       "        0.46666667, 0.65490196, 0.21960784],\n",
       "       [0.        , 0.        , 0.        , 0.        , 0.        ,\n",
       "        0.        , 0.        , 0.        , 0.        , 0.01568627,\n",
       "        0.        , 0.        , 0.21568627, 0.9254902 , 0.89411765,\n",
       "        0.90196078, 0.89411765, 0.94117647, 0.90980392, 0.83529412,\n",
       "        0.85490196, 0.8745098 , 0.91764706, 0.85098039, 0.85098039,\n",
       "        0.81960784, 0.36078431, 0.        ],\n",
       "       [0.        , 0.        , 0.00392157, 0.01568627, 0.02352941,\n",
       "        0.02745098, 0.00784314, 0.        , 0.        , 0.        ,\n",
       "        0.        , 0.        , 0.92941176, 0.88627451, 0.85098039,\n",
       "        0.8745098 , 0.87058824, 0.85882353, 0.87058824, 0.86666667,\n",
       "        0.84705882, 0.8745098 , 0.89803922, 0.84313725, 0.85490196,\n",
       "        1.        , 0.30196078, 0.        ],\n",
       "       [0.        , 0.01176471, 0.        , 0.        , 0.        ,\n",
       "        0.        , 0.        , 0.        , 0.        , 0.24313725,\n",
       "        0.56862745, 0.8       , 0.89411765, 0.81176471, 0.83529412,\n",
       "        0.86666667, 0.85490196, 0.81568627, 0.82745098, 0.85490196,\n",
       "        0.87843137, 0.8745098 , 0.85882353, 0.84313725, 0.87843137,\n",
       "        0.95686275, 0.62352941, 0.        ],\n",
       "       [0.        , 0.        , 0.        , 0.        , 0.07058824,\n",
       "        0.17254902, 0.32156863, 0.41960784, 0.74117647, 0.89411765,\n",
       "        0.8627451 , 0.87058824, 0.85098039, 0.88627451, 0.78431373,\n",
       "        0.80392157, 0.82745098, 0.90196078, 0.87843137, 0.91764706,\n",
       "        0.69019608, 0.7372549 , 0.98039216, 0.97254902, 0.91372549,\n",
       "        0.93333333, 0.84313725, 0.        ],\n",
       "       [0.        , 0.22352941, 0.73333333, 0.81568627, 0.87843137,\n",
       "        0.86666667, 0.87843137, 0.81568627, 0.8       , 0.83921569,\n",
       "        0.81568627, 0.81960784, 0.78431373, 0.62352941, 0.96078431,\n",
       "        0.75686275, 0.80784314, 0.8745098 , 1.        , 1.        ,\n",
       "        0.86666667, 0.91764706, 0.86666667, 0.82745098, 0.8627451 ,\n",
       "        0.90980392, 0.96470588, 0.        ],\n",
       "       [0.01176471, 0.79215686, 0.89411765, 0.87843137, 0.86666667,\n",
       "        0.82745098, 0.82745098, 0.83921569, 0.80392157, 0.80392157,\n",
       "        0.80392157, 0.8627451 , 0.94117647, 0.31372549, 0.58823529,\n",
       "        1.        , 0.89803922, 0.86666667, 0.7372549 , 0.60392157,\n",
       "        0.74901961, 0.82352941, 0.8       , 0.81960784, 0.87058824,\n",
       "        0.89411765, 0.88235294, 0.        ],\n",
       "       [0.38431373, 0.91372549, 0.77647059, 0.82352941, 0.87058824,\n",
       "        0.89803922, 0.89803922, 0.91764706, 0.97647059, 0.8627451 ,\n",
       "        0.76078431, 0.84313725, 0.85098039, 0.94509804, 0.25490196,\n",
       "        0.28627451, 0.41568627, 0.45882353, 0.65882353, 0.85882353,\n",
       "        0.86666667, 0.84313725, 0.85098039, 0.8745098 , 0.8745098 ,\n",
       "        0.87843137, 0.89803922, 0.11372549],\n",
       "       [0.29411765, 0.8       , 0.83137255, 0.8       , 0.75686275,\n",
       "        0.80392157, 0.82745098, 0.88235294, 0.84705882, 0.7254902 ,\n",
       "        0.77254902, 0.80784314, 0.77647059, 0.83529412, 0.94117647,\n",
       "        0.76470588, 0.89019608, 0.96078431, 0.9372549 , 0.8745098 ,\n",
       "        0.85490196, 0.83137255, 0.81960784, 0.87058824, 0.8627451 ,\n",
       "        0.86666667, 0.90196078, 0.2627451 ],\n",
       "       [0.18823529, 0.79607843, 0.71764706, 0.76078431, 0.83529412,\n",
       "        0.77254902, 0.7254902 , 0.74509804, 0.76078431, 0.75294118,\n",
       "        0.79215686, 0.83921569, 0.85882353, 0.86666667, 0.8627451 ,\n",
       "        0.9254902 , 0.88235294, 0.84705882, 0.78039216, 0.80784314,\n",
       "        0.72941176, 0.70980392, 0.69411765, 0.6745098 , 0.70980392,\n",
       "        0.80392157, 0.80784314, 0.45098039],\n",
       "       [0.        , 0.47843137, 0.85882353, 0.75686275, 0.70196078,\n",
       "        0.67058824, 0.71764706, 0.76862745, 0.8       , 0.82352941,\n",
       "        0.83529412, 0.81176471, 0.82745098, 0.82352941, 0.78431373,\n",
       "        0.76862745, 0.76078431, 0.74901961, 0.76470588, 0.74901961,\n",
       "        0.77647059, 0.75294118, 0.69019608, 0.61176471, 0.65490196,\n",
       "        0.69411765, 0.82352941, 0.36078431],\n",
       "       [0.        , 0.        , 0.29019608, 0.74117647, 0.83137255,\n",
       "        0.74901961, 0.68627451, 0.6745098 , 0.68627451, 0.70980392,\n",
       "        0.7254902 , 0.7372549 , 0.74117647, 0.7372549 , 0.75686275,\n",
       "        0.77647059, 0.8       , 0.81960784, 0.82352941, 0.82352941,\n",
       "        0.82745098, 0.7372549 , 0.7372549 , 0.76078431, 0.75294118,\n",
       "        0.84705882, 0.66666667, 0.        ],\n",
       "       [0.00784314, 0.        , 0.        , 0.        , 0.25882353,\n",
       "        0.78431373, 0.87058824, 0.92941176, 0.9372549 , 0.94901961,\n",
       "        0.96470588, 0.95294118, 0.95686275, 0.86666667, 0.8627451 ,\n",
       "        0.75686275, 0.74901961, 0.70196078, 0.71372549, 0.71372549,\n",
       "        0.70980392, 0.69019608, 0.65098039, 0.65882353, 0.38823529,\n",
       "        0.22745098, 0.        , 0.        ],\n",
       "       [0.        , 0.        , 0.        , 0.        , 0.        ,\n",
       "        0.        , 0.        , 0.15686275, 0.23921569, 0.17254902,\n",
       "        0.28235294, 0.16078431, 0.1372549 , 0.        , 0.        ,\n",
       "        0.        , 0.        , 0.        , 0.        , 0.        ,\n",
       "        0.        , 0.        , 0.        , 0.        , 0.        ,\n",
       "        0.        , 0.        , 0.        ],\n",
       "       [0.        , 0.        , 0.        , 0.        , 0.        ,\n",
       "        0.        , 0.        , 0.        , 0.        , 0.        ,\n",
       "        0.        , 0.        , 0.        , 0.        , 0.        ,\n",
       "        0.        , 0.        , 0.        , 0.        , 0.        ,\n",
       "        0.        , 0.        , 0.        , 0.        , 0.        ,\n",
       "        0.        , 0.        , 0.        ],\n",
       "       [0.        , 0.        , 0.        , 0.        , 0.        ,\n",
       "        0.        , 0.        , 0.        , 0.        , 0.        ,\n",
       "        0.        , 0.        , 0.        , 0.        , 0.        ,\n",
       "        0.        , 0.        , 0.        , 0.        , 0.        ,\n",
       "        0.        , 0.        , 0.        , 0.        , 0.        ,\n",
       "        0.        , 0.        , 0.        ]])"
      ]
     },
     "execution_count": 7,
     "metadata": {},
     "output_type": "execute_result"
    }
   ],
   "source": [
    "train_images[0]"
   ]
  },
  {
   "cell_type": "code",
   "execution_count": 8,
   "metadata": {},
   "outputs": [
    {
     "data": {
      "text/plain": [
       "(28, 28)"
      ]
     },
     "execution_count": 8,
     "metadata": {},
     "output_type": "execute_result"
    }
   ],
   "source": [
    "train_images[0].shape"
   ]
  },
  {
   "cell_type": "code",
   "execution_count": 9,
   "metadata": {},
   "outputs": [],
   "source": [
    "train_images=train_images.reshape(len(train_images),28,28,1)\n",
    "test_images=test_images.reshape(len(test_images),28,28,1)"
   ]
  },
  {
   "cell_type": "code",
   "execution_count": 10,
   "metadata": {},
   "outputs": [],
   "source": [
    "def build_model(hp):  \n",
    "  model = keras.Sequential([\n",
    "    keras.layers.Conv2D(\n",
    "        filters=hp.Int('conv_1_filter', min_value=32, max_value=128, step=16),\n",
    "        kernel_size=hp.Choice('conv_1_kernel', values = [3,5]),\n",
    "        activation='relu',\n",
    "        input_shape=(28,28,1)\n",
    "    ),\n",
    "    keras.layers.Conv2D(\n",
    "        filters=hp.Int('conv_2_filter', min_value=32, max_value=64, step=16),\n",
    "        kernel_size=hp.Choice('conv_2_kernel', values = [3,5]),\n",
    "        activation='relu'\n",
    "    ),\n",
    "    keras.layers.Flatten(),\n",
    "    keras.layers.Dense(\n",
    "        units=hp.Int('dense_1_units', min_value=32, max_value=128, step=16),\n",
    "        activation='relu'\n",
    "    ),\n",
    "    keras.layers.Dense(10, activation='softmax')\n",
    "  ])\n",
    "  \n",
    "  model.compile(optimizer=keras.optimizers.Adam(hp.Choice('learning_rate', values=[1e-2, 1e-3])),\n",
    "              loss='sparse_categorical_crossentropy',\n",
    "              metrics=['accuracy'])\n",
    "  \n",
    "  return model"
   ]
  },
  {
   "cell_type": "code",
   "execution_count": 11,
   "metadata": {},
   "outputs": [],
   "source": [
    "from kerastuner import RandomSearch\n",
    "from kerastuner.engine.hyperparameters import HyperParameters"
   ]
  },
  {
   "cell_type": "code",
   "execution_count": 12,
   "metadata": {},
   "outputs": [],
   "source": [
    "tuner_search=RandomSearch(build_model,\n",
    "                          objective='val_accuracy',\n",
    "                          max_trials=5,directory='output',project_name=\"Mnist Fashion\")"
   ]
  },
  {
   "cell_type": "code",
   "execution_count": 13,
   "metadata": {},
   "outputs": [
    {
     "name": "stdout",
     "output_type": "stream",
     "text": [
      "Train on 54000 samples, validate on 6000 samples\n",
      "Epoch 1/3\n",
      "54000/54000 [==============================] - ETA: 1:46:58 - loss: 2.2660 - accuracy: 0.093 - ETA: 9:48 - loss: 1.9602 - accuracy: 0.3665  - ETA: 6:02 - loss: 1.6199 - accuracy: 0.44 - ETA: 4:23 - loss: 1.4789 - accuracy: 0.49 - ETA: 3:09 - loss: 1.3042 - accuracy: 0.55 - ETA: 2:35 - loss: 1.2000 - accuracy: 0.58 - ETA: 2:02 - loss: 1.1161 - accuracy: 0.60 - ETA: 1:42 - loss: 1.0446 - accuracy: 0.62 - ETA: 1:26 - loss: 0.9897 - accuracy: 0.65 - ETA: 1:13 - loss: 0.9403 - accuracy: 0.66 - ETA: 1:03 - loss: 0.9026 - accuracy: 0.67 - ETA: 56s - loss: 0.8704 - accuracy: 0.6860 - ETA: 50s - loss: 0.8457 - accuracy: 0.695 - ETA: 46s - loss: 0.8163 - accuracy: 0.704 - ETA: 43s - loss: 0.7986 - accuracy: 0.711 - ETA: 40s - loss: 0.7785 - accuracy: 0.719 - ETA: 37s - loss: 0.7665 - accuracy: 0.723 - ETA: 35s - loss: 0.7496 - accuracy: 0.729 - ETA: 33s - loss: 0.7396 - accuracy: 0.732 - ETA: 31s - loss: 0.7282 - accuracy: 0.737 - ETA: 29s - loss: 0.7206 - accuracy: 0.739 - ETA: 28s - loss: 0.7142 - accuracy: 0.742 - ETA: 27s - loss: 0.6988 - accuracy: 0.748 - ETA: 25s - loss: 0.6909 - accuracy: 0.750 - ETA: 24s - loss: 0.6840 - accuracy: 0.753 - ETA: 23s - loss: 0.6770 - accuracy: 0.756 - ETA: 22s - loss: 0.6684 - accuracy: 0.759 - ETA: 22s - loss: 0.6583 - accuracy: 0.763 - ETA: 21s - loss: 0.6499 - accuracy: 0.766 - ETA: 20s - loss: 0.6418 - accuracy: 0.768 - ETA: 19s - loss: 0.6345 - accuracy: 0.771 - ETA: 18s - loss: 0.6292 - accuracy: 0.773 - ETA: 18s - loss: 0.6214 - accuracy: 0.776 - ETA: 17s - loss: 0.6170 - accuracy: 0.777 - ETA: 17s - loss: 0.6116 - accuracy: 0.780 - ETA: 16s - loss: 0.6079 - accuracy: 0.781 - ETA: 16s - loss: 0.6019 - accuracy: 0.783 - ETA: 15s - loss: 0.5965 - accuracy: 0.784 - ETA: 15s - loss: 0.5939 - accuracy: 0.785 - ETA: 14s - loss: 0.5894 - accuracy: 0.787 - ETA: 14s - loss: 0.5837 - accuracy: 0.789 - ETA: 13s - loss: 0.5777 - accuracy: 0.791 - ETA: 13s - loss: 0.5742 - accuracy: 0.793 - ETA: 13s - loss: 0.5675 - accuracy: 0.795 - ETA: 12s - loss: 0.5659 - accuracy: 0.796 - ETA: 12s - loss: 0.5615 - accuracy: 0.798 - ETA: 11s - loss: 0.5581 - accuracy: 0.799 - ETA: 11s - loss: 0.5560 - accuracy: 0.800 - ETA: 11s - loss: 0.5537 - accuracy: 0.800 - ETA: 11s - loss: 0.5476 - accuracy: 0.803 - ETA: 10s - loss: 0.5445 - accuracy: 0.804 - ETA: 10s - loss: 0.5417 - accuracy: 0.805 - ETA: 10s - loss: 0.5381 - accuracy: 0.807 - ETA: 9s - loss: 0.5346 - accuracy: 0.808 - ETA: 9s - loss: 0.5333 - accuracy: 0.80 - ETA: 9s - loss: 0.5314 - accuracy: 0.80 - ETA: 9s - loss: 0.5283 - accuracy: 0.81 - ETA: 9s - loss: 0.5248 - accuracy: 0.81 - ETA: 8s - loss: 0.5223 - accuracy: 0.81 - ETA: 8s - loss: 0.5199 - accuracy: 0.81 - ETA: 8s - loss: 0.5173 - accuracy: 0.81 - ETA: 8s - loss: 0.5149 - accuracy: 0.81 - ETA: 7s - loss: 0.5120 - accuracy: 0.81 - ETA: 7s - loss: 0.5106 - accuracy: 0.81 - ETA: 7s - loss: 0.5089 - accuracy: 0.81 - ETA: 7s - loss: 0.5072 - accuracy: 0.81 - ETA: 7s - loss: 0.5048 - accuracy: 0.81 - ETA: 7s - loss: 0.5021 - accuracy: 0.81 - ETA: 6s - loss: 0.4996 - accuracy: 0.82 - ETA: 6s - loss: 0.4973 - accuracy: 0.82 - ETA: 6s - loss: 0.4943 - accuracy: 0.82 - ETA: 6s - loss: 0.4918 - accuracy: 0.82 - ETA: 6s - loss: 0.4904 - accuracy: 0.82 - ETA: 6s - loss: 0.4884 - accuracy: 0.82 - ETA: 5s - loss: 0.4861 - accuracy: 0.82 - ETA: 5s - loss: 0.4839 - accuracy: 0.82 - ETA: 5s - loss: 0.4831 - accuracy: 0.82 - ETA: 5s - loss: 0.4826 - accuracy: 0.82 - ETA: 5s - loss: 0.4813 - accuracy: 0.82 - ETA: 5s - loss: 0.4794 - accuracy: 0.82 - ETA: 5s - loss: 0.4779 - accuracy: 0.82 - ETA: 5s - loss: 0.4759 - accuracy: 0.82 - ETA: 4s - loss: 0.4749 - accuracy: 0.82 - ETA: 4s - loss: 0.4736 - accuracy: 0.82 - ETA: 4s - loss: 0.4720 - accuracy: 0.82 - ETA: 4s - loss: 0.4715 - accuracy: 0.82 - ETA: 4s - loss: 0.4711 - accuracy: 0.82 - ETA: 4s - loss: 0.4702 - accuracy: 0.82 - ETA: 4s - loss: 0.4685 - accuracy: 0.83 - ETA: 4s - loss: 0.4664 - accuracy: 0.83 - ETA: 4s - loss: 0.4652 - accuracy: 0.83 - ETA: 4s - loss: 0.4634 - accuracy: 0.83 - ETA: 3s - loss: 0.4615 - accuracy: 0.83 - ETA: 3s - loss: 0.4601 - accuracy: 0.83 - ETA: 3s - loss: 0.4586 - accuracy: 0.83 - ETA: 3s - loss: 0.4572 - accuracy: 0.83 - ETA: 3s - loss: 0.4559 - accuracy: 0.83 - ETA: 3s - loss: 0.4543 - accuracy: 0.83 - ETA: 3s - loss: 0.4527 - accuracy: 0.83 - ETA: 3s - loss: 0.4518 - accuracy: 0.83 - ETA: 3s - loss: 0.4509 - accuracy: 0.83 - ETA: 2s - loss: 0.4495 - accuracy: 0.83 - ETA: 2s - loss: 0.4488 - accuracy: 0.83 - ETA: 2s - loss: 0.4473 - accuracy: 0.83 - ETA: 2s - loss: 0.4460 - accuracy: 0.83 - ETA: 2s - loss: 0.4455 - accuracy: 0.83 - ETA: 2s - loss: 0.4448 - accuracy: 0.83 - ETA: 2s - loss: 0.4438 - accuracy: 0.83 - ETA: 2s - loss: 0.4426 - accuracy: 0.83 - ETA: 2s - loss: 0.4419 - accuracy: 0.83 - ETA: 2s - loss: 0.4409 - accuracy: 0.84 - ETA: 1s - loss: 0.4394 - accuracy: 0.84 - ETA: 1s - loss: 0.4383 - accuracy: 0.84 - ETA: 1s - loss: 0.4371 - accuracy: 0.84 - ETA: 1s - loss: 0.4362 - accuracy: 0.84 - ETA: 1s - loss: 0.4356 - accuracy: 0.84 - ETA: 1s - loss: 0.4342 - accuracy: 0.84 - ETA: 1s - loss: 0.4332 - accuracy: 0.84 - ETA: 1s - loss: 0.4322 - accuracy: 0.84 - ETA: 1s - loss: 0.4311 - accuracy: 0.84 - ETA: 1s - loss: 0.4302 - accuracy: 0.84 - ETA: 0s - loss: 0.4291 - accuracy: 0.84 - ETA: 0s - loss: 0.4280 - accuracy: 0.84 - ETA: 0s - loss: 0.4272 - accuracy: 0.84 - ETA: 0s - loss: 0.4263 - accuracy: 0.84 - ETA: 0s - loss: 0.4254 - accuracy: 0.84 - ETA: 0s - loss: 0.4244 - accuracy: 0.84 - ETA: 0s - loss: 0.4236 - accuracy: 0.84 - ETA: 0s - loss: 0.4231 - accuracy: 0.84 - ETA: 0s - loss: 0.4228 - accuracy: 0.84 - ETA: 0s - loss: 0.4218 - accuracy: 0.84 - ETA: 0s - loss: 0.4213 - accuracy: 0.84 - ETA: 0s - loss: 0.4201 - accuracy: 0.84 - 11s 209us/sample - loss: 0.4199 - accuracy: 0.8476 - val_loss: 0.3204 - val_accuracy: 0.8820\n",
      "Epoch 2/3\n",
      "54000/54000 [==============================] - ETA: 11s - loss: 0.2296 - accuracy: 0.906 - ETA: 6s - loss: 0.2903 - accuracy: 0.879 - ETA: 6s - loss: 0.2778 - accuracy: 0.89 - ETA: 6s - loss: 0.2779 - accuracy: 0.89 - ETA: 6s - loss: 0.2859 - accuracy: 0.89 - ETA: 6s - loss: 0.2701 - accuracy: 0.90 - ETA: 6s - loss: 0.2744 - accuracy: 0.89 - ETA: 6s - loss: 0.2779 - accuracy: 0.89 - ETA: 6s - loss: 0.2784 - accuracy: 0.89 - ETA: 6s - loss: 0.2858 - accuracy: 0.89 - ETA: 6s - loss: 0.2851 - accuracy: 0.89 - ETA: 6s - loss: 0.2887 - accuracy: 0.89 - ETA: 6s - loss: 0.2898 - accuracy: 0.89 - ETA: 6s - loss: 0.2908 - accuracy: 0.89 - ETA: 6s - loss: 0.2948 - accuracy: 0.89 - ETA: 6s - loss: 0.2927 - accuracy: 0.89 - ETA: 6s - loss: 0.2895 - accuracy: 0.89 - ETA: 6s - loss: 0.2882 - accuracy: 0.89 - ETA: 5s - loss: 0.2903 - accuracy: 0.89 - ETA: 5s - loss: 0.2899 - accuracy: 0.89 - ETA: 5s - loss: 0.2909 - accuracy: 0.89 - ETA: 5s - loss: 0.2894 - accuracy: 0.89 - ETA: 5s - loss: 0.2873 - accuracy: 0.89 - ETA: 5s - loss: 0.2853 - accuracy: 0.89 - ETA: 5s - loss: 0.2829 - accuracy: 0.89 - ETA: 5s - loss: 0.2828 - accuracy: 0.89 - ETA: 5s - loss: 0.2831 - accuracy: 0.89 - ETA: 5s - loss: 0.2829 - accuracy: 0.89 - ETA: 5s - loss: 0.2807 - accuracy: 0.89 - ETA: 5s - loss: 0.2801 - accuracy: 0.89 - ETA: 5s - loss: 0.2807 - accuracy: 0.89 - ETA: 5s - loss: 0.2811 - accuracy: 0.89 - ETA: 5s - loss: 0.2823 - accuracy: 0.89 - ETA: 4s - loss: 0.2820 - accuracy: 0.89 - ETA: 4s - loss: 0.2832 - accuracy: 0.89 - ETA: 4s - loss: 0.2833 - accuracy: 0.89 - ETA: 4s - loss: 0.2843 - accuracy: 0.89 - ETA: 4s - loss: 0.2834 - accuracy: 0.89 - ETA: 4s - loss: 0.2824 - accuracy: 0.89 - ETA: 4s - loss: 0.2838 - accuracy: 0.89 - ETA: 4s - loss: 0.2837 - accuracy: 0.89 - ETA: 4s - loss: 0.2845 - accuracy: 0.89 - ETA: 4s - loss: 0.2844 - accuracy: 0.89 - ETA: 4s - loss: 0.2837 - accuracy: 0.89 - ETA: 4s - loss: 0.2832 - accuracy: 0.89 - ETA: 4s - loss: 0.2834 - accuracy: 0.89 - ETA: 4s - loss: 0.2832 - accuracy: 0.89 - ETA: 4s - loss: 0.2828 - accuracy: 0.89 - ETA: 4s - loss: 0.2830 - accuracy: 0.89 - ETA: 4s - loss: 0.2840 - accuracy: 0.89 - ETA: 4s - loss: 0.2847 - accuracy: 0.89 - ETA: 3s - loss: 0.2842 - accuracy: 0.89 - ETA: 3s - loss: 0.2837 - accuracy: 0.89 - ETA: 3s - loss: 0.2840 - accuracy: 0.89 - ETA: 3s - loss: 0.2845 - accuracy: 0.89 - ETA: 3s - loss: 0.2849 - accuracy: 0.89 - ETA: 3s - loss: 0.2859 - accuracy: 0.89 - ETA: 3s - loss: 0.2857 - accuracy: 0.89 - ETA: 3s - loss: 0.2858 - accuracy: 0.89 - ETA: 3s - loss: 0.2854 - accuracy: 0.89 - ETA: 3s - loss: 0.2849 - accuracy: 0.89 - ETA: 3s - loss: 0.2845 - accuracy: 0.89 - ETA: 3s - loss: 0.2840 - accuracy: 0.89 - ETA: 3s - loss: 0.2833 - accuracy: 0.89 - ETA: 3s - loss: 0.2833 - accuracy: 0.89 - ETA: 3s - loss: 0.2833 - accuracy: 0.89 - ETA: 3s - loss: 0.2833 - accuracy: 0.89 - ETA: 3s - loss: 0.2833 - accuracy: 0.89 - ETA: 3s - loss: 0.2821 - accuracy: 0.89 - ETA: 3s - loss: 0.2820 - accuracy: 0.89 - ETA: 3s - loss: 0.2821 - accuracy: 0.89 - ETA: 3s - loss: 0.2836 - accuracy: 0.89 - ETA: 3s - loss: 0.2834 - accuracy: 0.89 - ETA: 3s - loss: 0.2834 - accuracy: 0.89 - ETA: 2s - loss: 0.2837 - accuracy: 0.89 - ETA: 2s - loss: 0.2835 - accuracy: 0.89 - ETA: 2s - loss: 0.2832 - accuracy: 0.89 - ETA: 2s - loss: 0.2832 - accuracy: 0.89 - ETA: 2s - loss: 0.2825 - accuracy: 0.89 - ETA: 2s - loss: 0.2824 - accuracy: 0.89 - ETA: 2s - loss: 0.2830 - accuracy: 0.89 - ETA: 2s - loss: 0.2831 - accuracy: 0.89 - ETA: 2s - loss: 0.2835 - accuracy: 0.89 - ETA: 2s - loss: 0.2830 - accuracy: 0.89 - ETA: 2s - loss: 0.2827 - accuracy: 0.89 - ETA: 2s - loss: 0.2817 - accuracy: 0.89 - ETA: 2s - loss: 0.2819 - accuracy: 0.89 - ETA: 2s - loss: 0.2810 - accuracy: 0.89 - ETA: 2s - loss: 0.2809 - accuracy: 0.89 - ETA: 2s - loss: 0.2806 - accuracy: 0.89 - ETA: 2s - loss: 0.2805 - accuracy: 0.89 - ETA: 2s - loss: 0.2802 - accuracy: 0.89 - ETA: 1s - loss: 0.2804 - accuracy: 0.89 - ETA: 1s - loss: 0.2808 - accuracy: 0.89 - ETA: 1s - loss: 0.2806 - accuracy: 0.89 - ETA: 1s - loss: 0.2798 - accuracy: 0.89 - ETA: 1s - loss: 0.2796 - accuracy: 0.89 - ETA: 1s - loss: 0.2794 - accuracy: 0.89 - ETA: 1s - loss: 0.2796 - accuracy: 0.89 - ETA: 1s - loss: 0.2792 - accuracy: 0.89 - ETA: 1s - loss: 0.2785 - accuracy: 0.89 - ETA: 1s - loss: 0.2781 - accuracy: 0.89 - ETA: 1s - loss: 0.2777 - accuracy: 0.89 - ETA: 1s - loss: 0.2778 - accuracy: 0.89 - ETA: 1s - loss: 0.2773 - accuracy: 0.89 - ETA: 1s - loss: 0.2771 - accuracy: 0.89 - ETA: 1s - loss: 0.2770 - accuracy: 0.89 - ETA: 1s - loss: 0.2769 - accuracy: 0.89 - ETA: 1s - loss: 0.2765 - accuracy: 0.89 - ETA: 1s - loss: 0.2764 - accuracy: 0.89 - ETA: 0s - loss: 0.2761 - accuracy: 0.89 - ETA: 0s - loss: 0.2759 - accuracy: 0.89 - ETA: 0s - loss: 0.2760 - accuracy: 0.89 - ETA: 0s - loss: 0.2758 - accuracy: 0.89 - ETA: 0s - loss: 0.2757 - accuracy: 0.89 - ETA: 0s - loss: 0.2754 - accuracy: 0.89 - ETA: 0s - loss: 0.2748 - accuracy: 0.89 - ETA: 0s - loss: 0.2748 - accuracy: 0.89 - ETA: 0s - loss: 0.2740 - accuracy: 0.89 - ETA: 0s - loss: 0.2742 - accuracy: 0.89 - ETA: 0s - loss: 0.2741 - accuracy: 0.89 - ETA: 0s - loss: 0.2741 - accuracy: 0.89 - ETA: 0s - loss: 0.2746 - accuracy: 0.89 - ETA: 0s - loss: 0.2742 - accuracy: 0.89 - ETA: 0s - loss: 0.2737 - accuracy: 0.89 - ETA: 0s - loss: 0.2741 - accuracy: 0.89 - ETA: 0s - loss: 0.2738 - accuracy: 0.89 - ETA: 0s - loss: 0.2743 - accuracy: 0.89 - 7s 133us/sample - loss: 0.2743 - accuracy: 0.8985 - val_loss: 0.2946 - val_accuracy: 0.8930\n",
      "Epoch 3/3\n"
     ]
    },
    {
     "name": "stdout",
     "output_type": "stream",
     "text": [
      "54000/54000 [==============================] - ETA: 9s - loss: 0.2749 - accuracy: 0.93 - ETA: 6s - loss: 0.2388 - accuracy: 0.90 - ETA: 6s - loss: 0.2329 - accuracy: 0.91 - ETA: 6s - loss: 0.2171 - accuracy: 0.91 - ETA: 6s - loss: 0.2209 - accuracy: 0.91 - ETA: 6s - loss: 0.2127 - accuracy: 0.92 - ETA: 6s - loss: 0.2094 - accuracy: 0.92 - ETA: 6s - loss: 0.2138 - accuracy: 0.92 - ETA: 6s - loss: 0.2122 - accuracy: 0.92 - ETA: 6s - loss: 0.2163 - accuracy: 0.92 - ETA: 6s - loss: 0.2166 - accuracy: 0.92 - ETA: 6s - loss: 0.2187 - accuracy: 0.92 - ETA: 6s - loss: 0.2201 - accuracy: 0.92 - ETA: 6s - loss: 0.2193 - accuracy: 0.92 - ETA: 6s - loss: 0.2163 - accuracy: 0.92 - ETA: 6s - loss: 0.2149 - accuracy: 0.92 - ETA: 6s - loss: 0.2109 - accuracy: 0.92 - ETA: 6s - loss: 0.2124 - accuracy: 0.92 - ETA: 5s - loss: 0.2138 - accuracy: 0.92 - ETA: 5s - loss: 0.2154 - accuracy: 0.92 - ETA: 5s - loss: 0.2125 - accuracy: 0.92 - ETA: 5s - loss: 0.2126 - accuracy: 0.92 - ETA: 5s - loss: 0.2159 - accuracy: 0.92 - ETA: 5s - loss: 0.2170 - accuracy: 0.92 - ETA: 5s - loss: 0.2151 - accuracy: 0.92 - ETA: 5s - loss: 0.2156 - accuracy: 0.92 - ETA: 5s - loss: 0.2165 - accuracy: 0.92 - ETA: 5s - loss: 0.2181 - accuracy: 0.92 - ETA: 5s - loss: 0.2183 - accuracy: 0.91 - ETA: 5s - loss: 0.2208 - accuracy: 0.91 - ETA: 5s - loss: 0.2211 - accuracy: 0.91 - ETA: 5s - loss: 0.2223 - accuracy: 0.91 - ETA: 4s - loss: 0.2207 - accuracy: 0.91 - ETA: 4s - loss: 0.2208 - accuracy: 0.91 - ETA: 4s - loss: 0.2195 - accuracy: 0.91 - ETA: 4s - loss: 0.2199 - accuracy: 0.91 - ETA: 4s - loss: 0.2202 - accuracy: 0.91 - ETA: 4s - loss: 0.2204 - accuracy: 0.91 - ETA: 4s - loss: 0.2192 - accuracy: 0.91 - ETA: 4s - loss: 0.2192 - accuracy: 0.91 - ETA: 4s - loss: 0.2202 - accuracy: 0.91 - ETA: 4s - loss: 0.2199 - accuracy: 0.91 - ETA: 4s - loss: 0.2217 - accuracy: 0.91 - ETA: 4s - loss: 0.2212 - accuracy: 0.91 - ETA: 4s - loss: 0.2216 - accuracy: 0.91 - ETA: 4s - loss: 0.2218 - accuracy: 0.91 - ETA: 4s - loss: 0.2219 - accuracy: 0.91 - ETA: 4s - loss: 0.2207 - accuracy: 0.91 - ETA: 4s - loss: 0.2203 - accuracy: 0.91 - ETA: 3s - loss: 0.2195 - accuracy: 0.91 - ETA: 3s - loss: 0.2190 - accuracy: 0.91 - ETA: 3s - loss: 0.2195 - accuracy: 0.91 - ETA: 3s - loss: 0.2199 - accuracy: 0.91 - ETA: 3s - loss: 0.2194 - accuracy: 0.91 - ETA: 3s - loss: 0.2195 - accuracy: 0.91 - ETA: 3s - loss: 0.2197 - accuracy: 0.91 - ETA: 3s - loss: 0.2194 - accuracy: 0.91 - ETA: 3s - loss: 0.2186 - accuracy: 0.91 - ETA: 3s - loss: 0.2186 - accuracy: 0.91 - ETA: 3s - loss: 0.2176 - accuracy: 0.91 - ETA: 3s - loss: 0.2182 - accuracy: 0.91 - ETA: 3s - loss: 0.2185 - accuracy: 0.91 - ETA: 3s - loss: 0.2183 - accuracy: 0.91 - ETA: 3s - loss: 0.2182 - accuracy: 0.91 - ETA: 3s - loss: 0.2178 - accuracy: 0.91 - ETA: 3s - loss: 0.2176 - accuracy: 0.91 - ETA: 3s - loss: 0.2178 - accuracy: 0.91 - ETA: 2s - loss: 0.2173 - accuracy: 0.91 - ETA: 2s - loss: 0.2178 - accuracy: 0.91 - ETA: 2s - loss: 0.2173 - accuracy: 0.91 - ETA: 2s - loss: 0.2169 - accuracy: 0.91 - ETA: 2s - loss: 0.2170 - accuracy: 0.91 - ETA: 2s - loss: 0.2170 - accuracy: 0.91 - ETA: 2s - loss: 0.2171 - accuracy: 0.91 - ETA: 2s - loss: 0.2175 - accuracy: 0.91 - ETA: 2s - loss: 0.2179 - accuracy: 0.91 - ETA: 2s - loss: 0.2182 - accuracy: 0.91 - ETA: 2s - loss: 0.2192 - accuracy: 0.91 - ETA: 2s - loss: 0.2187 - accuracy: 0.91 - ETA: 2s - loss: 0.2191 - accuracy: 0.91 - ETA: 2s - loss: 0.2202 - accuracy: 0.91 - ETA: 2s - loss: 0.2204 - accuracy: 0.91 - ETA: 2s - loss: 0.2203 - accuracy: 0.91 - ETA: 2s - loss: 0.2202 - accuracy: 0.91 - ETA: 2s - loss: 0.2198 - accuracy: 0.91 - ETA: 2s - loss: 0.2196 - accuracy: 0.91 - ETA: 1s - loss: 0.2191 - accuracy: 0.91 - ETA: 1s - loss: 0.2188 - accuracy: 0.91 - ETA: 1s - loss: 0.2195 - accuracy: 0.91 - ETA: 1s - loss: 0.2186 - accuracy: 0.91 - ETA: 1s - loss: 0.2184 - accuracy: 0.91 - ETA: 1s - loss: 0.2188 - accuracy: 0.91 - ETA: 1s - loss: 0.2184 - accuracy: 0.91 - ETA: 1s - loss: 0.2179 - accuracy: 0.91 - ETA: 1s - loss: 0.2178 - accuracy: 0.91 - ETA: 1s - loss: 0.2176 - accuracy: 0.91 - ETA: 1s - loss: 0.2178 - accuracy: 0.91 - ETA: 1s - loss: 0.2183 - accuracy: 0.91 - ETA: 1s - loss: 0.2181 - accuracy: 0.91 - ETA: 1s - loss: 0.2187 - accuracy: 0.91 - ETA: 1s - loss: 0.2193 - accuracy: 0.91 - ETA: 1s - loss: 0.2197 - accuracy: 0.91 - ETA: 1s - loss: 0.2200 - accuracy: 0.91 - ETA: 1s - loss: 0.2201 - accuracy: 0.91 - ETA: 1s - loss: 0.2205 - accuracy: 0.91 - ETA: 1s - loss: 0.2205 - accuracy: 0.91 - ETA: 0s - loss: 0.2206 - accuracy: 0.91 - ETA: 0s - loss: 0.2208 - accuracy: 0.91 - ETA: 0s - loss: 0.2209 - accuracy: 0.91 - ETA: 0s - loss: 0.2209 - accuracy: 0.91 - ETA: 0s - loss: 0.2208 - accuracy: 0.91 - ETA: 0s - loss: 0.2209 - accuracy: 0.91 - ETA: 0s - loss: 0.2211 - accuracy: 0.91 - ETA: 0s - loss: 0.2210 - accuracy: 0.91 - ETA: 0s - loss: 0.2206 - accuracy: 0.91 - ETA: 0s - loss: 0.2202 - accuracy: 0.91 - ETA: 0s - loss: 0.2204 - accuracy: 0.91 - ETA: 0s - loss: 0.2206 - accuracy: 0.91 - ETA: 0s - loss: 0.2204 - accuracy: 0.91 - ETA: 0s - loss: 0.2208 - accuracy: 0.91 - ETA: 0s - loss: 0.2209 - accuracy: 0.91 - ETA: 0s - loss: 0.2207 - accuracy: 0.91 - ETA: 0s - loss: 0.2204 - accuracy: 0.91 - ETA: 0s - loss: 0.2201 - accuracy: 0.91 - ETA: 0s - loss: 0.2200 - accuracy: 0.91 - 7s 129us/sample - loss: 0.2201 - accuracy: 0.9181 - val_loss: 0.2659 - val_accuracy: 0.9042\n"
     ]
    },
    {
     "data": {
      "text/html": [
       "<span style=\"color:#4527A0\"><h1 style=\"font-size:18px\">Trial complete</h1></span>"
      ],
      "text/plain": [
       "<IPython.core.display.HTML object>"
      ]
     },
     "metadata": {},
     "output_type": "display_data"
    },
    {
     "data": {
      "text/html": [
       "<span style=\"color:#4527A0\"><h1 style=\"font-size:18px\">Trial summary</h1></span>"
      ],
      "text/plain": [
       "<IPython.core.display.HTML object>"
      ]
     },
     "metadata": {},
     "output_type": "display_data"
    },
    {
     "data": {
      "text/html": [
       "<span style=\"color:cyan\"> |-Trial ID: 3f86b5eb94cb4ccb4aa3000ca66eccf0</span>"
      ],
      "text/plain": [
       "<IPython.core.display.HTML object>"
      ]
     },
     "metadata": {},
     "output_type": "display_data"
    },
    {
     "data": {
      "text/html": [
       "<span style=\"color:cyan\"> |-Score: 0.9041666388511658</span>"
      ],
      "text/plain": [
       "<IPython.core.display.HTML object>"
      ]
     },
     "metadata": {},
     "output_type": "display_data"
    },
    {
     "data": {
      "text/html": [
       "<span style=\"color:cyan\"> |-Best step: 0</span>"
      ],
      "text/plain": [
       "<IPython.core.display.HTML object>"
      ]
     },
     "metadata": {},
     "output_type": "display_data"
    },
    {
     "data": {
      "text/html": [
       "<span style=\"color:#7E57C2\"><h2 style=\"font-size:16px\">Hyperparameters:</h2></span>"
      ],
      "text/plain": [
       "<IPython.core.display.HTML object>"
      ]
     },
     "metadata": {},
     "output_type": "display_data"
    },
    {
     "data": {
      "text/html": [
       "<span style=\"color:cyan\"> |-conv_1_filter: 32</span>"
      ],
      "text/plain": [
       "<IPython.core.display.HTML object>"
      ]
     },
     "metadata": {},
     "output_type": "display_data"
    },
    {
     "data": {
      "text/html": [
       "<span style=\"color:blue\"> |-conv_1_kernel: 5</span>"
      ],
      "text/plain": [
       "<IPython.core.display.HTML object>"
      ]
     },
     "metadata": {},
     "output_type": "display_data"
    },
    {
     "data": {
      "text/html": [
       "<span style=\"color:cyan\"> |-conv_2_filter: 32</span>"
      ],
      "text/plain": [
       "<IPython.core.display.HTML object>"
      ]
     },
     "metadata": {},
     "output_type": "display_data"
    },
    {
     "data": {
      "text/html": [
       "<span style=\"color:blue\"> |-conv_2_kernel: 5</span>"
      ],
      "text/plain": [
       "<IPython.core.display.HTML object>"
      ]
     },
     "metadata": {},
     "output_type": "display_data"
    },
    {
     "data": {
      "text/html": [
       "<span style=\"color:cyan\"> |-dense_1_units: 128</span>"
      ],
      "text/plain": [
       "<IPython.core.display.HTML object>"
      ]
     },
     "metadata": {},
     "output_type": "display_data"
    },
    {
     "data": {
      "text/html": [
       "<span style=\"color:blue\"> |-learning_rate: 0.001</span>"
      ],
      "text/plain": [
       "<IPython.core.display.HTML object>"
      ]
     },
     "metadata": {},
     "output_type": "display_data"
    },
    {
     "name": "stdout",
     "output_type": "stream",
     "text": [
      "Train on 54000 samples, validate on 6000 samples\n",
      "Epoch 1/3\n",
      "54000/54000 [==============================] - ETA: 10:05 - loss: 2.3087 - accuracy: 0.093 - ETA: 57s - loss: 1.5907 - accuracy: 0.4766  - ETA: 33s - loss: 1.3179 - accuracy: 0.558 - ETA: 25s - loss: 1.1619 - accuracy: 0.615 - ETA: 21s - loss: 1.0514 - accuracy: 0.648 - ETA: 18s - loss: 0.9672 - accuracy: 0.675 - ETA: 16s - loss: 0.9048 - accuracy: 0.691 - ETA: 15s - loss: 0.8620 - accuracy: 0.701 - ETA: 14s - loss: 0.8321 - accuracy: 0.708 - ETA: 13s - loss: 0.8018 - accuracy: 0.718 - ETA: 12s - loss: 0.7754 - accuracy: 0.727 - ETA: 12s - loss: 0.7558 - accuracy: 0.734 - ETA: 11s - loss: 0.7394 - accuracy: 0.741 - ETA: 11s - loss: 0.7181 - accuracy: 0.747 - ETA: 11s - loss: 0.7018 - accuracy: 0.752 - ETA: 10s - loss: 0.6820 - accuracy: 0.759 - ETA: 10s - loss: 0.6691 - accuracy: 0.762 - ETA: 10s - loss: 0.6566 - accuracy: 0.767 - ETA: 10s - loss: 0.6471 - accuracy: 0.771 - ETA: 9s - loss: 0.6341 - accuracy: 0.776 - ETA: 9s - loss: 0.6286 - accuracy: 0.77 - ETA: 9s - loss: 0.6189 - accuracy: 0.78 - ETA: 9s - loss: 0.6145 - accuracy: 0.78 - ETA: 9s - loss: 0.6065 - accuracy: 0.78 - ETA: 8s - loss: 0.5997 - accuracy: 0.79 - ETA: 8s - loss: 0.5941 - accuracy: 0.79 - ETA: 8s - loss: 0.5873 - accuracy: 0.79 - ETA: 8s - loss: 0.5800 - accuracy: 0.79 - ETA: 8s - loss: 0.5748 - accuracy: 0.79 - ETA: 8s - loss: 0.5705 - accuracy: 0.80 - ETA: 8s - loss: 0.5667 - accuracy: 0.80 - ETA: 7s - loss: 0.5637 - accuracy: 0.80 - ETA: 7s - loss: 0.5583 - accuracy: 0.80 - ETA: 7s - loss: 0.5541 - accuracy: 0.80 - ETA: 7s - loss: 0.5492 - accuracy: 0.80 - ETA: 7s - loss: 0.5439 - accuracy: 0.80 - ETA: 7s - loss: 0.5412 - accuracy: 0.81 - ETA: 7s - loss: 0.5397 - accuracy: 0.81 - ETA: 7s - loss: 0.5364 - accuracy: 0.81 - ETA: 7s - loss: 0.5310 - accuracy: 0.81 - ETA: 7s - loss: 0.5286 - accuracy: 0.81 - ETA: 6s - loss: 0.5249 - accuracy: 0.81 - ETA: 6s - loss: 0.5206 - accuracy: 0.81 - ETA: 6s - loss: 0.5168 - accuracy: 0.81 - ETA: 6s - loss: 0.5126 - accuracy: 0.82 - ETA: 6s - loss: 0.5095 - accuracy: 0.82 - ETA: 6s - loss: 0.5065 - accuracy: 0.82 - ETA: 6s - loss: 0.5036 - accuracy: 0.82 - ETA: 6s - loss: 0.5014 - accuracy: 0.82 - ETA: 6s - loss: 0.4999 - accuracy: 0.82 - ETA: 6s - loss: 0.4964 - accuracy: 0.82 - ETA: 6s - loss: 0.4940 - accuracy: 0.82 - ETA: 6s - loss: 0.4924 - accuracy: 0.82 - ETA: 5s - loss: 0.4904 - accuracy: 0.82 - ETA: 5s - loss: 0.4869 - accuracy: 0.82 - ETA: 5s - loss: 0.4853 - accuracy: 0.82 - ETA: 5s - loss: 0.4842 - accuracy: 0.82 - ETA: 5s - loss: 0.4840 - accuracy: 0.82 - ETA: 5s - loss: 0.4824 - accuracy: 0.82 - ETA: 5s - loss: 0.4801 - accuracy: 0.83 - ETA: 5s - loss: 0.4789 - accuracy: 0.83 - ETA: 5s - loss: 0.4761 - accuracy: 0.83 - ETA: 5s - loss: 0.4742 - accuracy: 0.83 - ETA: 5s - loss: 0.4711 - accuracy: 0.83 - ETA: 5s - loss: 0.4695 - accuracy: 0.83 - ETA: 5s - loss: 0.4668 - accuracy: 0.83 - ETA: 5s - loss: 0.4652 - accuracy: 0.83 - ETA: 5s - loss: 0.4625 - accuracy: 0.83 - ETA: 4s - loss: 0.4617 - accuracy: 0.83 - ETA: 4s - loss: 0.4610 - accuracy: 0.83 - ETA: 4s - loss: 0.4593 - accuracy: 0.83 - ETA: 4s - loss: 0.4570 - accuracy: 0.83 - ETA: 4s - loss: 0.4561 - accuracy: 0.83 - ETA: 4s - loss: 0.4538 - accuracy: 0.83 - ETA: 4s - loss: 0.4512 - accuracy: 0.83 - ETA: 4s - loss: 0.4505 - accuracy: 0.83 - ETA: 4s - loss: 0.4488 - accuracy: 0.83 - ETA: 4s - loss: 0.4469 - accuracy: 0.84 - ETA: 4s - loss: 0.4467 - accuracy: 0.84 - ETA: 4s - loss: 0.4460 - accuracy: 0.84 - ETA: 4s - loss: 0.4446 - accuracy: 0.84 - ETA: 4s - loss: 0.4431 - accuracy: 0.84 - ETA: 4s - loss: 0.4425 - accuracy: 0.84 - ETA: 3s - loss: 0.4408 - accuracy: 0.84 - ETA: 3s - loss: 0.4407 - accuracy: 0.84 - ETA: 3s - loss: 0.4395 - accuracy: 0.84 - ETA: 3s - loss: 0.4387 - accuracy: 0.84 - ETA: 3s - loss: 0.4371 - accuracy: 0.84 - ETA: 3s - loss: 0.4361 - accuracy: 0.84 - ETA: 3s - loss: 0.4350 - accuracy: 0.84 - ETA: 3s - loss: 0.4336 - accuracy: 0.84 - ETA: 3s - loss: 0.4324 - accuracy: 0.84 - ETA: 3s - loss: 0.4311 - accuracy: 0.84 - ETA: 3s - loss: 0.4301 - accuracy: 0.84 - ETA: 3s - loss: 0.4284 - accuracy: 0.84 - ETA: 3s - loss: 0.4268 - accuracy: 0.84 - ETA: 3s - loss: 0.4258 - accuracy: 0.84 - ETA: 3s - loss: 0.4253 - accuracy: 0.84 - ETA: 3s - loss: 0.4234 - accuracy: 0.84 - ETA: 3s - loss: 0.4223 - accuracy: 0.84 - ETA: 2s - loss: 0.4207 - accuracy: 0.85 - ETA: 2s - loss: 0.4196 - accuracy: 0.85 - ETA: 2s - loss: 0.4180 - accuracy: 0.85 - ETA: 2s - loss: 0.4172 - accuracy: 0.85 - ETA: 2s - loss: 0.4160 - accuracy: 0.85 - ETA: 2s - loss: 0.4152 - accuracy: 0.85 - ETA: 2s - loss: 0.4148 - accuracy: 0.85 - ETA: 2s - loss: 0.4141 - accuracy: 0.85 - ETA: 2s - loss: 0.4128 - accuracy: 0.85 - ETA: 2s - loss: 0.4119 - accuracy: 0.85 - ETA: 2s - loss: 0.4112 - accuracy: 0.85 - ETA: 2s - loss: 0.4100 - accuracy: 0.85 - ETA: 2s - loss: 0.4086 - accuracy: 0.85 - ETA: 2s - loss: 0.4077 - accuracy: 0.85 - ETA: 2s - loss: 0.4069 - accuracy: 0.85 - ETA: 2s - loss: 0.4065 - accuracy: 0.85 - ETA: 2s - loss: 0.4057 - accuracy: 0.85 - ETA: 1s - loss: 0.4046 - accuracy: 0.85 - ETA: 1s - loss: 0.4037 - accuracy: 0.85 - ETA: 1s - loss: 0.4026 - accuracy: 0.85 - ETA: 1s - loss: 0.4020 - accuracy: 0.85 - ETA: 1s - loss: 0.4013 - accuracy: 0.85 - ETA: 1s - loss: 0.4005 - accuracy: 0.85 - ETA: 1s - loss: 0.3992 - accuracy: 0.85 - ETA: 1s - loss: 0.3983 - accuracy: 0.85 - ETA: 1s - loss: 0.3971 - accuracy: 0.85 - ETA: 1s - loss: 0.3961 - accuracy: 0.85 - ETA: 1s - loss: 0.3955 - accuracy: 0.85 - ETA: 1s - loss: 0.3951 - accuracy: 0.85 - ETA: 1s - loss: 0.3944 - accuracy: 0.86 - ETA: 1s - loss: 0.3943 - accuracy: 0.86 - ETA: 1s - loss: 0.3941 - accuracy: 0.86 - ETA: 1s - loss: 0.3940 - accuracy: 0.86 - ETA: 1s - loss: 0.3935 - accuracy: 0.86 - ETA: 1s - loss: 0.3927 - accuracy: 0.86 - ETA: 1s - loss: 0.3921 - accuracy: 0.86 - ETA: 1s - loss: 0.3913 - accuracy: 0.86 - ETA: 1s - loss: 0.3907 - accuracy: 0.86 - ETA: 1s - loss: 0.3906 - accuracy: 0.86 - ETA: 0s - loss: 0.3896 - accuracy: 0.86 - ETA: 0s - loss: 0.3889 - accuracy: 0.86 - ETA: 0s - loss: 0.3884 - accuracy: 0.86 - ETA: 0s - loss: 0.3874 - accuracy: 0.86 - ETA: 0s - loss: 0.3870 - accuracy: 0.86 - ETA: 0s - loss: 0.3866 - accuracy: 0.86 - ETA: 0s - loss: 0.3853 - accuracy: 0.86 - ETA: 0s - loss: 0.3848 - accuracy: 0.86 - ETA: 0s - loss: 0.3845 - accuracy: 0.86 - ETA: 0s - loss: 0.3840 - accuracy: 0.86 - ETA: 0s - loss: 0.3830 - accuracy: 0.86 - ETA: 0s - loss: 0.3827 - accuracy: 0.86 - ETA: 0s - loss: 0.3822 - accuracy: 0.86 - ETA: 0s - loss: 0.3814 - accuracy: 0.86 - ETA: 0s - loss: 0.3805 - accuracy: 0.86 - ETA: 0s - loss: 0.3794 - accuracy: 0.86 - ETA: 0s - loss: 0.3791 - accuracy: 0.86 - ETA: 0s - loss: 0.3782 - accuracy: 0.86 - 9s 171us/sample - loss: 0.3778 - accuracy: 0.8656 - val_loss: 0.3008 - val_accuracy: 0.8888\n",
      "Epoch 2/3\n",
      "54000/54000 [==============================] - ETA: 12s - loss: 0.2968 - accuracy: 0.875 - ETA: 8s - loss: 0.2496 - accuracy: 0.898 - ETA: 8s - loss: 0.2486 - accuracy: 0.89 - ETA: 8s - loss: 0.2358 - accuracy: 0.90 - ETA: 7s - loss: 0.2551 - accuracy: 0.90 - ETA: 7s - loss: 0.2482 - accuracy: 0.90 - ETA: 7s - loss: 0.2469 - accuracy: 0.90 - ETA: 7s - loss: 0.2375 - accuracy: 0.90 - ETA: 7s - loss: 0.2414 - accuracy: 0.90 - ETA: 7s - loss: 0.2393 - accuracy: 0.90 - ETA: 7s - loss: 0.2418 - accuracy: 0.90 - ETA: 7s - loss: 0.2433 - accuracy: 0.90 - ETA: 7s - loss: 0.2426 - accuracy: 0.90 - ETA: 6s - loss: 0.2418 - accuracy: 0.90 - ETA: 6s - loss: 0.2430 - accuracy: 0.90 - ETA: 6s - loss: 0.2392 - accuracy: 0.90 - ETA: 6s - loss: 0.2386 - accuracy: 0.90 - ETA: 6s - loss: 0.2363 - accuracy: 0.90 - ETA: 7s - loss: 0.2386 - accuracy: 0.90 - ETA: 7s - loss: 0.2363 - accuracy: 0.90 - ETA: 6s - loss: 0.2327 - accuracy: 0.91 - ETA: 6s - loss: 0.2314 - accuracy: 0.91 - ETA: 7s - loss: 0.2321 - accuracy: 0.91 - ETA: 7s - loss: 0.2345 - accuracy: 0.91 - ETA: 7s - loss: 0.2342 - accuracy: 0.91 - ETA: 6s - loss: 0.2364 - accuracy: 0.91 - ETA: 6s - loss: 0.2350 - accuracy: 0.91 - ETA: 6s - loss: 0.2332 - accuracy: 0.91 - ETA: 6s - loss: 0.2335 - accuracy: 0.91 - ETA: 6s - loss: 0.2335 - accuracy: 0.91 - ETA: 6s - loss: 0.2329 - accuracy: 0.91 - ETA: 6s - loss: 0.2335 - accuracy: 0.91 - ETA: 6s - loss: 0.2331 - accuracy: 0.91 - ETA: 6s - loss: 0.2311 - accuracy: 0.91 - ETA: 6s - loss: 0.2306 - accuracy: 0.91 - ETA: 6s - loss: 0.2318 - accuracy: 0.91 - ETA: 6s - loss: 0.2320 - accuracy: 0.91 - ETA: 6s - loss: 0.2326 - accuracy: 0.91 - ETA: 6s - loss: 0.2330 - accuracy: 0.91 - ETA: 6s - loss: 0.2330 - accuracy: 0.91 - ETA: 6s - loss: 0.2344 - accuracy: 0.91 - ETA: 6s - loss: 0.2334 - accuracy: 0.91 - ETA: 6s - loss: 0.2329 - accuracy: 0.91 - ETA: 6s - loss: 0.2335 - accuracy: 0.91 - ETA: 6s - loss: 0.2350 - accuracy: 0.91 - ETA: 6s - loss: 0.2351 - accuracy: 0.91 - ETA: 5s - loss: 0.2343 - accuracy: 0.91 - ETA: 5s - loss: 0.2337 - accuracy: 0.91 - ETA: 5s - loss: 0.2337 - accuracy: 0.91 - ETA: 5s - loss: 0.2339 - accuracy: 0.91 - ETA: 5s - loss: 0.2351 - accuracy: 0.91 - ETA: 5s - loss: 0.2350 - accuracy: 0.91 - ETA: 5s - loss: 0.2348 - accuracy: 0.91 - ETA: 5s - loss: 0.2349 - accuracy: 0.91 - ETA: 5s - loss: 0.2357 - accuracy: 0.91 - ETA: 5s - loss: 0.2348 - accuracy: 0.91 - ETA: 5s - loss: 0.2352 - accuracy: 0.91 - ETA: 5s - loss: 0.2349 - accuracy: 0.91 - ETA: 5s - loss: 0.2345 - accuracy: 0.91 - ETA: 5s - loss: 0.2339 - accuracy: 0.91 - ETA: 5s - loss: 0.2342 - accuracy: 0.91 - ETA: 5s - loss: 0.2343 - accuracy: 0.91 - ETA: 5s - loss: 0.2332 - accuracy: 0.91 - ETA: 5s - loss: 0.2332 - accuracy: 0.91 - ETA: 5s - loss: 0.2325 - accuracy: 0.91 - ETA: 5s - loss: 0.2322 - accuracy: 0.91 - ETA: 5s - loss: 0.2323 - accuracy: 0.91 - ETA: 5s - loss: 0.2314 - accuracy: 0.91 - ETA: 5s - loss: 0.2313 - accuracy: 0.91 - ETA: 5s - loss: 0.2310 - accuracy: 0.91 - ETA: 5s - loss: 0.2302 - accuracy: 0.91 - ETA: 4s - loss: 0.2304 - accuracy: 0.91 - ETA: 4s - loss: 0.2315 - accuracy: 0.91 - ETA: 4s - loss: 0.2321 - accuracy: 0.91 - ETA: 4s - loss: 0.2322 - accuracy: 0.91 - ETA: 4s - loss: 0.2322 - accuracy: 0.91 - ETA: 4s - loss: 0.2321 - accuracy: 0.91 - ETA: 4s - loss: 0.2319 - accuracy: 0.91 - ETA: 4s - loss: 0.2321 - accuracy: 0.91 - ETA: 4s - loss: 0.2318 - accuracy: 0.91 - ETA: 4s - loss: 0.2308 - accuracy: 0.91 - ETA: 4s - loss: 0.2314 - accuracy: 0.91 - ETA: 4s - loss: 0.2318 - accuracy: 0.91 - ETA: 4s - loss: 0.2311 - accuracy: 0.91 - ETA: 4s - loss: 0.2313 - accuracy: 0.91 - ETA: 4s - loss: 0.2315 - accuracy: 0.91 - ETA: 4s - loss: 0.2315 - accuracy: 0.91 - ETA: 4s - loss: 0.2312 - accuracy: 0.91 - ETA: 4s - loss: 0.2316 - accuracy: 0.91 - ETA: 4s - loss: 0.2316 - accuracy: 0.91 - ETA: 4s - loss: 0.2313 - accuracy: 0.91 - ETA: 4s - loss: 0.2319 - accuracy: 0.91 - ETA: 3s - loss: 0.2318 - accuracy: 0.91 - ETA: 3s - loss: 0.2313 - accuracy: 0.91 - ETA: 3s - loss: 0.2311 - accuracy: 0.91 - ETA: 3s - loss: 0.2311 - accuracy: 0.91 - ETA: 3s - loss: 0.2311 - accuracy: 0.91 - ETA: 3s - loss: 0.2308 - accuracy: 0.91 - ETA: 3s - loss: 0.2304 - accuracy: 0.91 - ETA: 3s - loss: 0.2311 - accuracy: 0.91 - ETA: 3s - loss: 0.2309 - accuracy: 0.91 - ETA: 3s - loss: 0.2308 - accuracy: 0.91 - ETA: 3s - loss: 0.2303 - accuracy: 0.91 - ETA: 3s - loss: 0.2304 - accuracy: 0.91 - ETA: 3s - loss: 0.2301 - accuracy: 0.91 - ETA: 3s - loss: 0.2297 - accuracy: 0.91 - ETA: 3s - loss: 0.2303 - accuracy: 0.91 - ETA: 3s - loss: 0.2303 - accuracy: 0.91 - ETA: 3s - loss: 0.2304 - accuracy: 0.91 - ETA: 2s - loss: 0.2308 - accuracy: 0.91 - ETA: 2s - loss: 0.2312 - accuracy: 0.91 - ETA: 2s - loss: 0.2311 - accuracy: 0.91 - ETA: 2s - loss: 0.2307 - accuracy: 0.91 - ETA: 2s - loss: 0.2308 - accuracy: 0.91 - ETA: 2s - loss: 0.2309 - accuracy: 0.91 - ETA: 2s - loss: 0.2311 - accuracy: 0.91 - ETA: 2s - loss: 0.2310 - accuracy: 0.91 - ETA: 2s - loss: 0.2306 - accuracy: 0.91 - ETA: 2s - loss: 0.2309 - accuracy: 0.91 - ETA: 2s - loss: 0.2297 - accuracy: 0.91 - ETA: 2s - loss: 0.2298 - accuracy: 0.91 - ETA: 2s - loss: 0.2294 - accuracy: 0.91 - ETA: 2s - loss: 0.2289 - accuracy: 0.91 - ETA: 2s - loss: 0.2291 - accuracy: 0.91 - ETA: 2s - loss: 0.2293 - accuracy: 0.91 - ETA: 2s - loss: 0.2292 - accuracy: 0.91 - ETA: 1s - loss: 0.2300 - accuracy: 0.91 - ETA: 1s - loss: 0.2303 - accuracy: 0.91 - ETA: 1s - loss: 0.2303 - accuracy: 0.91 - ETA: 1s - loss: 0.2304 - accuracy: 0.91 - ETA: 1s - loss: 0.2305 - accuracy: 0.91 - ETA: 1s - loss: 0.2299 - accuracy: 0.91 - ETA: 1s - loss: 0.2300 - accuracy: 0.91 - ETA: 1s - loss: 0.2303 - accuracy: 0.91 - ETA: 1s - loss: 0.2303 - accuracy: 0.91 - ETA: 1s - loss: 0.2303 - accuracy: 0.91 - ETA: 1s - loss: 0.2302 - accuracy: 0.91 - ETA: 1s - loss: 0.2299 - accuracy: 0.91 - ETA: 1s - loss: 0.2300 - accuracy: 0.91 - ETA: 1s - loss: 0.2299 - accuracy: 0.91 - ETA: 1s - loss: 0.2294 - accuracy: 0.91 - ETA: 1s - loss: 0.2294 - accuracy: 0.91 - ETA: 1s - loss: 0.2290 - accuracy: 0.91 - ETA: 1s - loss: 0.2291 - accuracy: 0.91 - ETA: 0s - loss: 0.2289 - accuracy: 0.91 - ETA: 0s - loss: 0.2287 - accuracy: 0.91 - ETA: 0s - loss: 0.2283 - accuracy: 0.91 - ETA: 0s - loss: 0.2281 - accuracy: 0.91 - ETA: 0s - loss: 0.2282 - accuracy: 0.91 - ETA: 0s - loss: 0.2288 - accuracy: 0.91 - ETA: 0s - loss: 0.2286 - accuracy: 0.91 - ETA: 0s - loss: 0.2285 - accuracy: 0.91 - ETA: 0s - loss: 0.2282 - accuracy: 0.91 - ETA: 0s - loss: 0.2281 - accuracy: 0.91 - ETA: 0s - loss: 0.2281 - accuracy: 0.91 - ETA: 0s - loss: 0.2278 - accuracy: 0.91 - ETA: 0s - loss: 0.2278 - accuracy: 0.91 - ETA: 0s - loss: 0.2278 - accuracy: 0.91 - ETA: 0s - loss: 0.2276 - accuracy: 0.91 - ETA: 0s - loss: 0.2280 - accuracy: 0.91 - ETA: 0s - loss: 0.2278 - accuracy: 0.91 - ETA: 0s - loss: 0.2281 - accuracy: 0.91 - 9s 168us/sample - loss: 0.2281 - accuracy: 0.9159 - val_loss: 0.2589 - val_accuracy: 0.9040\n",
      "Epoch 3/3\n"
     ]
    },
    {
     "name": "stdout",
     "output_type": "stream",
     "text": [
      "54000/54000 [==============================] - ETA: 12s - loss: 0.1490 - accuracy: 0.937 - ETA: 7s - loss: 0.1688 - accuracy: 0.951 - ETA: 7s - loss: 0.1591 - accuracy: 0.94 - ETA: 7s - loss: 0.1533 - accuracy: 0.94 - ETA: 7s - loss: 0.1572 - accuracy: 0.94 - ETA: 7s - loss: 0.1534 - accuracy: 0.94 - ETA: 7s - loss: 0.1524 - accuracy: 0.94 - ETA: 7s - loss: 0.1600 - accuracy: 0.94 - ETA: 7s - loss: 0.1635 - accuracy: 0.93 - ETA: 6s - loss: 0.1593 - accuracy: 0.94 - ETA: 6s - loss: 0.1587 - accuracy: 0.94 - ETA: 6s - loss: 0.1555 - accuracy: 0.94 - ETA: 6s - loss: 0.1535 - accuracy: 0.94 - ETA: 6s - loss: 0.1584 - accuracy: 0.94 - ETA: 6s - loss: 0.1586 - accuracy: 0.94 - ETA: 6s - loss: 0.1576 - accuracy: 0.94 - ETA: 6s - loss: 0.1572 - accuracy: 0.94 - ETA: 6s - loss: 0.1574 - accuracy: 0.94 - ETA: 6s - loss: 0.1549 - accuracy: 0.94 - ETA: 6s - loss: 0.1559 - accuracy: 0.94 - ETA: 6s - loss: 0.1558 - accuracy: 0.94 - ETA: 6s - loss: 0.1561 - accuracy: 0.94 - ETA: 6s - loss: 0.1538 - accuracy: 0.94 - ETA: 6s - loss: 0.1522 - accuracy: 0.94 - ETA: 6s - loss: 0.1552 - accuracy: 0.94 - ETA: 6s - loss: 0.1552 - accuracy: 0.94 - ETA: 6s - loss: 0.1550 - accuracy: 0.94 - ETA: 6s - loss: 0.1557 - accuracy: 0.94 - ETA: 6s - loss: 0.1556 - accuracy: 0.94 - ETA: 6s - loss: 0.1556 - accuracy: 0.94 - ETA: 6s - loss: 0.1564 - accuracy: 0.94 - ETA: 6s - loss: 0.1556 - accuracy: 0.94 - ETA: 6s - loss: 0.1562 - accuracy: 0.94 - ETA: 5s - loss: 0.1580 - accuracy: 0.94 - ETA: 5s - loss: 0.1584 - accuracy: 0.94 - ETA: 5s - loss: 0.1574 - accuracy: 0.94 - ETA: 5s - loss: 0.1582 - accuracy: 0.94 - ETA: 5s - loss: 0.1606 - accuracy: 0.94 - ETA: 5s - loss: 0.1615 - accuracy: 0.93 - ETA: 5s - loss: 0.1621 - accuracy: 0.93 - ETA: 5s - loss: 0.1622 - accuracy: 0.93 - ETA: 5s - loss: 0.1626 - accuracy: 0.93 - ETA: 5s - loss: 0.1626 - accuracy: 0.93 - ETA: 5s - loss: 0.1625 - accuracy: 0.93 - ETA: 5s - loss: 0.1617 - accuracy: 0.93 - ETA: 5s - loss: 0.1615 - accuracy: 0.93 - ETA: 5s - loss: 0.1615 - accuracy: 0.93 - ETA: 5s - loss: 0.1620 - accuracy: 0.93 - ETA: 5s - loss: 0.1612 - accuracy: 0.93 - ETA: 5s - loss: 0.1616 - accuracy: 0.93 - ETA: 5s - loss: 0.1614 - accuracy: 0.93 - ETA: 4s - loss: 0.1605 - accuracy: 0.94 - ETA: 4s - loss: 0.1599 - accuracy: 0.94 - ETA: 4s - loss: 0.1601 - accuracy: 0.94 - ETA: 4s - loss: 0.1604 - accuracy: 0.94 - ETA: 4s - loss: 0.1607 - accuracy: 0.93 - ETA: 4s - loss: 0.1607 - accuracy: 0.93 - ETA: 4s - loss: 0.1614 - accuracy: 0.93 - ETA: 4s - loss: 0.1615 - accuracy: 0.93 - ETA: 4s - loss: 0.1626 - accuracy: 0.93 - ETA: 4s - loss: 0.1628 - accuracy: 0.93 - ETA: 4s - loss: 0.1634 - accuracy: 0.93 - ETA: 4s - loss: 0.1635 - accuracy: 0.93 - ETA: 4s - loss: 0.1637 - accuracy: 0.93 - ETA: 4s - loss: 0.1635 - accuracy: 0.93 - ETA: 4s - loss: 0.1633 - accuracy: 0.93 - ETA: 4s - loss: 0.1633 - accuracy: 0.93 - ETA: 4s - loss: 0.1630 - accuracy: 0.93 - ETA: 4s - loss: 0.1632 - accuracy: 0.93 - ETA: 4s - loss: 0.1629 - accuracy: 0.93 - ETA: 4s - loss: 0.1628 - accuracy: 0.93 - ETA: 4s - loss: 0.1627 - accuracy: 0.93 - ETA: 4s - loss: 0.1631 - accuracy: 0.93 - ETA: 4s - loss: 0.1626 - accuracy: 0.93 - ETA: 4s - loss: 0.1624 - accuracy: 0.93 - ETA: 4s - loss: 0.1622 - accuracy: 0.93 - ETA: 3s - loss: 0.1621 - accuracy: 0.93 - ETA: 3s - loss: 0.1620 - accuracy: 0.93 - ETA: 3s - loss: 0.1621 - accuracy: 0.93 - ETA: 3s - loss: 0.1623 - accuracy: 0.93 - ETA: 3s - loss: 0.1619 - accuracy: 0.93 - ETA: 3s - loss: 0.1615 - accuracy: 0.93 - ETA: 3s - loss: 0.1609 - accuracy: 0.93 - ETA: 3s - loss: 0.1605 - accuracy: 0.93 - ETA: 3s - loss: 0.1606 - accuracy: 0.93 - ETA: 3s - loss: 0.1613 - accuracy: 0.93 - ETA: 3s - loss: 0.1615 - accuracy: 0.93 - ETA: 3s - loss: 0.1614 - accuracy: 0.93 - ETA: 3s - loss: 0.1614 - accuracy: 0.93 - ETA: 3s - loss: 0.1609 - accuracy: 0.93 - ETA: 3s - loss: 0.1607 - accuracy: 0.93 - ETA: 3s - loss: 0.1605 - accuracy: 0.94 - ETA: 3s - loss: 0.1609 - accuracy: 0.93 - ETA: 3s - loss: 0.1614 - accuracy: 0.93 - ETA: 3s - loss: 0.1614 - accuracy: 0.93 - ETA: 2s - loss: 0.1612 - accuracy: 0.93 - ETA: 2s - loss: 0.1610 - accuracy: 0.93 - ETA: 2s - loss: 0.1612 - accuracy: 0.93 - ETA: 2s - loss: 0.1606 - accuracy: 0.93 - ETA: 2s - loss: 0.1606 - accuracy: 0.94 - ETA: 2s - loss: 0.1602 - accuracy: 0.94 - ETA: 2s - loss: 0.1606 - accuracy: 0.94 - ETA: 2s - loss: 0.1608 - accuracy: 0.94 - ETA: 2s - loss: 0.1605 - accuracy: 0.94 - ETA: 2s - loss: 0.1605 - accuracy: 0.94 - ETA: 2s - loss: 0.1603 - accuracy: 0.94 - ETA: 2s - loss: 0.1601 - accuracy: 0.94 - ETA: 2s - loss: 0.1604 - accuracy: 0.94 - ETA: 2s - loss: 0.1599 - accuracy: 0.94 - ETA: 2s - loss: 0.1601 - accuracy: 0.94 - ETA: 2s - loss: 0.1603 - accuracy: 0.94 - ETA: 2s - loss: 0.1604 - accuracy: 0.94 - ETA: 2s - loss: 0.1604 - accuracy: 0.94 - ETA: 1s - loss: 0.1601 - accuracy: 0.94 - ETA: 1s - loss: 0.1603 - accuracy: 0.94 - ETA: 1s - loss: 0.1602 - accuracy: 0.93 - ETA: 1s - loss: 0.1603 - accuracy: 0.93 - ETA: 1s - loss: 0.1603 - accuracy: 0.93 - ETA: 1s - loss: 0.1605 - accuracy: 0.93 - ETA: 1s - loss: 0.1607 - accuracy: 0.93 - ETA: 1s - loss: 0.1605 - accuracy: 0.93 - ETA: 1s - loss: 0.1604 - accuracy: 0.93 - ETA: 1s - loss: 0.1603 - accuracy: 0.93 - ETA: 1s - loss: 0.1604 - accuracy: 0.93 - ETA: 1s - loss: 0.1599 - accuracy: 0.93 - ETA: 1s - loss: 0.1600 - accuracy: 0.93 - ETA: 1s - loss: 0.1597 - accuracy: 0.94 - ETA: 1s - loss: 0.1596 - accuracy: 0.94 - ETA: 1s - loss: 0.1597 - accuracy: 0.94 - ETA: 1s - loss: 0.1596 - accuracy: 0.94 - ETA: 1s - loss: 0.1597 - accuracy: 0.94 - ETA: 1s - loss: 0.1593 - accuracy: 0.94 - ETA: 0s - loss: 0.1594 - accuracy: 0.94 - ETA: 0s - loss: 0.1591 - accuracy: 0.94 - ETA: 0s - loss: 0.1593 - accuracy: 0.94 - ETA: 0s - loss: 0.1594 - accuracy: 0.94 - ETA: 0s - loss: 0.1593 - accuracy: 0.94 - ETA: 0s - loss: 0.1592 - accuracy: 0.94 - ETA: 0s - loss: 0.1596 - accuracy: 0.94 - ETA: 0s - loss: 0.1595 - accuracy: 0.94 - ETA: 0s - loss: 0.1593 - accuracy: 0.94 - ETA: 0s - loss: 0.1593 - accuracy: 0.94 - ETA: 0s - loss: 0.1598 - accuracy: 0.94 - ETA: 0s - loss: 0.1596 - accuracy: 0.94 - ETA: 0s - loss: 0.1600 - accuracy: 0.94 - ETA: 0s - loss: 0.1599 - accuracy: 0.94 - ETA: 0s - loss: 0.1599 - accuracy: 0.94 - ETA: 0s - loss: 0.1602 - accuracy: 0.94 - ETA: 0s - loss: 0.1603 - accuracy: 0.94 - ETA: 0s - loss: 0.1604 - accuracy: 0.94 - ETA: 0s - loss: 0.1602 - accuracy: 0.94 - 8s 156us/sample - loss: 0.1605 - accuracy: 0.9401 - val_loss: 0.2522 - val_accuracy: 0.9105\n"
     ]
    },
    {
     "data": {
      "text/html": [
       "<span style=\"color:#4527A0\"><h1 style=\"font-size:18px\">Trial complete</h1></span>"
      ],
      "text/plain": [
       "<IPython.core.display.HTML object>"
      ]
     },
     "metadata": {},
     "output_type": "display_data"
    },
    {
     "data": {
      "text/html": [
       "<span style=\"color:#4527A0\"><h1 style=\"font-size:18px\">Trial summary</h1></span>"
      ],
      "text/plain": [
       "<IPython.core.display.HTML object>"
      ]
     },
     "metadata": {},
     "output_type": "display_data"
    },
    {
     "data": {
      "text/html": [
       "<span style=\"color:cyan\"> |-Trial ID: 6a8861e752a6e7d13ac82b53c8314aad</span>"
      ],
      "text/plain": [
       "<IPython.core.display.HTML object>"
      ]
     },
     "metadata": {},
     "output_type": "display_data"
    },
    {
     "data": {
      "text/html": [
       "<span style=\"color:cyan\"> |-Score: 0.9104999899864197</span>"
      ],
      "text/plain": [
       "<IPython.core.display.HTML object>"
      ]
     },
     "metadata": {},
     "output_type": "display_data"
    },
    {
     "data": {
      "text/html": [
       "<span style=\"color:cyan\"> |-Best step: 0</span>"
      ],
      "text/plain": [
       "<IPython.core.display.HTML object>"
      ]
     },
     "metadata": {},
     "output_type": "display_data"
    },
    {
     "data": {
      "text/html": [
       "<span style=\"color:#7E57C2\"><h2 style=\"font-size:16px\">Hyperparameters:</h2></span>"
      ],
      "text/plain": [
       "<IPython.core.display.HTML object>"
      ]
     },
     "metadata": {},
     "output_type": "display_data"
    },
    {
     "data": {
      "text/html": [
       "<span style=\"color:cyan\"> |-conv_1_filter: 96</span>"
      ],
      "text/plain": [
       "<IPython.core.display.HTML object>"
      ]
     },
     "metadata": {},
     "output_type": "display_data"
    },
    {
     "data": {
      "text/html": [
       "<span style=\"color:blue\"> |-conv_1_kernel: 3</span>"
      ],
      "text/plain": [
       "<IPython.core.display.HTML object>"
      ]
     },
     "metadata": {},
     "output_type": "display_data"
    },
    {
     "data": {
      "text/html": [
       "<span style=\"color:cyan\"> |-conv_2_filter: 48</span>"
      ],
      "text/plain": [
       "<IPython.core.display.HTML object>"
      ]
     },
     "metadata": {},
     "output_type": "display_data"
    },
    {
     "data": {
      "text/html": [
       "<span style=\"color:blue\"> |-conv_2_kernel: 3</span>"
      ],
      "text/plain": [
       "<IPython.core.display.HTML object>"
      ]
     },
     "metadata": {},
     "output_type": "display_data"
    },
    {
     "data": {
      "text/html": [
       "<span style=\"color:cyan\"> |-dense_1_units: 128</span>"
      ],
      "text/plain": [
       "<IPython.core.display.HTML object>"
      ]
     },
     "metadata": {},
     "output_type": "display_data"
    },
    {
     "data": {
      "text/html": [
       "<span style=\"color:blue\"> |-learning_rate: 0.001</span>"
      ],
      "text/plain": [
       "<IPython.core.display.HTML object>"
      ]
     },
     "metadata": {},
     "output_type": "display_data"
    },
    {
     "name": "stdout",
     "output_type": "stream",
     "text": [
      "Train on 54000 samples, validate on 6000 samples\n",
      "Epoch 1/3\n",
      "54000/54000 [==============================] - ETA: 10:00 - loss: 2.3089 - accuracy: 0.031 - ETA: 52s - loss: 1.6615 - accuracy: 0.3942  - ETA: 30s - loss: 1.3248 - accuracy: 0.523 - ETA: 22s - loss: 1.1192 - accuracy: 0.598 - ETA: 19s - loss: 1.0207 - accuracy: 0.632 - ETA: 17s - loss: 0.9413 - accuracy: 0.657 - ETA: 15s - loss: 0.8909 - accuracy: 0.672 - ETA: 14s - loss: 0.8338 - accuracy: 0.690 - ETA: 13s - loss: 0.8178 - accuracy: 0.695 - ETA: 12s - loss: 0.7940 - accuracy: 0.706 - ETA: 11s - loss: 0.7729 - accuracy: 0.715 - ETA: 11s - loss: 0.7547 - accuracy: 0.723 - ETA: 10s - loss: 0.7324 - accuracy: 0.731 - ETA: 10s - loss: 0.7170 - accuracy: 0.737 - ETA: 10s - loss: 0.7061 - accuracy: 0.741 - ETA: 9s - loss: 0.6939 - accuracy: 0.747 - ETA: 9s - loss: 0.6877 - accuracy: 0.75 - ETA: 9s - loss: 0.6720 - accuracy: 0.75 - ETA: 9s - loss: 0.6640 - accuracy: 0.75 - ETA: 8s - loss: 0.6544 - accuracy: 0.76 - ETA: 8s - loss: 0.6456 - accuracy: 0.76 - ETA: 8s - loss: 0.6357 - accuracy: 0.77 - ETA: 8s - loss: 0.6258 - accuracy: 0.77 - ETA: 8s - loss: 0.6213 - accuracy: 0.77 - ETA: 8s - loss: 0.6145 - accuracy: 0.77 - ETA: 7s - loss: 0.6084 - accuracy: 0.78 - ETA: 7s - loss: 0.6020 - accuracy: 0.78 - ETA: 7s - loss: 0.5944 - accuracy: 0.78 - ETA: 7s - loss: 0.5912 - accuracy: 0.78 - ETA: 7s - loss: 0.5837 - accuracy: 0.79 - ETA: 7s - loss: 0.5827 - accuracy: 0.79 - ETA: 7s - loss: 0.5787 - accuracy: 0.79 - ETA: 7s - loss: 0.5731 - accuracy: 0.79 - ETA: 6s - loss: 0.5675 - accuracy: 0.79 - ETA: 6s - loss: 0.5634 - accuracy: 0.79 - ETA: 6s - loss: 0.5599 - accuracy: 0.79 - ETA: 6s - loss: 0.5555 - accuracy: 0.80 - ETA: 6s - loss: 0.5509 - accuracy: 0.80 - ETA: 6s - loss: 0.5464 - accuracy: 0.80 - ETA: 6s - loss: 0.5415 - accuracy: 0.80 - ETA: 6s - loss: 0.5367 - accuracy: 0.80 - ETA: 6s - loss: 0.5337 - accuracy: 0.80 - ETA: 6s - loss: 0.5309 - accuracy: 0.80 - ETA: 6s - loss: 0.5280 - accuracy: 0.80 - ETA: 6s - loss: 0.5247 - accuracy: 0.81 - ETA: 6s - loss: 0.5221 - accuracy: 0.81 - ETA: 5s - loss: 0.5188 - accuracy: 0.81 - ETA: 5s - loss: 0.5163 - accuracy: 0.81 - ETA: 5s - loss: 0.5139 - accuracy: 0.81 - ETA: 5s - loss: 0.5106 - accuracy: 0.81 - ETA: 5s - loss: 0.5085 - accuracy: 0.81 - ETA: 5s - loss: 0.5046 - accuracy: 0.81 - ETA: 5s - loss: 0.5018 - accuracy: 0.81 - ETA: 5s - loss: 0.4995 - accuracy: 0.82 - ETA: 5s - loss: 0.4967 - accuracy: 0.82 - ETA: 5s - loss: 0.4951 - accuracy: 0.82 - ETA: 5s - loss: 0.4929 - accuracy: 0.82 - ETA: 5s - loss: 0.4914 - accuracy: 0.82 - ETA: 5s - loss: 0.4891 - accuracy: 0.82 - ETA: 5s - loss: 0.4870 - accuracy: 0.82 - ETA: 4s - loss: 0.4853 - accuracy: 0.82 - ETA: 4s - loss: 0.4828 - accuracy: 0.82 - ETA: 4s - loss: 0.4811 - accuracy: 0.82 - ETA: 4s - loss: 0.4786 - accuracy: 0.82 - ETA: 4s - loss: 0.4751 - accuracy: 0.82 - ETA: 4s - loss: 0.4729 - accuracy: 0.83 - ETA: 4s - loss: 0.4719 - accuracy: 0.83 - ETA: 4s - loss: 0.4705 - accuracy: 0.83 - ETA: 4s - loss: 0.4686 - accuracy: 0.83 - ETA: 4s - loss: 0.4669 - accuracy: 0.83 - ETA: 4s - loss: 0.4666 - accuracy: 0.83 - ETA: 4s - loss: 0.4652 - accuracy: 0.83 - ETA: 4s - loss: 0.4641 - accuracy: 0.83 - ETA: 4s - loss: 0.4625 - accuracy: 0.83 - ETA: 4s - loss: 0.4613 - accuracy: 0.83 - ETA: 4s - loss: 0.4605 - accuracy: 0.83 - ETA: 3s - loss: 0.4591 - accuracy: 0.83 - ETA: 3s - loss: 0.4571 - accuracy: 0.83 - ETA: 3s - loss: 0.4556 - accuracy: 0.83 - ETA: 3s - loss: 0.4544 - accuracy: 0.83 - ETA: 3s - loss: 0.4534 - accuracy: 0.83 - ETA: 3s - loss: 0.4519 - accuracy: 0.83 - ETA: 3s - loss: 0.4513 - accuracy: 0.83 - ETA: 3s - loss: 0.4505 - accuracy: 0.83 - ETA: 3s - loss: 0.4485 - accuracy: 0.83 - ETA: 3s - loss: 0.4464 - accuracy: 0.83 - ETA: 3s - loss: 0.4440 - accuracy: 0.84 - ETA: 3s - loss: 0.4427 - accuracy: 0.84 - ETA: 3s - loss: 0.4415 - accuracy: 0.84 - ETA: 3s - loss: 0.4403 - accuracy: 0.84 - ETA: 3s - loss: 0.4395 - accuracy: 0.84 - ETA: 3s - loss: 0.4388 - accuracy: 0.84 - ETA: 3s - loss: 0.4372 - accuracy: 0.84 - ETA: 3s - loss: 0.4360 - accuracy: 0.84 - ETA: 3s - loss: 0.4352 - accuracy: 0.84 - ETA: 2s - loss: 0.4337 - accuracy: 0.84 - ETA: 2s - loss: 0.4324 - accuracy: 0.84 - ETA: 2s - loss: 0.4316 - accuracy: 0.84 - ETA: 2s - loss: 0.4306 - accuracy: 0.84 - ETA: 2s - loss: 0.4301 - accuracy: 0.84 - ETA: 2s - loss: 0.4293 - accuracy: 0.84 - ETA: 2s - loss: 0.4285 - accuracy: 0.84 - ETA: 2s - loss: 0.4281 - accuracy: 0.84 - ETA: 2s - loss: 0.4269 - accuracy: 0.84 - ETA: 2s - loss: 0.4259 - accuracy: 0.84 - ETA: 2s - loss: 0.4247 - accuracy: 0.84 - ETA: 2s - loss: 0.4240 - accuracy: 0.84 - ETA: 2s - loss: 0.4222 - accuracy: 0.84 - ETA: 2s - loss: 0.4210 - accuracy: 0.84 - ETA: 2s - loss: 0.4202 - accuracy: 0.84 - ETA: 2s - loss: 0.4199 - accuracy: 0.84 - ETA: 2s - loss: 0.4190 - accuracy: 0.84 - ETA: 2s - loss: 0.4177 - accuracy: 0.84 - ETA: 2s - loss: 0.4166 - accuracy: 0.85 - ETA: 2s - loss: 0.4161 - accuracy: 0.85 - ETA: 1s - loss: 0.4153 - accuracy: 0.85 - ETA: 1s - loss: 0.4143 - accuracy: 0.85 - ETA: 1s - loss: 0.4126 - accuracy: 0.85 - ETA: 1s - loss: 0.4117 - accuracy: 0.85 - ETA: 1s - loss: 0.4108 - accuracy: 0.85 - ETA: 1s - loss: 0.4103 - accuracy: 0.85 - ETA: 1s - loss: 0.4091 - accuracy: 0.85 - ETA: 1s - loss: 0.4081 - accuracy: 0.85 - ETA: 1s - loss: 0.4083 - accuracy: 0.85 - ETA: 1s - loss: 0.4078 - accuracy: 0.85 - ETA: 1s - loss: 0.4073 - accuracy: 0.85 - ETA: 1s - loss: 0.4065 - accuracy: 0.85 - ETA: 1s - loss: 0.4061 - accuracy: 0.85 - ETA: 1s - loss: 0.4053 - accuracy: 0.85 - ETA: 1s - loss: 0.4045 - accuracy: 0.85 - ETA: 1s - loss: 0.4039 - accuracy: 0.85 - ETA: 1s - loss: 0.4037 - accuracy: 0.85 - ETA: 0s - loss: 0.4029 - accuracy: 0.85 - ETA: 0s - loss: 0.4017 - accuracy: 0.85 - ETA: 0s - loss: 0.4010 - accuracy: 0.85 - ETA: 0s - loss: 0.3996 - accuracy: 0.85 - ETA: 0s - loss: 0.3992 - accuracy: 0.85 - ETA: 0s - loss: 0.3983 - accuracy: 0.85 - ETA: 0s - loss: 0.3976 - accuracy: 0.85 - ETA: 0s - loss: 0.3971 - accuracy: 0.85 - ETA: 0s - loss: 0.3961 - accuracy: 0.85 - ETA: 0s - loss: 0.3952 - accuracy: 0.85 - ETA: 0s - loss: 0.3945 - accuracy: 0.85 - ETA: 0s - loss: 0.3938 - accuracy: 0.85 - ETA: 0s - loss: 0.3928 - accuracy: 0.85 - ETA: 0s - loss: 0.3923 - accuracy: 0.85 - ETA: 0s - loss: 0.3916 - accuracy: 0.85 - ETA: 0s - loss: 0.3911 - accuracy: 0.85 - ETA: 0s - loss: 0.3902 - accuracy: 0.85 - ETA: 0s - loss: 0.3894 - accuracy: 0.85 - 9s 164us/sample - loss: 0.3889 - accuracy: 0.8594 - val_loss: 0.2878 - val_accuracy: 0.8945\n",
      "Epoch 2/3\n",
      "54000/54000 [==============================] - ETA: 11s - loss: 0.2994 - accuracy: 0.875 - ETA: 7s - loss: 0.2317 - accuracy: 0.920 - ETA: 7s - loss: 0.2482 - accuracy: 0.91 - ETA: 7s - loss: 0.2441 - accuracy: 0.91 - ETA: 7s - loss: 0.2381 - accuracy: 0.91 - ETA: 7s - loss: 0.2495 - accuracy: 0.91 - ETA: 7s - loss: 0.2465 - accuracy: 0.91 - ETA: 7s - loss: 0.2511 - accuracy: 0.91 - ETA: 7s - loss: 0.2539 - accuracy: 0.91 - ETA: 7s - loss: 0.2483 - accuracy: 0.91 - ETA: 7s - loss: 0.2480 - accuracy: 0.91 - ETA: 6s - loss: 0.2484 - accuracy: 0.91 - ETA: 6s - loss: 0.2502 - accuracy: 0.91 - ETA: 6s - loss: 0.2493 - accuracy: 0.91 - ETA: 6s - loss: 0.2475 - accuracy: 0.91 - ETA: 6s - loss: 0.2494 - accuracy: 0.91 - ETA: 6s - loss: 0.2486 - accuracy: 0.91 - ETA: 6s - loss: 0.2532 - accuracy: 0.91 - ETA: 6s - loss: 0.2499 - accuracy: 0.91 - ETA: 6s - loss: 0.2492 - accuracy: 0.91 - ETA: 6s - loss: 0.2486 - accuracy: 0.91 - ETA: 6s - loss: 0.2455 - accuracy: 0.91 - ETA: 6s - loss: 0.2437 - accuracy: 0.91 - ETA: 6s - loss: 0.2459 - accuracy: 0.91 - ETA: 6s - loss: 0.2454 - accuracy: 0.91 - ETA: 6s - loss: 0.2449 - accuracy: 0.91 - ETA: 6s - loss: 0.2452 - accuracy: 0.91 - ETA: 6s - loss: 0.2463 - accuracy: 0.91 - ETA: 6s - loss: 0.2454 - accuracy: 0.91 - ETA: 6s - loss: 0.2440 - accuracy: 0.91 - ETA: 6s - loss: 0.2443 - accuracy: 0.91 - ETA: 6s - loss: 0.2462 - accuracy: 0.91 - ETA: 6s - loss: 0.2481 - accuracy: 0.91 - ETA: 6s - loss: 0.2479 - accuracy: 0.91 - ETA: 5s - loss: 0.2487 - accuracy: 0.91 - ETA: 5s - loss: 0.2496 - accuracy: 0.91 - ETA: 5s - loss: 0.2498 - accuracy: 0.91 - ETA: 5s - loss: 0.2495 - accuracy: 0.90 - ETA: 5s - loss: 0.2486 - accuracy: 0.91 - ETA: 5s - loss: 0.2509 - accuracy: 0.90 - ETA: 5s - loss: 0.2514 - accuracy: 0.90 - ETA: 5s - loss: 0.2517 - accuracy: 0.90 - ETA: 5s - loss: 0.2512 - accuracy: 0.90 - ETA: 5s - loss: 0.2502 - accuracy: 0.90 - ETA: 5s - loss: 0.2503 - accuracy: 0.90 - ETA: 5s - loss: 0.2516 - accuracy: 0.90 - ETA: 5s - loss: 0.2510 - accuracy: 0.90 - ETA: 5s - loss: 0.2513 - accuracy: 0.90 - ETA: 5s - loss: 0.2510 - accuracy: 0.90 - ETA: 5s - loss: 0.2505 - accuracy: 0.90 - ETA: 5s - loss: 0.2499 - accuracy: 0.90 - ETA: 5s - loss: 0.2501 - accuracy: 0.90 - ETA: 5s - loss: 0.2501 - accuracy: 0.90 - ETA: 5s - loss: 0.2510 - accuracy: 0.90 - ETA: 5s - loss: 0.2503 - accuracy: 0.90 - ETA: 4s - loss: 0.2495 - accuracy: 0.90 - ETA: 4s - loss: 0.2497 - accuracy: 0.90 - ETA: 4s - loss: 0.2501 - accuracy: 0.90 - ETA: 4s - loss: 0.2505 - accuracy: 0.90 - ETA: 4s - loss: 0.2501 - accuracy: 0.90 - ETA: 4s - loss: 0.2502 - accuracy: 0.90 - ETA: 4s - loss: 0.2511 - accuracy: 0.90 - ETA: 4s - loss: 0.2520 - accuracy: 0.90 - ETA: 4s - loss: 0.2519 - accuracy: 0.90 - ETA: 4s - loss: 0.2511 - accuracy: 0.90 - ETA: 4s - loss: 0.2503 - accuracy: 0.90 - ETA: 4s - loss: 0.2501 - accuracy: 0.90 - ETA: 4s - loss: 0.2512 - accuracy: 0.90 - ETA: 4s - loss: 0.2506 - accuracy: 0.90 - ETA: 4s - loss: 0.2497 - accuracy: 0.90 - ETA: 4s - loss: 0.2499 - accuracy: 0.90 - ETA: 4s - loss: 0.2505 - accuracy: 0.90 - ETA: 4s - loss: 0.2505 - accuracy: 0.90 - ETA: 4s - loss: 0.2499 - accuracy: 0.90 - ETA: 3s - loss: 0.2494 - accuracy: 0.90 - ETA: 3s - loss: 0.2495 - accuracy: 0.90 - ETA: 3s - loss: 0.2499 - accuracy: 0.90 - ETA: 3s - loss: 0.2496 - accuracy: 0.90 - ETA: 3s - loss: 0.2498 - accuracy: 0.90 - ETA: 3s - loss: 0.2494 - accuracy: 0.90 - ETA: 3s - loss: 0.2492 - accuracy: 0.90 - ETA: 3s - loss: 0.2492 - accuracy: 0.90 - ETA: 3s - loss: 0.2494 - accuracy: 0.90 - ETA: 3s - loss: 0.2496 - accuracy: 0.90 - ETA: 3s - loss: 0.2502 - accuracy: 0.90 - ETA: 3s - loss: 0.2497 - accuracy: 0.90 - ETA: 3s - loss: 0.2495 - accuracy: 0.90 - ETA: 3s - loss: 0.2497 - accuracy: 0.90 - ETA: 3s - loss: 0.2496 - accuracy: 0.90 - ETA: 3s - loss: 0.2495 - accuracy: 0.90 - ETA: 3s - loss: 0.2487 - accuracy: 0.90 - ETA: 3s - loss: 0.2487 - accuracy: 0.90 - ETA: 3s - loss: 0.2487 - accuracy: 0.90 - ETA: 3s - loss: 0.2489 - accuracy: 0.90 - ETA: 2s - loss: 0.2483 - accuracy: 0.90 - ETA: 2s - loss: 0.2484 - accuracy: 0.90 - ETA: 2s - loss: 0.2490 - accuracy: 0.90 - ETA: 2s - loss: 0.2493 - accuracy: 0.90 - ETA: 2s - loss: 0.2491 - accuracy: 0.90 - ETA: 2s - loss: 0.2491 - accuracy: 0.90 - ETA: 2s - loss: 0.2484 - accuracy: 0.90 - ETA: 2s - loss: 0.2479 - accuracy: 0.90 - ETA: 2s - loss: 0.2479 - accuracy: 0.90 - ETA: 2s - loss: 0.2478 - accuracy: 0.90 - ETA: 2s - loss: 0.2482 - accuracy: 0.90 - ETA: 2s - loss: 0.2488 - accuracy: 0.90 - ETA: 2s - loss: 0.2485 - accuracy: 0.90 - ETA: 2s - loss: 0.2483 - accuracy: 0.90 - ETA: 2s - loss: 0.2480 - accuracy: 0.90 - ETA: 2s - loss: 0.2481 - accuracy: 0.90 - ETA: 2s - loss: 0.2478 - accuracy: 0.90 - ETA: 2s - loss: 0.2475 - accuracy: 0.90 - ETA: 2s - loss: 0.2475 - accuracy: 0.90 - ETA: 1s - loss: 0.2474 - accuracy: 0.90 - ETA: 1s - loss: 0.2471 - accuracy: 0.90 - ETA: 1s - loss: 0.2473 - accuracy: 0.90 - ETA: 1s - loss: 0.2469 - accuracy: 0.90 - ETA: 1s - loss: 0.2465 - accuracy: 0.90 - ETA: 1s - loss: 0.2464 - accuracy: 0.90 - ETA: 1s - loss: 0.2460 - accuracy: 0.90 - ETA: 1s - loss: 0.2455 - accuracy: 0.90 - ETA: 1s - loss: 0.2455 - accuracy: 0.90 - ETA: 1s - loss: 0.2453 - accuracy: 0.90 - ETA: 1s - loss: 0.2453 - accuracy: 0.90 - ETA: 1s - loss: 0.2454 - accuracy: 0.90 - ETA: 1s - loss: 0.2449 - accuracy: 0.90 - ETA: 1s - loss: 0.2448 - accuracy: 0.90 - ETA: 1s - loss: 0.2445 - accuracy: 0.90 - ETA: 1s - loss: 0.2446 - accuracy: 0.90 - ETA: 1s - loss: 0.2451 - accuracy: 0.90 - ETA: 1s - loss: 0.2449 - accuracy: 0.90 - ETA: 1s - loss: 0.2447 - accuracy: 0.90 - ETA: 0s - loss: 0.2444 - accuracy: 0.90 - ETA: 0s - loss: 0.2437 - accuracy: 0.91 - ETA: 0s - loss: 0.2437 - accuracy: 0.91 - ETA: 0s - loss: 0.2443 - accuracy: 0.91 - ETA: 0s - loss: 0.2442 - accuracy: 0.90 - ETA: 0s - loss: 0.2437 - accuracy: 0.91 - ETA: 0s - loss: 0.2436 - accuracy: 0.91 - ETA: 0s - loss: 0.2433 - accuracy: 0.91 - ETA: 0s - loss: 0.2429 - accuracy: 0.91 - ETA: 0s - loss: 0.2426 - accuracy: 0.91 - ETA: 0s - loss: 0.2426 - accuracy: 0.91 - ETA: 0s - loss: 0.2427 - accuracy: 0.91 - ETA: 0s - loss: 0.2425 - accuracy: 0.91 - ETA: 0s - loss: 0.2426 - accuracy: 0.91 - ETA: 0s - loss: 0.2426 - accuracy: 0.91 - ETA: 0s - loss: 0.2429 - accuracy: 0.91 - ETA: 0s - loss: 0.2426 - accuracy: 0.91 - ETA: 0s - loss: 0.2424 - accuracy: 0.91 - ETA: 0s - loss: 0.2420 - accuracy: 0.91 - ETA: 0s - loss: 0.2415 - accuracy: 0.91 - ETA: 0s - loss: 0.2410 - accuracy: 0.91 - 9s 158us/sample - loss: 0.2409 - accuracy: 0.9113 - val_loss: 0.2521 - val_accuracy: 0.9068\n",
      "Epoch 3/3\n"
     ]
    },
    {
     "name": "stdout",
     "output_type": "stream",
     "text": [
      "54000/54000 [==============================] - ETA: 12s - loss: 0.2693 - accuracy: 0.968 - ETA: 8s - loss: 0.1981 - accuracy: 0.919 - ETA: 7s - loss: 0.1711 - accuracy: 0.93 - ETA: 7s - loss: 0.1581 - accuracy: 0.93 - ETA: 7s - loss: 0.1652 - accuracy: 0.93 - ETA: 7s - loss: 0.1591 - accuracy: 0.93 - ETA: 7s - loss: 0.1560 - accuracy: 0.93 - ETA: 7s - loss: 0.1546 - accuracy: 0.93 - ETA: 8s - loss: 0.1607 - accuracy: 0.93 - ETA: 8s - loss: 0.1610 - accuracy: 0.93 - ETA: 7s - loss: 0.1586 - accuracy: 0.93 - ETA: 7s - loss: 0.1661 - accuracy: 0.93 - ETA: 7s - loss: 0.1675 - accuracy: 0.93 - ETA: 7s - loss: 0.1688 - accuracy: 0.93 - ETA: 7s - loss: 0.1686 - accuracy: 0.93 - ETA: 7s - loss: 0.1714 - accuracy: 0.93 - ETA: 7s - loss: 0.1743 - accuracy: 0.93 - ETA: 7s - loss: 0.1729 - accuracy: 0.93 - ETA: 7s - loss: 0.1721 - accuracy: 0.93 - ETA: 7s - loss: 0.1703 - accuracy: 0.93 - ETA: 7s - loss: 0.1695 - accuracy: 0.93 - ETA: 7s - loss: 0.1689 - accuracy: 0.93 - ETA: 7s - loss: 0.1690 - accuracy: 0.93 - ETA: 7s - loss: 0.1704 - accuracy: 0.93 - ETA: 7s - loss: 0.1714 - accuracy: 0.93 - ETA: 7s - loss: 0.1728 - accuracy: 0.93 - ETA: 7s - loss: 0.1726 - accuracy: 0.93 - ETA: 7s - loss: 0.1725 - accuracy: 0.93 - ETA: 7s - loss: 0.1728 - accuracy: 0.93 - ETA: 7s - loss: 0.1725 - accuracy: 0.93 - ETA: 6s - loss: 0.1731 - accuracy: 0.93 - ETA: 6s - loss: 0.1741 - accuracy: 0.93 - ETA: 6s - loss: 0.1728 - accuracy: 0.93 - ETA: 6s - loss: 0.1721 - accuracy: 0.93 - ETA: 6s - loss: 0.1721 - accuracy: 0.93 - ETA: 6s - loss: 0.1720 - accuracy: 0.93 - ETA: 6s - loss: 0.1718 - accuracy: 0.93 - ETA: 6s - loss: 0.1709 - accuracy: 0.93 - ETA: 6s - loss: 0.1713 - accuracy: 0.93 - ETA: 6s - loss: 0.1705 - accuracy: 0.93 - ETA: 6s - loss: 0.1718 - accuracy: 0.93 - ETA: 6s - loss: 0.1719 - accuracy: 0.93 - ETA: 6s - loss: 0.1720 - accuracy: 0.93 - ETA: 5s - loss: 0.1724 - accuracy: 0.93 - ETA: 5s - loss: 0.1736 - accuracy: 0.93 - ETA: 5s - loss: 0.1741 - accuracy: 0.93 - ETA: 5s - loss: 0.1735 - accuracy: 0.93 - ETA: 5s - loss: 0.1731 - accuracy: 0.93 - ETA: 5s - loss: 0.1744 - accuracy: 0.93 - ETA: 5s - loss: 0.1741 - accuracy: 0.93 - ETA: 5s - loss: 0.1746 - accuracy: 0.93 - ETA: 5s - loss: 0.1747 - accuracy: 0.93 - ETA: 5s - loss: 0.1748 - accuracy: 0.93 - ETA: 5s - loss: 0.1744 - accuracy: 0.93 - ETA: 5s - loss: 0.1741 - accuracy: 0.93 - ETA: 5s - loss: 0.1738 - accuracy: 0.93 - ETA: 5s - loss: 0.1734 - accuracy: 0.93 - ETA: 5s - loss: 0.1735 - accuracy: 0.93 - ETA: 5s - loss: 0.1735 - accuracy: 0.93 - ETA: 4s - loss: 0.1735 - accuracy: 0.93 - ETA: 4s - loss: 0.1735 - accuracy: 0.93 - ETA: 4s - loss: 0.1732 - accuracy: 0.93 - ETA: 4s - loss: 0.1734 - accuracy: 0.93 - ETA: 4s - loss: 0.1738 - accuracy: 0.93 - ETA: 4s - loss: 0.1743 - accuracy: 0.93 - ETA: 4s - loss: 0.1747 - accuracy: 0.93 - ETA: 4s - loss: 0.1756 - accuracy: 0.93 - ETA: 4s - loss: 0.1764 - accuracy: 0.93 - ETA: 4s - loss: 0.1768 - accuracy: 0.93 - ETA: 4s - loss: 0.1764 - accuracy: 0.93 - ETA: 4s - loss: 0.1760 - accuracy: 0.93 - ETA: 4s - loss: 0.1758 - accuracy: 0.93 - ETA: 4s - loss: 0.1765 - accuracy: 0.93 - ETA: 4s - loss: 0.1765 - accuracy: 0.93 - ETA: 4s - loss: 0.1766 - accuracy: 0.93 - ETA: 4s - loss: 0.1765 - accuracy: 0.93 - ETA: 4s - loss: 0.1761 - accuracy: 0.93 - ETA: 3s - loss: 0.1760 - accuracy: 0.93 - ETA: 3s - loss: 0.1760 - accuracy: 0.93 - ETA: 3s - loss: 0.1760 - accuracy: 0.93 - ETA: 3s - loss: 0.1763 - accuracy: 0.93 - ETA: 3s - loss: 0.1766 - accuracy: 0.93 - ETA: 3s - loss: 0.1767 - accuracy: 0.93 - ETA: 3s - loss: 0.1770 - accuracy: 0.93 - ETA: 3s - loss: 0.1770 - accuracy: 0.93 - ETA: 3s - loss: 0.1776 - accuracy: 0.93 - ETA: 3s - loss: 0.1777 - accuracy: 0.93 - ETA: 3s - loss: 0.1777 - accuracy: 0.93 - ETA: 3s - loss: 0.1777 - accuracy: 0.93 - ETA: 3s - loss: 0.1778 - accuracy: 0.93 - ETA: 3s - loss: 0.1776 - accuracy: 0.93 - ETA: 3s - loss: 0.1778 - accuracy: 0.93 - ETA: 3s - loss: 0.1774 - accuracy: 0.93 - ETA: 3s - loss: 0.1777 - accuracy: 0.93 - ETA: 3s - loss: 0.1770 - accuracy: 0.93 - ETA: 2s - loss: 0.1768 - accuracy: 0.93 - ETA: 2s - loss: 0.1767 - accuracy: 0.93 - ETA: 2s - loss: 0.1769 - accuracy: 0.93 - ETA: 2s - loss: 0.1771 - accuracy: 0.93 - ETA: 2s - loss: 0.1772 - accuracy: 0.93 - ETA: 2s - loss: 0.1778 - accuracy: 0.93 - ETA: 2s - loss: 0.1783 - accuracy: 0.93 - ETA: 2s - loss: 0.1782 - accuracy: 0.93 - ETA: 2s - loss: 0.1787 - accuracy: 0.93 - ETA: 2s - loss: 0.1788 - accuracy: 0.93 - ETA: 2s - loss: 0.1785 - accuracy: 0.93 - ETA: 2s - loss: 0.1786 - accuracy: 0.93 - ETA: 2s - loss: 0.1789 - accuracy: 0.93 - ETA: 2s - loss: 0.1788 - accuracy: 0.93 - ETA: 2s - loss: 0.1791 - accuracy: 0.93 - ETA: 2s - loss: 0.1793 - accuracy: 0.93 - ETA: 2s - loss: 0.1789 - accuracy: 0.93 - ETA: 2s - loss: 0.1786 - accuracy: 0.93 - ETA: 1s - loss: 0.1784 - accuracy: 0.93 - ETA: 1s - loss: 0.1787 - accuracy: 0.93 - ETA: 1s - loss: 0.1787 - accuracy: 0.93 - ETA: 1s - loss: 0.1785 - accuracy: 0.93 - ETA: 1s - loss: 0.1783 - accuracy: 0.93 - ETA: 1s - loss: 0.1787 - accuracy: 0.93 - ETA: 1s - loss: 0.1785 - accuracy: 0.93 - ETA: 1s - loss: 0.1786 - accuracy: 0.93 - ETA: 1s - loss: 0.1784 - accuracy: 0.93 - ETA: 1s - loss: 0.1783 - accuracy: 0.93 - ETA: 1s - loss: 0.1785 - accuracy: 0.93 - ETA: 1s - loss: 0.1785 - accuracy: 0.93 - ETA: 1s - loss: 0.1789 - accuracy: 0.93 - ETA: 1s - loss: 0.1790 - accuracy: 0.93 - ETA: 1s - loss: 0.1787 - accuracy: 0.93 - ETA: 1s - loss: 0.1789 - accuracy: 0.93 - ETA: 1s - loss: 0.1788 - accuracy: 0.93 - ETA: 1s - loss: 0.1785 - accuracy: 0.93 - ETA: 1s - loss: 0.1783 - accuracy: 0.93 - ETA: 0s - loss: 0.1783 - accuracy: 0.93 - ETA: 0s - loss: 0.1781 - accuracy: 0.93 - ETA: 0s - loss: 0.1781 - accuracy: 0.93 - ETA: 0s - loss: 0.1783 - accuracy: 0.93 - ETA: 0s - loss: 0.1782 - accuracy: 0.93 - ETA: 0s - loss: 0.1780 - accuracy: 0.93 - ETA: 0s - loss: 0.1783 - accuracy: 0.93 - ETA: 0s - loss: 0.1782 - accuracy: 0.93 - ETA: 0s - loss: 0.1778 - accuracy: 0.93 - ETA: 0s - loss: 0.1781 - accuracy: 0.93 - ETA: 0s - loss: 0.1786 - accuracy: 0.93 - ETA: 0s - loss: 0.1789 - accuracy: 0.93 - ETA: 0s - loss: 0.1790 - accuracy: 0.93 - ETA: 0s - loss: 0.1792 - accuracy: 0.93 - ETA: 0s - loss: 0.1792 - accuracy: 0.93 - ETA: 0s - loss: 0.1794 - accuracy: 0.93 - ETA: 0s - loss: 0.1790 - accuracy: 0.93 - ETA: 0s - loss: 0.1793 - accuracy: 0.93 - 8s 155us/sample - loss: 0.1794 - accuracy: 0.9333 - val_loss: 0.2409 - val_accuracy: 0.9097\n"
     ]
    },
    {
     "data": {
      "text/html": [
       "<span style=\"color:#4527A0\"><h1 style=\"font-size:18px\">Trial complete</h1></span>"
      ],
      "text/plain": [
       "<IPython.core.display.HTML object>"
      ]
     },
     "metadata": {},
     "output_type": "display_data"
    },
    {
     "data": {
      "text/html": [
       "<span style=\"color:#4527A0\"><h1 style=\"font-size:18px\">Trial summary</h1></span>"
      ],
      "text/plain": [
       "<IPython.core.display.HTML object>"
      ]
     },
     "metadata": {},
     "output_type": "display_data"
    },
    {
     "data": {
      "text/html": [
       "<span style=\"color:cyan\"> |-Trial ID: 475cb86a7e87f83b399c3ae9aa94a1c6</span>"
      ],
      "text/plain": [
       "<IPython.core.display.HTML object>"
      ]
     },
     "metadata": {},
     "output_type": "display_data"
    },
    {
     "data": {
      "text/html": [
       "<span style=\"color:cyan\"> |-Score: 0.9096666574478149</span>"
      ],
      "text/plain": [
       "<IPython.core.display.HTML object>"
      ]
     },
     "metadata": {},
     "output_type": "display_data"
    },
    {
     "data": {
      "text/html": [
       "<span style=\"color:cyan\"> |-Best step: 0</span>"
      ],
      "text/plain": [
       "<IPython.core.display.HTML object>"
      ]
     },
     "metadata": {},
     "output_type": "display_data"
    },
    {
     "data": {
      "text/html": [
       "<span style=\"color:#7E57C2\"><h2 style=\"font-size:16px\">Hyperparameters:</h2></span>"
      ],
      "text/plain": [
       "<IPython.core.display.HTML object>"
      ]
     },
     "metadata": {},
     "output_type": "display_data"
    },
    {
     "data": {
      "text/html": [
       "<span style=\"color:cyan\"> |-conv_1_filter: 112</span>"
      ],
      "text/plain": [
       "<IPython.core.display.HTML object>"
      ]
     },
     "metadata": {},
     "output_type": "display_data"
    },
    {
     "data": {
      "text/html": [
       "<span style=\"color:blue\"> |-conv_1_kernel: 3</span>"
      ],
      "text/plain": [
       "<IPython.core.display.HTML object>"
      ]
     },
     "metadata": {},
     "output_type": "display_data"
    },
    {
     "data": {
      "text/html": [
       "<span style=\"color:cyan\"> |-conv_2_filter: 48</span>"
      ],
      "text/plain": [
       "<IPython.core.display.HTML object>"
      ]
     },
     "metadata": {},
     "output_type": "display_data"
    },
    {
     "data": {
      "text/html": [
       "<span style=\"color:blue\"> |-conv_2_kernel: 3</span>"
      ],
      "text/plain": [
       "<IPython.core.display.HTML object>"
      ]
     },
     "metadata": {},
     "output_type": "display_data"
    },
    {
     "data": {
      "text/html": [
       "<span style=\"color:cyan\"> |-dense_1_units: 80</span>"
      ],
      "text/plain": [
       "<IPython.core.display.HTML object>"
      ]
     },
     "metadata": {},
     "output_type": "display_data"
    },
    {
     "data": {
      "text/html": [
       "<span style=\"color:blue\"> |-learning_rate: 0.001</span>"
      ],
      "text/plain": [
       "<IPython.core.display.HTML object>"
      ]
     },
     "metadata": {},
     "output_type": "display_data"
    },
    {
     "name": "stdout",
     "output_type": "stream",
     "text": [
      "Train on 54000 samples, validate on 6000 samples\n",
      "Epoch 1/3\n",
      "54000/54000 [==============================] - ETA: 9:22 - loss: 2.3221 - accuracy: 0.06 - ETA: 49s - loss: 2.4438 - accuracy: 0.1466 - ETA: 29s - loss: 2.0861 - accuracy: 0.273 - ETA: 21s - loss: 1.8153 - accuracy: 0.373 - ETA: 17s - loss: 1.6132 - accuracy: 0.440 - ETA: 15s - loss: 1.4530 - accuracy: 0.496 - ETA: 13s - loss: 1.3468 - accuracy: 0.531 - ETA: 13s - loss: 1.2741 - accuracy: 0.557 - ETA: 13s - loss: 1.2378 - accuracy: 0.567 - ETA: 12s - loss: 1.1652 - accuracy: 0.591 - ETA: 11s - loss: 1.1123 - accuracy: 0.605 - ETA: 10s - loss: 1.0690 - accuracy: 0.621 - ETA: 10s - loss: 1.0317 - accuracy: 0.631 - ETA: 10s - loss: 0.9982 - accuracy: 0.644 - ETA: 10s - loss: 0.9803 - accuracy: 0.650 - ETA: 10s - loss: 0.9628 - accuracy: 0.656 - ETA: 10s - loss: 0.9399 - accuracy: 0.664 - ETA: 9s - loss: 0.9256 - accuracy: 0.670 - ETA: 9s - loss: 0.9062 - accuracy: 0.67 - ETA: 9s - loss: 0.8948 - accuracy: 0.68 - ETA: 9s - loss: 0.8788 - accuracy: 0.69 - ETA: 8s - loss: 0.8629 - accuracy: 0.69 - ETA: 8s - loss: 0.8457 - accuracy: 0.70 - ETA: 8s - loss: 0.8333 - accuracy: 0.70 - ETA: 8s - loss: 0.8201 - accuracy: 0.70 - ETA: 8s - loss: 0.8102 - accuracy: 0.71 - ETA: 7s - loss: 0.7987 - accuracy: 0.71 - ETA: 7s - loss: 0.7908 - accuracy: 0.71 - ETA: 7s - loss: 0.7806 - accuracy: 0.72 - ETA: 7s - loss: 0.7719 - accuracy: 0.72 - ETA: 7s - loss: 0.7645 - accuracy: 0.72 - ETA: 7s - loss: 0.7571 - accuracy: 0.73 - ETA: 7s - loss: 0.7483 - accuracy: 0.73 - ETA: 6s - loss: 0.7408 - accuracy: 0.73 - ETA: 6s - loss: 0.7328 - accuracy: 0.73 - ETA: 6s - loss: 0.7276 - accuracy: 0.74 - ETA: 6s - loss: 0.7217 - accuracy: 0.74 - ETA: 6s - loss: 0.7163 - accuracy: 0.74 - ETA: 6s - loss: 0.7110 - accuracy: 0.74 - ETA: 6s - loss: 0.7044 - accuracy: 0.74 - ETA: 6s - loss: 0.6982 - accuracy: 0.75 - ETA: 6s - loss: 0.6909 - accuracy: 0.75 - ETA: 6s - loss: 0.6872 - accuracy: 0.75 - ETA: 5s - loss: 0.6814 - accuracy: 0.75 - ETA: 5s - loss: 0.6750 - accuracy: 0.75 - ETA: 5s - loss: 0.6699 - accuracy: 0.75 - ETA: 5s - loss: 0.6658 - accuracy: 0.75 - ETA: 5s - loss: 0.6615 - accuracy: 0.76 - ETA: 5s - loss: 0.6567 - accuracy: 0.76 - ETA: 5s - loss: 0.6510 - accuracy: 0.76 - ETA: 5s - loss: 0.6499 - accuracy: 0.76 - ETA: 5s - loss: 0.6462 - accuracy: 0.76 - ETA: 5s - loss: 0.6452 - accuracy: 0.76 - ETA: 5s - loss: 0.6425 - accuracy: 0.76 - ETA: 5s - loss: 0.6379 - accuracy: 0.76 - ETA: 4s - loss: 0.6345 - accuracy: 0.76 - ETA: 4s - loss: 0.6308 - accuracy: 0.77 - ETA: 4s - loss: 0.6284 - accuracy: 0.77 - ETA: 4s - loss: 0.6257 - accuracy: 0.77 - ETA: 4s - loss: 0.6229 - accuracy: 0.77 - ETA: 4s - loss: 0.6223 - accuracy: 0.77 - ETA: 4s - loss: 0.6199 - accuracy: 0.77 - ETA: 4s - loss: 0.6176 - accuracy: 0.77 - ETA: 4s - loss: 0.6153 - accuracy: 0.77 - ETA: 4s - loss: 0.6122 - accuracy: 0.77 - ETA: 4s - loss: 0.6087 - accuracy: 0.77 - ETA: 4s - loss: 0.6063 - accuracy: 0.78 - ETA: 4s - loss: 0.6032 - accuracy: 0.78 - ETA: 4s - loss: 0.6018 - accuracy: 0.78 - ETA: 3s - loss: 0.5995 - accuracy: 0.78 - ETA: 3s - loss: 0.5975 - accuracy: 0.78 - ETA: 3s - loss: 0.5954 - accuracy: 0.78 - ETA: 3s - loss: 0.5941 - accuracy: 0.78 - ETA: 3s - loss: 0.5927 - accuracy: 0.78 - ETA: 3s - loss: 0.5912 - accuracy: 0.78 - ETA: 3s - loss: 0.5898 - accuracy: 0.78 - ETA: 3s - loss: 0.5881 - accuracy: 0.78 - ETA: 3s - loss: 0.5857 - accuracy: 0.78 - ETA: 3s - loss: 0.5834 - accuracy: 0.78 - ETA: 3s - loss: 0.5821 - accuracy: 0.78 - ETA: 3s - loss: 0.5797 - accuracy: 0.78 - ETA: 3s - loss: 0.5784 - accuracy: 0.79 - ETA: 3s - loss: 0.5774 - accuracy: 0.79 - ETA: 3s - loss: 0.5761 - accuracy: 0.79 - ETA: 3s - loss: 0.5737 - accuracy: 0.79 - ETA: 2s - loss: 0.5722 - accuracy: 0.79 - ETA: 2s - loss: 0.5703 - accuracy: 0.79 - ETA: 2s - loss: 0.5692 - accuracy: 0.79 - ETA: 2s - loss: 0.5672 - accuracy: 0.79 - ETA: 2s - loss: 0.5656 - accuracy: 0.79 - ETA: 2s - loss: 0.5642 - accuracy: 0.79 - ETA: 2s - loss: 0.5628 - accuracy: 0.79 - ETA: 2s - loss: 0.5610 - accuracy: 0.79 - ETA: 2s - loss: 0.5595 - accuracy: 0.79 - ETA: 2s - loss: 0.5575 - accuracy: 0.79 - ETA: 2s - loss: 0.5562 - accuracy: 0.79 - ETA: 2s - loss: 0.5544 - accuracy: 0.79 - ETA: 2s - loss: 0.5533 - accuracy: 0.79 - ETA: 2s - loss: 0.5520 - accuracy: 0.79 - ETA: 2s - loss: 0.5501 - accuracy: 0.79 - ETA: 2s - loss: 0.5496 - accuracy: 0.80 - ETA: 1s - loss: 0.5486 - accuracy: 0.80 - ETA: 1s - loss: 0.5473 - accuracy: 0.80 - ETA: 1s - loss: 0.5462 - accuracy: 0.80 - ETA: 1s - loss: 0.5451 - accuracy: 0.80 - ETA: 1s - loss: 0.5434 - accuracy: 0.80 - ETA: 1s - loss: 0.5421 - accuracy: 0.80 - ETA: 1s - loss: 0.5413 - accuracy: 0.80 - ETA: 1s - loss: 0.5403 - accuracy: 0.80 - ETA: 1s - loss: 0.5392 - accuracy: 0.80 - ETA: 1s - loss: 0.5389 - accuracy: 0.80 - ETA: 1s - loss: 0.5378 - accuracy: 0.80 - ETA: 1s - loss: 0.5368 - accuracy: 0.80 - ETA: 1s - loss: 0.5355 - accuracy: 0.80 - ETA: 1s - loss: 0.5348 - accuracy: 0.80 - ETA: 1s - loss: 0.5340 - accuracy: 0.80 - ETA: 1s - loss: 0.5328 - accuracy: 0.80 - ETA: 1s - loss: 0.5316 - accuracy: 0.80 - ETA: 1s - loss: 0.5305 - accuracy: 0.80 - ETA: 0s - loss: 0.5300 - accuracy: 0.80 - ETA: 0s - loss: 0.5288 - accuracy: 0.80 - ETA: 0s - loss: 0.5276 - accuracy: 0.80 - ETA: 0s - loss: 0.5265 - accuracy: 0.80 - ETA: 0s - loss: 0.5258 - accuracy: 0.80 - ETA: 0s - loss: 0.5251 - accuracy: 0.80 - ETA: 0s - loss: 0.5247 - accuracy: 0.80 - ETA: 0s - loss: 0.5243 - accuracy: 0.80 - ETA: 0s - loss: 0.5238 - accuracy: 0.80 - ETA: 0s - loss: 0.5233 - accuracy: 0.80 - ETA: 0s - loss: 0.5229 - accuracy: 0.80 - ETA: 0s - loss: 0.5218 - accuracy: 0.80 - ETA: 0s - loss: 0.5213 - accuracy: 0.80 - ETA: 0s - loss: 0.5205 - accuracy: 0.81 - ETA: 0s - loss: 0.5203 - accuracy: 0.81 - ETA: 0s - loss: 0.5200 - accuracy: 0.81 - ETA: 0s - loss: 0.5191 - accuracy: 0.81 - 8s 149us/sample - loss: 0.5187 - accuracy: 0.8107 - val_loss: 0.4296 - val_accuracy: 0.8410\n",
      "Epoch 2/3\n",
      "54000/54000 [==============================] - ETA: 11s - loss: 0.2604 - accuracy: 0.937 - ETA: 7s - loss: 0.3830 - accuracy: 0.846 - ETA: 7s - loss: 0.3946 - accuracy: 0.84 - ETA: 6s - loss: 0.3935 - accuracy: 0.85 - ETA: 6s - loss: 0.3793 - accuracy: 0.85 - ETA: 6s - loss: 0.3835 - accuracy: 0.85 - ETA: 6s - loss: 0.3796 - accuracy: 0.85 - ETA: 6s - loss: 0.3889 - accuracy: 0.84 - ETA: 6s - loss: 0.3962 - accuracy: 0.84 - ETA: 6s - loss: 0.3936 - accuracy: 0.84 - ETA: 6s - loss: 0.3957 - accuracy: 0.84 - ETA: 6s - loss: 0.4004 - accuracy: 0.84 - ETA: 6s - loss: 0.3964 - accuracy: 0.84 - ETA: 6s - loss: 0.3987 - accuracy: 0.84 - ETA: 6s - loss: 0.3977 - accuracy: 0.84 - ETA: 6s - loss: 0.3930 - accuracy: 0.84 - ETA: 6s - loss: 0.3945 - accuracy: 0.84 - ETA: 6s - loss: 0.3948 - accuracy: 0.85 - ETA: 6s - loss: 0.3967 - accuracy: 0.84 - ETA: 6s - loss: 0.3925 - accuracy: 0.85 - ETA: 5s - loss: 0.3921 - accuracy: 0.85 - ETA: 5s - loss: 0.3918 - accuracy: 0.85 - ETA: 5s - loss: 0.3946 - accuracy: 0.84 - ETA: 5s - loss: 0.3957 - accuracy: 0.85 - ETA: 5s - loss: 0.3947 - accuracy: 0.85 - ETA: 5s - loss: 0.3931 - accuracy: 0.85 - ETA: 5s - loss: 0.3952 - accuracy: 0.85 - ETA: 5s - loss: 0.3934 - accuracy: 0.85 - ETA: 5s - loss: 0.3965 - accuracy: 0.85 - ETA: 5s - loss: 0.3990 - accuracy: 0.85 - ETA: 5s - loss: 0.3973 - accuracy: 0.85 - ETA: 5s - loss: 0.3965 - accuracy: 0.85 - ETA: 5s - loss: 0.3952 - accuracy: 0.85 - ETA: 5s - loss: 0.3949 - accuracy: 0.85 - ETA: 5s - loss: 0.3951 - accuracy: 0.85 - ETA: 5s - loss: 0.3945 - accuracy: 0.85 - ETA: 5s - loss: 0.3941 - accuracy: 0.85 - ETA: 5s - loss: 0.3921 - accuracy: 0.85 - ETA: 5s - loss: 0.3910 - accuracy: 0.85 - ETA: 4s - loss: 0.3933 - accuracy: 0.85 - ETA: 4s - loss: 0.3922 - accuracy: 0.85 - ETA: 4s - loss: 0.3921 - accuracy: 0.85 - ETA: 4s - loss: 0.3923 - accuracy: 0.85 - ETA: 4s - loss: 0.3903 - accuracy: 0.85 - ETA: 4s - loss: 0.3905 - accuracy: 0.85 - ETA: 4s - loss: 0.3918 - accuracy: 0.85 - ETA: 4s - loss: 0.3927 - accuracy: 0.85 - ETA: 4s - loss: 0.3929 - accuracy: 0.85 - ETA: 4s - loss: 0.3950 - accuracy: 0.85 - ETA: 4s - loss: 0.3949 - accuracy: 0.85 - ETA: 4s - loss: 0.3959 - accuracy: 0.85 - ETA: 4s - loss: 0.3958 - accuracy: 0.85 - ETA: 4s - loss: 0.3965 - accuracy: 0.85 - ETA: 4s - loss: 0.3966 - accuracy: 0.85 - ETA: 4s - loss: 0.3971 - accuracy: 0.85 - ETA: 4s - loss: 0.3974 - accuracy: 0.85 - ETA: 4s - loss: 0.3980 - accuracy: 0.85 - ETA: 4s - loss: 0.3983 - accuracy: 0.85 - ETA: 3s - loss: 0.3988 - accuracy: 0.85 - ETA: 3s - loss: 0.3996 - accuracy: 0.85 - ETA: 3s - loss: 0.3980 - accuracy: 0.85 - ETA: 3s - loss: 0.3970 - accuracy: 0.85 - ETA: 3s - loss: 0.3963 - accuracy: 0.85 - ETA: 3s - loss: 0.3969 - accuracy: 0.85 - ETA: 3s - loss: 0.3964 - accuracy: 0.85 - ETA: 3s - loss: 0.3966 - accuracy: 0.85 - ETA: 3s - loss: 0.3971 - accuracy: 0.85 - ETA: 3s - loss: 0.3969 - accuracy: 0.85 - ETA: 3s - loss: 0.3957 - accuracy: 0.85 - ETA: 3s - loss: 0.3959 - accuracy: 0.85 - ETA: 3s - loss: 0.3961 - accuracy: 0.85 - ETA: 3s - loss: 0.3952 - accuracy: 0.85 - ETA: 3s - loss: 0.3953 - accuracy: 0.85 - ETA: 3s - loss: 0.3951 - accuracy: 0.85 - ETA: 3s - loss: 0.3956 - accuracy: 0.85 - ETA: 3s - loss: 0.3950 - accuracy: 0.85 - ETA: 3s - loss: 0.3943 - accuracy: 0.85 - ETA: 3s - loss: 0.3940 - accuracy: 0.85 - ETA: 3s - loss: 0.3941 - accuracy: 0.85 - ETA: 3s - loss: 0.3942 - accuracy: 0.85 - ETA: 3s - loss: 0.3944 - accuracy: 0.85 - ETA: 3s - loss: 0.3934 - accuracy: 0.85 - ETA: 3s - loss: 0.3932 - accuracy: 0.85 - ETA: 2s - loss: 0.3933 - accuracy: 0.85 - ETA: 2s - loss: 0.3931 - accuracy: 0.85 - ETA: 2s - loss: 0.3925 - accuracy: 0.85 - ETA: 2s - loss: 0.3923 - accuracy: 0.85 - ETA: 2s - loss: 0.3922 - accuracy: 0.85 - ETA: 2s - loss: 0.3917 - accuracy: 0.85 - ETA: 2s - loss: 0.3915 - accuracy: 0.85 - ETA: 2s - loss: 0.3911 - accuracy: 0.85 - ETA: 2s - loss: 0.3918 - accuracy: 0.85 - ETA: 2s - loss: 0.3917 - accuracy: 0.85 - ETA: 2s - loss: 0.3921 - accuracy: 0.85 - ETA: 2s - loss: 0.3925 - accuracy: 0.85 - ETA: 2s - loss: 0.3920 - accuracy: 0.85 - ETA: 2s - loss: 0.3926 - accuracy: 0.85 - ETA: 2s - loss: 0.3924 - accuracy: 0.85 - ETA: 2s - loss: 0.3931 - accuracy: 0.85 - ETA: 2s - loss: 0.3930 - accuracy: 0.85 - ETA: 2s - loss: 0.3926 - accuracy: 0.85 - ETA: 2s - loss: 0.3926 - accuracy: 0.85 - ETA: 2s - loss: 0.3922 - accuracy: 0.85 - ETA: 2s - loss: 0.3921 - accuracy: 0.85 - ETA: 2s - loss: 0.3919 - accuracy: 0.85 - ETA: 2s - loss: 0.3922 - accuracy: 0.85 - ETA: 1s - loss: 0.3922 - accuracy: 0.85 - ETA: 1s - loss: 0.3919 - accuracy: 0.85 - ETA: 1s - loss: 0.3921 - accuracy: 0.85 - ETA: 1s - loss: 0.3922 - accuracy: 0.85 - ETA: 1s - loss: 0.3920 - accuracy: 0.85 - ETA: 1s - loss: 0.3916 - accuracy: 0.85 - ETA: 1s - loss: 0.3915 - accuracy: 0.85 - ETA: 1s - loss: 0.3917 - accuracy: 0.85 - ETA: 1s - loss: 0.3915 - accuracy: 0.85 - ETA: 1s - loss: 0.3917 - accuracy: 0.85 - ETA: 1s - loss: 0.3920 - accuracy: 0.85 - ETA: 1s - loss: 0.3923 - accuracy: 0.85 - ETA: 1s - loss: 0.3928 - accuracy: 0.85 - ETA: 1s - loss: 0.3925 - accuracy: 0.85 - ETA: 1s - loss: 0.3926 - accuracy: 0.85 - ETA: 1s - loss: 0.3926 - accuracy: 0.85 - ETA: 1s - loss: 0.3926 - accuracy: 0.85 - ETA: 1s - loss: 0.3929 - accuracy: 0.85 - ETA: 1s - loss: 0.3930 - accuracy: 0.85 - ETA: 1s - loss: 0.3926 - accuracy: 0.85 - ETA: 1s - loss: 0.3923 - accuracy: 0.85 - ETA: 1s - loss: 0.3918 - accuracy: 0.85 - ETA: 1s - loss: 0.3924 - accuracy: 0.85 - ETA: 1s - loss: 0.3927 - accuracy: 0.85 - ETA: 1s - loss: 0.3925 - accuracy: 0.85 - ETA: 1s - loss: 0.3931 - accuracy: 0.85 - ETA: 1s - loss: 0.3926 - accuracy: 0.85 - ETA: 1s - loss: 0.3928 - accuracy: 0.85 - ETA: 0s - loss: 0.3929 - accuracy: 0.85 - ETA: 0s - loss: 0.3926 - accuracy: 0.85 - ETA: 0s - loss: 0.3924 - accuracy: 0.85 - ETA: 0s - loss: 0.3922 - accuracy: 0.85 - ETA: 0s - loss: 0.3922 - accuracy: 0.85 - ETA: 0s - loss: 0.3919 - accuracy: 0.85 - ETA: 0s - loss: 0.3913 - accuracy: 0.85 - ETA: 0s - loss: 0.3910 - accuracy: 0.85 - ETA: 0s - loss: 0.3914 - accuracy: 0.85 - ETA: 0s - loss: 0.3909 - accuracy: 0.85 - ETA: 0s - loss: 0.3912 - accuracy: 0.85 - ETA: 0s - loss: 0.3908 - accuracy: 0.85 - ETA: 0s - loss: 0.3909 - accuracy: 0.85 - ETA: 0s - loss: 0.3911 - accuracy: 0.85 - ETA: 0s - loss: 0.3916 - accuracy: 0.85 - ETA: 0s - loss: 0.3916 - accuracy: 0.85 - ETA: 0s - loss: 0.3914 - accuracy: 0.85 - 8s 155us/sample - loss: 0.3915 - accuracy: 0.8557 - val_loss: 0.4412 - val_accuracy: 0.8383\n",
      "Epoch 3/3\n"
     ]
    },
    {
     "name": "stdout",
     "output_type": "stream",
     "text": [
      "54000/54000 [==============================] - ETA: 11s - loss: 0.4499 - accuracy: 0.812 - ETA: 7s - loss: 0.3212 - accuracy: 0.891 - ETA: 8s - loss: 0.3297 - accuracy: 0.87 - ETA: 9s - loss: 0.3499 - accuracy: 0.86 - ETA: 8s - loss: 0.3654 - accuracy: 0.86 - ETA: 8s - loss: 0.3690 - accuracy: 0.86 - ETA: 7s - loss: 0.3696 - accuracy: 0.86 - ETA: 7s - loss: 0.3607 - accuracy: 0.86 - ETA: 7s - loss: 0.3539 - accuracy: 0.86 - ETA: 7s - loss: 0.3537 - accuracy: 0.86 - ETA: 7s - loss: 0.3588 - accuracy: 0.86 - ETA: 7s - loss: 0.3524 - accuracy: 0.86 - ETA: 7s - loss: 0.3507 - accuracy: 0.86 - ETA: 7s - loss: 0.3536 - accuracy: 0.86 - ETA: 7s - loss: 0.3592 - accuracy: 0.86 - ETA: 6s - loss: 0.3598 - accuracy: 0.86 - ETA: 6s - loss: 0.3562 - accuracy: 0.86 - ETA: 6s - loss: 0.3594 - accuracy: 0.86 - ETA: 6s - loss: 0.3608 - accuracy: 0.86 - ETA: 6s - loss: 0.3639 - accuracy: 0.86 - ETA: 6s - loss: 0.3644 - accuracy: 0.86 - ETA: 6s - loss: 0.3625 - accuracy: 0.86 - ETA: 6s - loss: 0.3615 - accuracy: 0.86 - ETA: 6s - loss: 0.3614 - accuracy: 0.86 - ETA: 6s - loss: 0.3597 - accuracy: 0.86 - ETA: 6s - loss: 0.3620 - accuracy: 0.86 - ETA: 6s - loss: 0.3650 - accuracy: 0.86 - ETA: 6s - loss: 0.3647 - accuracy: 0.86 - ETA: 6s - loss: 0.3660 - accuracy: 0.86 - ETA: 5s - loss: 0.3663 - accuracy: 0.86 - ETA: 5s - loss: 0.3657 - accuracy: 0.86 - ETA: 5s - loss: 0.3664 - accuracy: 0.86 - ETA: 5s - loss: 0.3663 - accuracy: 0.86 - ETA: 5s - loss: 0.3661 - accuracy: 0.86 - ETA: 5s - loss: 0.3653 - accuracy: 0.86 - ETA: 5s - loss: 0.3644 - accuracy: 0.86 - ETA: 5s - loss: 0.3630 - accuracy: 0.86 - ETA: 5s - loss: 0.3625 - accuracy: 0.86 - ETA: 5s - loss: 0.3609 - accuracy: 0.86 - ETA: 5s - loss: 0.3613 - accuracy: 0.86 - ETA: 5s - loss: 0.3632 - accuracy: 0.86 - ETA: 5s - loss: 0.3639 - accuracy: 0.86 - ETA: 5s - loss: 0.3638 - accuracy: 0.86 - ETA: 5s - loss: 0.3646 - accuracy: 0.86 - ETA: 5s - loss: 0.3649 - accuracy: 0.86 - ETA: 5s - loss: 0.3642 - accuracy: 0.86 - ETA: 5s - loss: 0.3639 - accuracy: 0.86 - ETA: 4s - loss: 0.3638 - accuracy: 0.86 - ETA: 4s - loss: 0.3635 - accuracy: 0.86 - ETA: 4s - loss: 0.3641 - accuracy: 0.86 - ETA: 4s - loss: 0.3634 - accuracy: 0.86 - ETA: 4s - loss: 0.3637 - accuracy: 0.86 - ETA: 4s - loss: 0.3636 - accuracy: 0.86 - ETA: 4s - loss: 0.3631 - accuracy: 0.86 - ETA: 4s - loss: 0.3619 - accuracy: 0.86 - ETA: 4s - loss: 0.3630 - accuracy: 0.86 - ETA: 4s - loss: 0.3622 - accuracy: 0.86 - ETA: 4s - loss: 0.3623 - accuracy: 0.86 - ETA: 4s - loss: 0.3628 - accuracy: 0.86 - ETA: 4s - loss: 0.3621 - accuracy: 0.86 - ETA: 4s - loss: 0.3618 - accuracy: 0.86 - ETA: 4s - loss: 0.3623 - accuracy: 0.86 - ETA: 4s - loss: 0.3616 - accuracy: 0.86 - ETA: 4s - loss: 0.3610 - accuracy: 0.86 - ETA: 4s - loss: 0.3597 - accuracy: 0.86 - ETA: 4s - loss: 0.3587 - accuracy: 0.86 - ETA: 4s - loss: 0.3593 - accuracy: 0.86 - ETA: 4s - loss: 0.3584 - accuracy: 0.86 - ETA: 3s - loss: 0.3582 - accuracy: 0.86 - ETA: 3s - loss: 0.3586 - accuracy: 0.86 - ETA: 3s - loss: 0.3584 - accuracy: 0.86 - ETA: 3s - loss: 0.3584 - accuracy: 0.86 - ETA: 3s - loss: 0.3586 - accuracy: 0.86 - ETA: 3s - loss: 0.3575 - accuracy: 0.86 - ETA: 3s - loss: 0.3574 - accuracy: 0.86 - ETA: 3s - loss: 0.3574 - accuracy: 0.86 - ETA: 3s - loss: 0.3575 - accuracy: 0.86 - ETA: 3s - loss: 0.3575 - accuracy: 0.86 - ETA: 3s - loss: 0.3572 - accuracy: 0.86 - ETA: 3s - loss: 0.3573 - accuracy: 0.86 - ETA: 3s - loss: 0.3567 - accuracy: 0.86 - ETA: 3s - loss: 0.3567 - accuracy: 0.86 - ETA: 3s - loss: 0.3564 - accuracy: 0.86 - ETA: 3s - loss: 0.3561 - accuracy: 0.86 - ETA: 3s - loss: 0.3568 - accuracy: 0.86 - ETA: 3s - loss: 0.3560 - accuracy: 0.86 - ETA: 2s - loss: 0.3564 - accuracy: 0.86 - ETA: 2s - loss: 0.3567 - accuracy: 0.86 - ETA: 2s - loss: 0.3572 - accuracy: 0.86 - ETA: 2s - loss: 0.3575 - accuracy: 0.86 - ETA: 2s - loss: 0.3578 - accuracy: 0.86 - ETA: 2s - loss: 0.3577 - accuracy: 0.86 - ETA: 2s - loss: 0.3578 - accuracy: 0.86 - ETA: 2s - loss: 0.3574 - accuracy: 0.86 - ETA: 2s - loss: 0.3571 - accuracy: 0.86 - ETA: 2s - loss: 0.3568 - accuracy: 0.86 - ETA: 2s - loss: 0.3565 - accuracy: 0.86 - ETA: 2s - loss: 0.3572 - accuracy: 0.86 - ETA: 2s - loss: 0.3579 - accuracy: 0.86 - ETA: 2s - loss: 0.3573 - accuracy: 0.86 - ETA: 2s - loss: 0.3569 - accuracy: 0.86 - ETA: 2s - loss: 0.3569 - accuracy: 0.86 - ETA: 2s - loss: 0.3569 - accuracy: 0.86 - ETA: 2s - loss: 0.3570 - accuracy: 0.86 - ETA: 2s - loss: 0.3564 - accuracy: 0.86 - ETA: 2s - loss: 0.3565 - accuracy: 0.86 - ETA: 1s - loss: 0.3566 - accuracy: 0.86 - ETA: 1s - loss: 0.3560 - accuracy: 0.86 - ETA: 1s - loss: 0.3564 - accuracy: 0.86 - ETA: 1s - loss: 0.3563 - accuracy: 0.86 - ETA: 1s - loss: 0.3560 - accuracy: 0.86 - ETA: 1s - loss: 0.3557 - accuracy: 0.86 - ETA: 1s - loss: 0.3560 - accuracy: 0.86 - ETA: 1s - loss: 0.3553 - accuracy: 0.86 - ETA: 1s - loss: 0.3558 - accuracy: 0.86 - ETA: 1s - loss: 0.3560 - accuracy: 0.86 - ETA: 1s - loss: 0.3566 - accuracy: 0.86 - ETA: 1s - loss: 0.3567 - accuracy: 0.86 - ETA: 1s - loss: 0.3566 - accuracy: 0.86 - ETA: 1s - loss: 0.3566 - accuracy: 0.86 - ETA: 1s - loss: 0.3570 - accuracy: 0.86 - ETA: 1s - loss: 0.3572 - accuracy: 0.86 - ETA: 1s - loss: 0.3575 - accuracy: 0.86 - ETA: 1s - loss: 0.3576 - accuracy: 0.86 - ETA: 1s - loss: 0.3573 - accuracy: 0.86 - ETA: 1s - loss: 0.3580 - accuracy: 0.86 - ETA: 0s - loss: 0.3579 - accuracy: 0.86 - ETA: 0s - loss: 0.3581 - accuracy: 0.86 - ETA: 0s - loss: 0.3579 - accuracy: 0.86 - ETA: 0s - loss: 0.3581 - accuracy: 0.86 - ETA: 0s - loss: 0.3580 - accuracy: 0.86 - ETA: 0s - loss: 0.3582 - accuracy: 0.86 - ETA: 0s - loss: 0.3579 - accuracy: 0.86 - ETA: 0s - loss: 0.3587 - accuracy: 0.86 - ETA: 0s - loss: 0.3586 - accuracy: 0.86 - ETA: 0s - loss: 0.3588 - accuracy: 0.86 - ETA: 0s - loss: 0.3585 - accuracy: 0.86 - ETA: 0s - loss: 0.3588 - accuracy: 0.86 - ETA: 0s - loss: 0.3586 - accuracy: 0.86 - ETA: 0s - loss: 0.3583 - accuracy: 0.86 - ETA: 0s - loss: 0.3586 - accuracy: 0.86 - ETA: 0s - loss: 0.3591 - accuracy: 0.86 - ETA: 0s - loss: 0.3593 - accuracy: 0.86 - ETA: 0s - loss: 0.3592 - accuracy: 0.86 - ETA: 0s - loss: 0.3593 - accuracy: 0.86 - ETA: 0s - loss: 0.3595 - accuracy: 0.86 - ETA: 0s - loss: 0.3595 - accuracy: 0.86 - ETA: 0s - loss: 0.3597 - accuracy: 0.86 - 8s 156us/sample - loss: 0.3595 - accuracy: 0.8661 - val_loss: 0.3898 - val_accuracy: 0.8593\n"
     ]
    },
    {
     "data": {
      "text/html": [
       "<span style=\"color:#4527A0\"><h1 style=\"font-size:18px\">Trial complete</h1></span>"
      ],
      "text/plain": [
       "<IPython.core.display.HTML object>"
      ]
     },
     "metadata": {},
     "output_type": "display_data"
    },
    {
     "data": {
      "text/html": [
       "<span style=\"color:#4527A0\"><h1 style=\"font-size:18px\">Trial summary</h1></span>"
      ],
      "text/plain": [
       "<IPython.core.display.HTML object>"
      ]
     },
     "metadata": {},
     "output_type": "display_data"
    },
    {
     "data": {
      "text/html": [
       "<span style=\"color:cyan\"> |-Trial ID: f4a04858ce321e7b967e0337c7f3eba8</span>"
      ],
      "text/plain": [
       "<IPython.core.display.HTML object>"
      ]
     },
     "metadata": {},
     "output_type": "display_data"
    },
    {
     "data": {
      "text/html": [
       "<span style=\"color:cyan\"> |-Score: 0.859333336353302</span>"
      ],
      "text/plain": [
       "<IPython.core.display.HTML object>"
      ]
     },
     "metadata": {},
     "output_type": "display_data"
    },
    {
     "data": {
      "text/html": [
       "<span style=\"color:cyan\"> |-Best step: 0</span>"
      ],
      "text/plain": [
       "<IPython.core.display.HTML object>"
      ]
     },
     "metadata": {},
     "output_type": "display_data"
    },
    {
     "data": {
      "text/html": [
       "<span style=\"color:#7E57C2\"><h2 style=\"font-size:16px\">Hyperparameters:</h2></span>"
      ],
      "text/plain": [
       "<IPython.core.display.HTML object>"
      ]
     },
     "metadata": {},
     "output_type": "display_data"
    },
    {
     "data": {
      "text/html": [
       "<span style=\"color:cyan\"> |-conv_1_filter: 96</span>"
      ],
      "text/plain": [
       "<IPython.core.display.HTML object>"
      ]
     },
     "metadata": {},
     "output_type": "display_data"
    },
    {
     "data": {
      "text/html": [
       "<span style=\"color:blue\"> |-conv_1_kernel: 3</span>"
      ],
      "text/plain": [
       "<IPython.core.display.HTML object>"
      ]
     },
     "metadata": {},
     "output_type": "display_data"
    },
    {
     "data": {
      "text/html": [
       "<span style=\"color:cyan\"> |-conv_2_filter: 32</span>"
      ],
      "text/plain": [
       "<IPython.core.display.HTML object>"
      ]
     },
     "metadata": {},
     "output_type": "display_data"
    },
    {
     "data": {
      "text/html": [
       "<span style=\"color:blue\"> |-conv_2_kernel: 3</span>"
      ],
      "text/plain": [
       "<IPython.core.display.HTML object>"
      ]
     },
     "metadata": {},
     "output_type": "display_data"
    },
    {
     "data": {
      "text/html": [
       "<span style=\"color:cyan\"> |-dense_1_units: 80</span>"
      ],
      "text/plain": [
       "<IPython.core.display.HTML object>"
      ]
     },
     "metadata": {},
     "output_type": "display_data"
    },
    {
     "data": {
      "text/html": [
       "<span style=\"color:blue\"> |-learning_rate: 0.01</span>"
      ],
      "text/plain": [
       "<IPython.core.display.HTML object>"
      ]
     },
     "metadata": {},
     "output_type": "display_data"
    },
    {
     "name": "stdout",
     "output_type": "stream",
     "text": [
      "Train on 54000 samples, validate on 6000 samples\n",
      "Epoch 1/3\n",
      "54000/54000 [==============================] - ETA: 10:20 - loss: 2.2930 - accuracy: 0.125 - ETA: 49s - loss: 3.2955 - accuracy: 0.2210  - ETA: 28s - loss: 2.3538 - accuracy: 0.391 - ETA: 20s - loss: 1.9110 - accuracy: 0.485 - ETA: 17s - loss: 1.6605 - accuracy: 0.529 - ETA: 14s - loss: 1.4851 - accuracy: 0.568 - ETA: 13s - loss: 1.3651 - accuracy: 0.588 - ETA: 12s - loss: 1.2745 - accuracy: 0.607 - ETA: 11s - loss: 1.2096 - accuracy: 0.622 - ETA: 10s - loss: 1.1496 - accuracy: 0.634 - ETA: 10s - loss: 1.1014 - accuracy: 0.649 - ETA: 9s - loss: 1.0612 - accuracy: 0.659 - ETA: 9s - loss: 1.0301 - accuracy: 0.66 - ETA: 8s - loss: 1.0019 - accuracy: 0.67 - ETA: 8s - loss: 0.9768 - accuracy: 0.67 - ETA: 8s - loss: 0.9489 - accuracy: 0.68 - ETA: 8s - loss: 0.9314 - accuracy: 0.68 - ETA: 7s - loss: 0.9103 - accuracy: 0.69 - ETA: 7s - loss: 0.8953 - accuracy: 0.69 - ETA: 7s - loss: 0.8791 - accuracy: 0.70 - ETA: 7s - loss: 0.8610 - accuracy: 0.70 - ETA: 7s - loss: 0.8488 - accuracy: 0.70 - ETA: 6s - loss: 0.8374 - accuracy: 0.71 - ETA: 6s - loss: 0.8274 - accuracy: 0.71 - ETA: 6s - loss: 0.8156 - accuracy: 0.71 - ETA: 6s - loss: 0.8074 - accuracy: 0.72 - ETA: 6s - loss: 0.7987 - accuracy: 0.72 - ETA: 6s - loss: 0.7903 - accuracy: 0.72 - ETA: 6s - loss: 0.7803 - accuracy: 0.73 - ETA: 6s - loss: 0.7700 - accuracy: 0.73 - ETA: 6s - loss: 0.7609 - accuracy: 0.73 - ETA: 5s - loss: 0.7533 - accuracy: 0.73 - ETA: 5s - loss: 0.7454 - accuracy: 0.74 - ETA: 5s - loss: 0.7396 - accuracy: 0.74 - ETA: 5s - loss: 0.7345 - accuracy: 0.74 - ETA: 5s - loss: 0.7281 - accuracy: 0.74 - ETA: 5s - loss: 0.7249 - accuracy: 0.74 - ETA: 5s - loss: 0.7200 - accuracy: 0.74 - ETA: 5s - loss: 0.7149 - accuracy: 0.74 - ETA: 5s - loss: 0.7084 - accuracy: 0.75 - ETA: 5s - loss: 0.7023 - accuracy: 0.75 - ETA: 5s - loss: 0.6986 - accuracy: 0.75 - ETA: 5s - loss: 0.6959 - accuracy: 0.75 - ETA: 4s - loss: 0.6933 - accuracy: 0.75 - ETA: 4s - loss: 0.6883 - accuracy: 0.75 - ETA: 4s - loss: 0.6840 - accuracy: 0.75 - ETA: 4s - loss: 0.6792 - accuracy: 0.75 - ETA: 4s - loss: 0.6772 - accuracy: 0.76 - ETA: 4s - loss: 0.6721 - accuracy: 0.76 - ETA: 4s - loss: 0.6675 - accuracy: 0.76 - ETA: 4s - loss: 0.6640 - accuracy: 0.76 - ETA: 4s - loss: 0.6597 - accuracy: 0.76 - ETA: 4s - loss: 0.6572 - accuracy: 0.76 - ETA: 4s - loss: 0.6547 - accuracy: 0.76 - ETA: 4s - loss: 0.6511 - accuracy: 0.76 - ETA: 4s - loss: 0.6487 - accuracy: 0.77 - ETA: 4s - loss: 0.6458 - accuracy: 0.77 - ETA: 4s - loss: 0.6438 - accuracy: 0.77 - ETA: 3s - loss: 0.6421 - accuracy: 0.77 - ETA: 3s - loss: 0.6397 - accuracy: 0.77 - ETA: 3s - loss: 0.6368 - accuracy: 0.77 - ETA: 3s - loss: 0.6335 - accuracy: 0.77 - ETA: 3s - loss: 0.6312 - accuracy: 0.77 - ETA: 3s - loss: 0.6285 - accuracy: 0.77 - ETA: 3s - loss: 0.6264 - accuracy: 0.77 - ETA: 3s - loss: 0.6243 - accuracy: 0.77 - ETA: 3s - loss: 0.6225 - accuracy: 0.77 - ETA: 3s - loss: 0.6205 - accuracy: 0.77 - ETA: 3s - loss: 0.6182 - accuracy: 0.77 - ETA: 3s - loss: 0.6150 - accuracy: 0.78 - ETA: 3s - loss: 0.6121 - accuracy: 0.78 - ETA: 3s - loss: 0.6094 - accuracy: 0.78 - ETA: 3s - loss: 0.6086 - accuracy: 0.78 - ETA: 3s - loss: 0.6064 - accuracy: 0.78 - ETA: 3s - loss: 0.6053 - accuracy: 0.78 - ETA: 2s - loss: 0.6033 - accuracy: 0.78 - ETA: 2s - loss: 0.6010 - accuracy: 0.78 - ETA: 2s - loss: 0.5993 - accuracy: 0.78 - ETA: 2s - loss: 0.5975 - accuracy: 0.78 - ETA: 2s - loss: 0.5952 - accuracy: 0.78 - ETA: 2s - loss: 0.5935 - accuracy: 0.78 - ETA: 2s - loss: 0.5933 - accuracy: 0.78 - ETA: 2s - loss: 0.5913 - accuracy: 0.78 - ETA: 2s - loss: 0.5909 - accuracy: 0.78 - ETA: 2s - loss: 0.5891 - accuracy: 0.78 - ETA: 2s - loss: 0.5868 - accuracy: 0.78 - ETA: 2s - loss: 0.5856 - accuracy: 0.79 - ETA: 2s - loss: 0.5841 - accuracy: 0.79 - ETA: 2s - loss: 0.5831 - accuracy: 0.79 - ETA: 2s - loss: 0.5815 - accuracy: 0.79 - ETA: 2s - loss: 0.5800 - accuracy: 0.79 - ETA: 2s - loss: 0.5785 - accuracy: 0.79 - ETA: 1s - loss: 0.5777 - accuracy: 0.79 - ETA: 1s - loss: 0.5756 - accuracy: 0.79 - ETA: 1s - loss: 0.5742 - accuracy: 0.79 - ETA: 1s - loss: 0.5734 - accuracy: 0.79 - ETA: 1s - loss: 0.5719 - accuracy: 0.79 - ETA: 1s - loss: 0.5703 - accuracy: 0.79 - ETA: 1s - loss: 0.5684 - accuracy: 0.79 - ETA: 1s - loss: 0.5677 - accuracy: 0.79 - ETA: 1s - loss: 0.5656 - accuracy: 0.79 - ETA: 1s - loss: 0.5650 - accuracy: 0.79 - ETA: 1s - loss: 0.5644 - accuracy: 0.79 - ETA: 1s - loss: 0.5628 - accuracy: 0.79 - ETA: 1s - loss: 0.5612 - accuracy: 0.79 - ETA: 1s - loss: 0.5604 - accuracy: 0.79 - ETA: 1s - loss: 0.5589 - accuracy: 0.79 - ETA: 1s - loss: 0.5571 - accuracy: 0.79 - ETA: 1s - loss: 0.5566 - accuracy: 0.80 - ETA: 0s - loss: 0.5550 - accuracy: 0.80 - ETA: 0s - loss: 0.5542 - accuracy: 0.80 - ETA: 0s - loss: 0.5537 - accuracy: 0.80 - ETA: 0s - loss: 0.5523 - accuracy: 0.80 - ETA: 0s - loss: 0.5516 - accuracy: 0.80 - ETA: 0s - loss: 0.5508 - accuracy: 0.80 - ETA: 0s - loss: 0.5488 - accuracy: 0.80 - ETA: 0s - loss: 0.5476 - accuracy: 0.80 - ETA: 0s - loss: 0.5464 - accuracy: 0.80 - ETA: 0s - loss: 0.5456 - accuracy: 0.80 - ETA: 0s - loss: 0.5447 - accuracy: 0.80 - ETA: 0s - loss: 0.5436 - accuracy: 0.80 - ETA: 0s - loss: 0.5425 - accuracy: 0.80 - ETA: 0s - loss: 0.5412 - accuracy: 0.80 - ETA: 0s - loss: 0.5405 - accuracy: 0.80 - ETA: 0s - loss: 0.5402 - accuracy: 0.80 - ETA: 0s - loss: 0.5400 - accuracy: 0.80 - ETA: 0s - loss: 0.5390 - accuracy: 0.80 - ETA: 0s - loss: 0.5379 - accuracy: 0.80 - 8s 141us/sample - loss: 0.5373 - accuracy: 0.8062 - val_loss: 0.4200 - val_accuracy: 0.8485\n",
      "Epoch 2/3\n",
      "54000/54000 [==============================] - ETA: 11s - loss: 0.4851 - accuracy: 0.843 - ETA: 6s - loss: 0.4103 - accuracy: 0.854 - ETA: 6s - loss: 0.3880 - accuracy: 0.85 - ETA: 6s - loss: 0.3695 - accuracy: 0.85 - ETA: 6s - loss: 0.3718 - accuracy: 0.85 - ETA: 6s - loss: 0.3802 - accuracy: 0.85 - ETA: 6s - loss: 0.3889 - accuracy: 0.85 - ETA: 6s - loss: 0.3818 - accuracy: 0.85 - ETA: 6s - loss: 0.3885 - accuracy: 0.85 - ETA: 6s - loss: 0.3887 - accuracy: 0.85 - ETA: 6s - loss: 0.3863 - accuracy: 0.85 - ETA: 6s - loss: 0.3862 - accuracy: 0.85 - ETA: 6s - loss: 0.3922 - accuracy: 0.85 - ETA: 6s - loss: 0.3913 - accuracy: 0.85 - ETA: 6s - loss: 0.3965 - accuracy: 0.85 - ETA: 6s - loss: 0.3971 - accuracy: 0.85 - ETA: 6s - loss: 0.3998 - accuracy: 0.85 - ETA: 6s - loss: 0.4014 - accuracy: 0.85 - ETA: 6s - loss: 0.4039 - accuracy: 0.85 - ETA: 6s - loss: 0.4095 - accuracy: 0.84 - ETA: 6s - loss: 0.4109 - accuracy: 0.84 - ETA: 6s - loss: 0.4107 - accuracy: 0.85 - ETA: 6s - loss: 0.4100 - accuracy: 0.85 - ETA: 6s - loss: 0.4102 - accuracy: 0.85 - ETA: 6s - loss: 0.4114 - accuracy: 0.85 - ETA: 6s - loss: 0.4117 - accuracy: 0.85 - ETA: 6s - loss: 0.4121 - accuracy: 0.84 - ETA: 6s - loss: 0.4095 - accuracy: 0.85 - ETA: 6s - loss: 0.4098 - accuracy: 0.85 - ETA: 6s - loss: 0.4036 - accuracy: 0.85 - ETA: 6s - loss: 0.4024 - accuracy: 0.85 - ETA: 6s - loss: 0.4025 - accuracy: 0.85 - ETA: 5s - loss: 0.4046 - accuracy: 0.85 - ETA: 5s - loss: 0.4051 - accuracy: 0.85 - ETA: 5s - loss: 0.4079 - accuracy: 0.85 - ETA: 5s - loss: 0.4067 - accuracy: 0.85 - ETA: 5s - loss: 0.4060 - accuracy: 0.85 - ETA: 5s - loss: 0.4051 - accuracy: 0.85 - ETA: 5s - loss: 0.4067 - accuracy: 0.85 - ETA: 5s - loss: 0.4066 - accuracy: 0.85 - ETA: 5s - loss: 0.4080 - accuracy: 0.85 - ETA: 5s - loss: 0.4077 - accuracy: 0.85 - ETA: 5s - loss: 0.4097 - accuracy: 0.84 - ETA: 5s - loss: 0.4090 - accuracy: 0.85 - ETA: 4s - loss: 0.4091 - accuracy: 0.84 - ETA: 4s - loss: 0.4099 - accuracy: 0.84 - ETA: 4s - loss: 0.4112 - accuracy: 0.84 - ETA: 4s - loss: 0.4128 - accuracy: 0.84 - ETA: 4s - loss: 0.4129 - accuracy: 0.84 - ETA: 4s - loss: 0.4116 - accuracy: 0.84 - ETA: 4s - loss: 0.4104 - accuracy: 0.84 - ETA: 4s - loss: 0.4100 - accuracy: 0.84 - ETA: 4s - loss: 0.4093 - accuracy: 0.84 - ETA: 4s - loss: 0.4092 - accuracy: 0.84 - ETA: 4s - loss: 0.4075 - accuracy: 0.85 - ETA: 4s - loss: 0.4077 - accuracy: 0.85 - ETA: 4s - loss: 0.4078 - accuracy: 0.85 - ETA: 4s - loss: 0.4073 - accuracy: 0.85 - ETA: 4s - loss: 0.4055 - accuracy: 0.85 - ETA: 4s - loss: 0.4055 - accuracy: 0.85 - ETA: 3s - loss: 0.4060 - accuracy: 0.85 - ETA: 3s - loss: 0.4067 - accuracy: 0.85 - ETA: 3s - loss: 0.4061 - accuracy: 0.85 - ETA: 3s - loss: 0.4086 - accuracy: 0.85 - ETA: 3s - loss: 0.4098 - accuracy: 0.84 - ETA: 3s - loss: 0.4094 - accuracy: 0.84 - ETA: 3s - loss: 0.4091 - accuracy: 0.84 - ETA: 3s - loss: 0.4087 - accuracy: 0.84 - ETA: 3s - loss: 0.4087 - accuracy: 0.85 - ETA: 3s - loss: 0.4078 - accuracy: 0.85 - ETA: 3s - loss: 0.4088 - accuracy: 0.85 - ETA: 3s - loss: 0.4082 - accuracy: 0.85 - ETA: 3s - loss: 0.4080 - accuracy: 0.85 - ETA: 3s - loss: 0.4076 - accuracy: 0.85 - ETA: 3s - loss: 0.4075 - accuracy: 0.85 - ETA: 3s - loss: 0.4087 - accuracy: 0.85 - ETA: 2s - loss: 0.4090 - accuracy: 0.84 - ETA: 2s - loss: 0.4090 - accuracy: 0.84 - ETA: 2s - loss: 0.4107 - accuracy: 0.84 - ETA: 2s - loss: 0.4106 - accuracy: 0.84 - ETA: 2s - loss: 0.4107 - accuracy: 0.84 - ETA: 2s - loss: 0.4106 - accuracy: 0.84 - ETA: 2s - loss: 0.4105 - accuracy: 0.84 - ETA: 2s - loss: 0.4111 - accuracy: 0.84 - ETA: 2s - loss: 0.4114 - accuracy: 0.84 - ETA: 2s - loss: 0.4108 - accuracy: 0.84 - ETA: 2s - loss: 0.4109 - accuracy: 0.84 - ETA: 2s - loss: 0.4105 - accuracy: 0.84 - ETA: 2s - loss: 0.4101 - accuracy: 0.84 - ETA: 2s - loss: 0.4093 - accuracy: 0.84 - ETA: 2s - loss: 0.4091 - accuracy: 0.84 - ETA: 2s - loss: 0.4086 - accuracy: 0.84 - ETA: 2s - loss: 0.4086 - accuracy: 0.84 - ETA: 2s - loss: 0.4089 - accuracy: 0.84 - ETA: 2s - loss: 0.4094 - accuracy: 0.84 - ETA: 1s - loss: 0.4097 - accuracy: 0.84 - ETA: 1s - loss: 0.4096 - accuracy: 0.84 - ETA: 1s - loss: 0.4096 - accuracy: 0.84 - ETA: 1s - loss: 0.4093 - accuracy: 0.84 - ETA: 1s - loss: 0.4093 - accuracy: 0.84 - ETA: 1s - loss: 0.4094 - accuracy: 0.84 - ETA: 1s - loss: 0.4095 - accuracy: 0.84 - ETA: 1s - loss: 0.4096 - accuracy: 0.84 - ETA: 1s - loss: 0.4098 - accuracy: 0.84 - ETA: 1s - loss: 0.4093 - accuracy: 0.84 - ETA: 1s - loss: 0.4093 - accuracy: 0.84 - ETA: 1s - loss: 0.4097 - accuracy: 0.84 - ETA: 1s - loss: 0.4096 - accuracy: 0.84 - ETA: 1s - loss: 0.4101 - accuracy: 0.84 - ETA: 1s - loss: 0.4100 - accuracy: 0.84 - ETA: 1s - loss: 0.4103 - accuracy: 0.84 - ETA: 1s - loss: 0.4100 - accuracy: 0.84 - ETA: 1s - loss: 0.4104 - accuracy: 0.84 - ETA: 1s - loss: 0.4098 - accuracy: 0.84 - ETA: 0s - loss: 0.4104 - accuracy: 0.84 - ETA: 0s - loss: 0.4107 - accuracy: 0.84 - ETA: 0s - loss: 0.4108 - accuracy: 0.84 - ETA: 0s - loss: 0.4107 - accuracy: 0.84 - ETA: 0s - loss: 0.4102 - accuracy: 0.84 - ETA: 0s - loss: 0.4100 - accuracy: 0.84 - ETA: 0s - loss: 0.4101 - accuracy: 0.84 - ETA: 0s - loss: 0.4097 - accuracy: 0.84 - ETA: 0s - loss: 0.4096 - accuracy: 0.84 - ETA: 0s - loss: 0.4092 - accuracy: 0.84 - ETA: 0s - loss: 0.4092 - accuracy: 0.84 - ETA: 0s - loss: 0.4100 - accuracy: 0.84 - ETA: 0s - loss: 0.4101 - accuracy: 0.84 - ETA: 0s - loss: 0.4103 - accuracy: 0.84 - ETA: 0s - loss: 0.4100 - accuracy: 0.84 - ETA: 0s - loss: 0.4101 - accuracy: 0.84 - ETA: 0s - loss: 0.4093 - accuracy: 0.84 - ETA: 0s - loss: 0.4092 - accuracy: 0.84 - ETA: 0s - loss: 0.4093 - accuracy: 0.84 - 7s 136us/sample - loss: 0.4089 - accuracy: 0.8489 - val_loss: 0.3943 - val_accuracy: 0.8468\n",
      "Epoch 3/3\n"
     ]
    },
    {
     "name": "stdout",
     "output_type": "stream",
     "text": [
      "54000/54000 [==============================] - ETA: 12s - loss: 0.2922 - accuracy: 0.843 - ETA: 7s - loss: 0.3996 - accuracy: 0.861 - ETA: 6s - loss: 0.3915 - accuracy: 0.85 - ETA: 6s - loss: 0.3764 - accuracy: 0.86 - ETA: 6s - loss: 0.3851 - accuracy: 0.85 - ETA: 6s - loss: 0.3661 - accuracy: 0.86 - ETA: 6s - loss: 0.3601 - accuracy: 0.86 - ETA: 6s - loss: 0.3617 - accuracy: 0.86 - ETA: 6s - loss: 0.3708 - accuracy: 0.86 - ETA: 6s - loss: 0.3752 - accuracy: 0.85 - ETA: 6s - loss: 0.3757 - accuracy: 0.85 - ETA: 6s - loss: 0.3729 - accuracy: 0.86 - ETA: 6s - loss: 0.3723 - accuracy: 0.86 - ETA: 5s - loss: 0.3738 - accuracy: 0.86 - ETA: 5s - loss: 0.3746 - accuracy: 0.86 - ETA: 5s - loss: 0.3699 - accuracy: 0.86 - ETA: 5s - loss: 0.3699 - accuracy: 0.86 - ETA: 5s - loss: 0.3665 - accuracy: 0.86 - ETA: 5s - loss: 0.3671 - accuracy: 0.86 - ETA: 5s - loss: 0.3707 - accuracy: 0.86 - ETA: 5s - loss: 0.3712 - accuracy: 0.86 - ETA: 5s - loss: 0.3750 - accuracy: 0.86 - ETA: 5s - loss: 0.3777 - accuracy: 0.86 - ETA: 5s - loss: 0.3798 - accuracy: 0.85 - ETA: 5s - loss: 0.3796 - accuracy: 0.85 - ETA: 5s - loss: 0.3842 - accuracy: 0.85 - ETA: 5s - loss: 0.3850 - accuracy: 0.85 - ETA: 5s - loss: 0.3842 - accuracy: 0.85 - ETA: 5s - loss: 0.3829 - accuracy: 0.85 - ETA: 5s - loss: 0.3834 - accuracy: 0.85 - ETA: 5s - loss: 0.3824 - accuracy: 0.85 - ETA: 5s - loss: 0.3800 - accuracy: 0.85 - ETA: 5s - loss: 0.3812 - accuracy: 0.85 - ETA: 5s - loss: 0.3820 - accuracy: 0.85 - ETA: 5s - loss: 0.3831 - accuracy: 0.85 - ETA: 4s - loss: 0.3844 - accuracy: 0.85 - ETA: 4s - loss: 0.3846 - accuracy: 0.85 - ETA: 4s - loss: 0.3852 - accuracy: 0.85 - ETA: 4s - loss: 0.3853 - accuracy: 0.85 - ETA: 4s - loss: 0.3841 - accuracy: 0.85 - ETA: 4s - loss: 0.3824 - accuracy: 0.85 - ETA: 4s - loss: 0.3839 - accuracy: 0.85 - ETA: 4s - loss: 0.3843 - accuracy: 0.85 - ETA: 4s - loss: 0.3823 - accuracy: 0.85 - ETA: 4s - loss: 0.3821 - accuracy: 0.85 - ETA: 4s - loss: 0.3831 - accuracy: 0.85 - ETA: 4s - loss: 0.3830 - accuracy: 0.85 - ETA: 4s - loss: 0.3826 - accuracy: 0.85 - ETA: 4s - loss: 0.3817 - accuracy: 0.85 - ETA: 4s - loss: 0.3797 - accuracy: 0.85 - ETA: 4s - loss: 0.3798 - accuracy: 0.85 - ETA: 4s - loss: 0.3803 - accuracy: 0.85 - ETA: 3s - loss: 0.3811 - accuracy: 0.85 - ETA: 3s - loss: 0.3803 - accuracy: 0.85 - ETA: 3s - loss: 0.3809 - accuracy: 0.85 - ETA: 3s - loss: 0.3815 - accuracy: 0.85 - ETA: 3s - loss: 0.3823 - accuracy: 0.85 - ETA: 3s - loss: 0.3827 - accuracy: 0.85 - ETA: 3s - loss: 0.3834 - accuracy: 0.85 - ETA: 3s - loss: 0.3855 - accuracy: 0.85 - ETA: 3s - loss: 0.3849 - accuracy: 0.85 - ETA: 3s - loss: 0.3835 - accuracy: 0.85 - ETA: 3s - loss: 0.3843 - accuracy: 0.85 - ETA: 3s - loss: 0.3847 - accuracy: 0.85 - ETA: 3s - loss: 0.3840 - accuracy: 0.85 - ETA: 3s - loss: 0.3843 - accuracy: 0.85 - ETA: 3s - loss: 0.3849 - accuracy: 0.85 - ETA: 3s - loss: 0.3845 - accuracy: 0.85 - ETA: 3s - loss: 0.3843 - accuracy: 0.85 - ETA: 3s - loss: 0.3835 - accuracy: 0.85 - ETA: 3s - loss: 0.3831 - accuracy: 0.85 - ETA: 2s - loss: 0.3832 - accuracy: 0.85 - ETA: 2s - loss: 0.3831 - accuracy: 0.85 - ETA: 2s - loss: 0.3829 - accuracy: 0.85 - ETA: 2s - loss: 0.3831 - accuracy: 0.85 - ETA: 2s - loss: 0.3841 - accuracy: 0.85 - ETA: 2s - loss: 0.3836 - accuracy: 0.85 - ETA: 2s - loss: 0.3844 - accuracy: 0.85 - ETA: 2s - loss: 0.3851 - accuracy: 0.85 - ETA: 2s - loss: 0.3850 - accuracy: 0.85 - ETA: 2s - loss: 0.3852 - accuracy: 0.85 - ETA: 2s - loss: 0.3853 - accuracy: 0.85 - ETA: 2s - loss: 0.3857 - accuracy: 0.85 - ETA: 2s - loss: 0.3874 - accuracy: 0.85 - ETA: 2s - loss: 0.3882 - accuracy: 0.85 - ETA: 2s - loss: 0.3890 - accuracy: 0.85 - ETA: 2s - loss: 0.3897 - accuracy: 0.85 - ETA: 2s - loss: 0.3900 - accuracy: 0.85 - ETA: 2s - loss: 0.3904 - accuracy: 0.85 - ETA: 2s - loss: 0.3907 - accuracy: 0.85 - ETA: 2s - loss: 0.3906 - accuracy: 0.85 - ETA: 2s - loss: 0.3904 - accuracy: 0.85 - ETA: 2s - loss: 0.3908 - accuracy: 0.85 - ETA: 2s - loss: 0.3911 - accuracy: 0.85 - ETA: 2s - loss: 0.3911 - accuracy: 0.85 - ETA: 1s - loss: 0.3908 - accuracy: 0.85 - ETA: 1s - loss: 0.3906 - accuracy: 0.85 - ETA: 1s - loss: 0.3912 - accuracy: 0.85 - ETA: 1s - loss: 0.3912 - accuracy: 0.85 - ETA: 1s - loss: 0.3906 - accuracy: 0.85 - ETA: 1s - loss: 0.3906 - accuracy: 0.85 - ETA: 1s - loss: 0.3900 - accuracy: 0.85 - ETA: 1s - loss: 0.3893 - accuracy: 0.85 - ETA: 1s - loss: 0.3896 - accuracy: 0.85 - ETA: 1s - loss: 0.3897 - accuracy: 0.85 - ETA: 1s - loss: 0.3895 - accuracy: 0.85 - ETA: 1s - loss: 0.3900 - accuracy: 0.85 - ETA: 1s - loss: 0.3902 - accuracy: 0.85 - ETA: 1s - loss: 0.3908 - accuracy: 0.85 - ETA: 1s - loss: 0.3907 - accuracy: 0.85 - ETA: 1s - loss: 0.3904 - accuracy: 0.85 - ETA: 1s - loss: 0.3896 - accuracy: 0.85 - ETA: 1s - loss: 0.3893 - accuracy: 0.85 - ETA: 0s - loss: 0.3887 - accuracy: 0.85 - ETA: 0s - loss: 0.3888 - accuracy: 0.85 - ETA: 0s - loss: 0.3883 - accuracy: 0.85 - ETA: 0s - loss: 0.3878 - accuracy: 0.85 - ETA: 0s - loss: 0.3880 - accuracy: 0.85 - ETA: 0s - loss: 0.3881 - accuracy: 0.85 - ETA: 0s - loss: 0.3877 - accuracy: 0.85 - ETA: 0s - loss: 0.3879 - accuracy: 0.85 - ETA: 0s - loss: 0.3881 - accuracy: 0.85 - ETA: 0s - loss: 0.3888 - accuracy: 0.85 - ETA: 0s - loss: 0.3893 - accuracy: 0.85 - ETA: 0s - loss: 0.3896 - accuracy: 0.85 - ETA: 0s - loss: 0.3897 - accuracy: 0.85 - ETA: 0s - loss: 0.3897 - accuracy: 0.85 - ETA: 0s - loss: 0.3896 - accuracy: 0.85 - ETA: 0s - loss: 0.3895 - accuracy: 0.85 - ETA: 0s - loss: 0.3895 - accuracy: 0.85 - ETA: 0s - loss: 0.3897 - accuracy: 0.85 - ETA: 0s - loss: 0.3905 - accuracy: 0.85 - 7s 135us/sample - loss: 0.3905 - accuracy: 0.8563 - val_loss: 0.4247 - val_accuracy: 0.8440\n"
     ]
    },
    {
     "data": {
      "text/html": [
       "<span style=\"color:#4527A0\"><h1 style=\"font-size:18px\">Trial complete</h1></span>"
      ],
      "text/plain": [
       "<IPython.core.display.HTML object>"
      ]
     },
     "metadata": {},
     "output_type": "display_data"
    },
    {
     "data": {
      "text/html": [
       "<span style=\"color:#4527A0\"><h1 style=\"font-size:18px\">Trial summary</h1></span>"
      ],
      "text/plain": [
       "<IPython.core.display.HTML object>"
      ]
     },
     "metadata": {},
     "output_type": "display_data"
    },
    {
     "data": {
      "text/html": [
       "<span style=\"color:cyan\"> |-Trial ID: 8f824f5eb8f1714621a406a4390e4197</span>"
      ],
      "text/plain": [
       "<IPython.core.display.HTML object>"
      ]
     },
     "metadata": {},
     "output_type": "display_data"
    },
    {
     "data": {
      "text/html": [
       "<span style=\"color:cyan\"> |-Score: 0.8485000133514404</span>"
      ],
      "text/plain": [
       "<IPython.core.display.HTML object>"
      ]
     },
     "metadata": {},
     "output_type": "display_data"
    },
    {
     "data": {
      "text/html": [
       "<span style=\"color:cyan\"> |-Best step: 0</span>"
      ],
      "text/plain": [
       "<IPython.core.display.HTML object>"
      ]
     },
     "metadata": {},
     "output_type": "display_data"
    },
    {
     "data": {
      "text/html": [
       "<span style=\"color:#7E57C2\"><h2 style=\"font-size:16px\">Hyperparameters:</h2></span>"
      ],
      "text/plain": [
       "<IPython.core.display.HTML object>"
      ]
     },
     "metadata": {},
     "output_type": "display_data"
    },
    {
     "data": {
      "text/html": [
       "<span style=\"color:cyan\"> |-conv_1_filter: 64</span>"
      ],
      "text/plain": [
       "<IPython.core.display.HTML object>"
      ]
     },
     "metadata": {},
     "output_type": "display_data"
    },
    {
     "data": {
      "text/html": [
       "<span style=\"color:blue\"> |-conv_1_kernel: 5</span>"
      ],
      "text/plain": [
       "<IPython.core.display.HTML object>"
      ]
     },
     "metadata": {},
     "output_type": "display_data"
    },
    {
     "data": {
      "text/html": [
       "<span style=\"color:cyan\"> |-conv_2_filter: 32</span>"
      ],
      "text/plain": [
       "<IPython.core.display.HTML object>"
      ]
     },
     "metadata": {},
     "output_type": "display_data"
    },
    {
     "data": {
      "text/html": [
       "<span style=\"color:blue\"> |-conv_2_kernel: 5</span>"
      ],
      "text/plain": [
       "<IPython.core.display.HTML object>"
      ]
     },
     "metadata": {},
     "output_type": "display_data"
    },
    {
     "data": {
      "text/html": [
       "<span style=\"color:cyan\"> |-dense_1_units: 48</span>"
      ],
      "text/plain": [
       "<IPython.core.display.HTML object>"
      ]
     },
     "metadata": {},
     "output_type": "display_data"
    },
    {
     "data": {
      "text/html": [
       "<span style=\"color:blue\"> |-learning_rate: 0.01</span>"
      ],
      "text/plain": [
       "<IPython.core.display.HTML object>"
      ]
     },
     "metadata": {},
     "output_type": "display_data"
    }
   ],
   "source": [
    "tuner_search.search(train_images,train_labels,epochs=3,validation_split=0.1)"
   ]
  },
  {
   "cell_type": "code",
   "execution_count": 14,
   "metadata": {},
   "outputs": [],
   "source": [
    "model=tuner_search.get_best_models(num_models=1)[0]"
   ]
  },
  {
   "cell_type": "code",
   "execution_count": 15,
   "metadata": {},
   "outputs": [
    {
     "name": "stdout",
     "output_type": "stream",
     "text": [
      "Model: \"sequential\"\n",
      "_________________________________________________________________\n",
      "Layer (type)                 Output Shape              Param #   \n",
      "=================================================================\n",
      "conv2d (Conv2D)              (None, 26, 26, 96)        960       \n",
      "_________________________________________________________________\n",
      "conv2d_1 (Conv2D)            (None, 24, 24, 48)        41520     \n",
      "_________________________________________________________________\n",
      "flatten (Flatten)            (None, 27648)             0         \n",
      "_________________________________________________________________\n",
      "dense (Dense)                (None, 128)               3539072   \n",
      "_________________________________________________________________\n",
      "dense_1 (Dense)              (None, 10)                1290      \n",
      "=================================================================\n",
      "Total params: 3,582,842\n",
      "Trainable params: 3,582,842\n",
      "Non-trainable params: 0\n",
      "_________________________________________________________________\n"
     ]
    }
   ],
   "source": [
    "model.summary()"
   ]
  },
  {
   "cell_type": "code",
   "execution_count": 16,
   "metadata": {},
   "outputs": [
    {
     "name": "stdout",
     "output_type": "stream",
     "text": [
      "Train on 54000 samples, validate on 6000 samples\n",
      "Epoch 4/10\n",
      "54000/54000 [==============================] - ETA: 8:46 - loss: 0.0542 - accuracy: 1.00 - ETA: 50s - loss: 0.0742 - accuracy: 0.9740 - ETA: 29s - loss: 0.0789 - accuracy: 0.971 - ETA: 21s - loss: 0.0787 - accuracy: 0.972 - ETA: 18s - loss: 0.0881 - accuracy: 0.970 - ETA: 16s - loss: 0.0903 - accuracy: 0.970 - ETA: 14s - loss: 0.0916 - accuracy: 0.968 - ETA: 13s - loss: 0.0919 - accuracy: 0.967 - ETA: 12s - loss: 0.0926 - accuracy: 0.966 - ETA: 11s - loss: 0.0942 - accuracy: 0.965 - ETA: 11s - loss: 0.0935 - accuracy: 0.965 - ETA: 10s - loss: 0.0972 - accuracy: 0.964 - ETA: 10s - loss: 0.0961 - accuracy: 0.963 - ETA: 10s - loss: 0.0957 - accuracy: 0.964 - ETA: 9s - loss: 0.0957 - accuracy: 0.964 - ETA: 9s - loss: 0.0966 - accuracy: 0.96 - ETA: 9s - loss: 0.0972 - accuracy: 0.96 - ETA: 9s - loss: 0.0964 - accuracy: 0.96 - ETA: 9s - loss: 0.0967 - accuracy: 0.96 - ETA: 8s - loss: 0.0966 - accuracy: 0.96 - ETA: 8s - loss: 0.0974 - accuracy: 0.96 - ETA: 8s - loss: 0.0989 - accuracy: 0.96 - ETA: 8s - loss: 0.1016 - accuracy: 0.96 - ETA: 8s - loss: 0.1030 - accuracy: 0.96 - ETA: 8s - loss: 0.1029 - accuracy: 0.96 - ETA: 7s - loss: 0.1051 - accuracy: 0.96 - ETA: 7s - loss: 0.1064 - accuracy: 0.96 - ETA: 7s - loss: 0.1070 - accuracy: 0.96 - ETA: 7s - loss: 0.1068 - accuracy: 0.96 - ETA: 7s - loss: 0.1062 - accuracy: 0.96 - ETA: 7s - loss: 0.1058 - accuracy: 0.96 - ETA: 7s - loss: 0.1054 - accuracy: 0.96 - ETA: 7s - loss: 0.1053 - accuracy: 0.96 - ETA: 7s - loss: 0.1069 - accuracy: 0.96 - ETA: 6s - loss: 0.1059 - accuracy: 0.96 - ETA: 6s - loss: 0.1057 - accuracy: 0.96 - ETA: 6s - loss: 0.1057 - accuracy: 0.96 - ETA: 6s - loss: 0.1041 - accuracy: 0.96 - ETA: 6s - loss: 0.1043 - accuracy: 0.96 - ETA: 6s - loss: 0.1041 - accuracy: 0.96 - ETA: 6s - loss: 0.1040 - accuracy: 0.96 - ETA: 6s - loss: 0.1045 - accuracy: 0.96 - ETA: 6s - loss: 0.1054 - accuracy: 0.96 - ETA: 6s - loss: 0.1046 - accuracy: 0.96 - ETA: 6s - loss: 0.1043 - accuracy: 0.96 - ETA: 5s - loss: 0.1037 - accuracy: 0.96 - ETA: 5s - loss: 0.1044 - accuracy: 0.96 - ETA: 5s - loss: 0.1044 - accuracy: 0.96 - ETA: 5s - loss: 0.1044 - accuracy: 0.96 - ETA: 5s - loss: 0.1040 - accuracy: 0.96 - ETA: 5s - loss: 0.1036 - accuracy: 0.96 - ETA: 5s - loss: 0.1037 - accuracy: 0.96 - ETA: 5s - loss: 0.1034 - accuracy: 0.96 - ETA: 5s - loss: 0.1033 - accuracy: 0.96 - ETA: 5s - loss: 0.1041 - accuracy: 0.96 - ETA: 5s - loss: 0.1042 - accuracy: 0.96 - ETA: 5s - loss: 0.1044 - accuracy: 0.96 - ETA: 5s - loss: 0.1044 - accuracy: 0.96 - ETA: 5s - loss: 0.1048 - accuracy: 0.96 - ETA: 4s - loss: 0.1047 - accuracy: 0.96 - ETA: 4s - loss: 0.1046 - accuracy: 0.96 - ETA: 4s - loss: 0.1045 - accuracy: 0.96 - ETA: 4s - loss: 0.1051 - accuracy: 0.96 - ETA: 4s - loss: 0.1057 - accuracy: 0.96 - ETA: 4s - loss: 0.1057 - accuracy: 0.96 - ETA: 4s - loss: 0.1060 - accuracy: 0.96 - ETA: 4s - loss: 0.1061 - accuracy: 0.96 - ETA: 4s - loss: 0.1060 - accuracy: 0.96 - ETA: 4s - loss: 0.1063 - accuracy: 0.96 - ETA: 4s - loss: 0.1066 - accuracy: 0.96 - ETA: 4s - loss: 0.1063 - accuracy: 0.96 - ETA: 4s - loss: 0.1066 - accuracy: 0.96 - ETA: 4s - loss: 0.1066 - accuracy: 0.96 - ETA: 4s - loss: 0.1067 - accuracy: 0.96 - ETA: 4s - loss: 0.1064 - accuracy: 0.96 - ETA: 4s - loss: 0.1069 - accuracy: 0.96 - ETA: 4s - loss: 0.1066 - accuracy: 0.96 - ETA: 3s - loss: 0.1065 - accuracy: 0.96 - ETA: 3s - loss: 0.1063 - accuracy: 0.96 - ETA: 3s - loss: 0.1062 - accuracy: 0.96 - ETA: 3s - loss: 0.1061 - accuracy: 0.96 - ETA: 3s - loss: 0.1067 - accuracy: 0.96 - ETA: 3s - loss: 0.1066 - accuracy: 0.96 - ETA: 3s - loss: 0.1069 - accuracy: 0.96 - ETA: 3s - loss: 0.1065 - accuracy: 0.96 - ETA: 3s - loss: 0.1066 - accuracy: 0.96 - ETA: 3s - loss: 0.1068 - accuracy: 0.96 - ETA: 3s - loss: 0.1071 - accuracy: 0.96 - ETA: 3s - loss: 0.1069 - accuracy: 0.96 - ETA: 3s - loss: 0.1071 - accuracy: 0.96 - ETA: 3s - loss: 0.1067 - accuracy: 0.96 - ETA: 3s - loss: 0.1068 - accuracy: 0.96 - ETA: 3s - loss: 0.1068 - accuracy: 0.96 - ETA: 3s - loss: 0.1071 - accuracy: 0.96 - ETA: 3s - loss: 0.1069 - accuracy: 0.96 - ETA: 3s - loss: 0.1069 - accuracy: 0.96 - ETA: 3s - loss: 0.1065 - accuracy: 0.96 - ETA: 2s - loss: 0.1068 - accuracy: 0.96 - ETA: 2s - loss: 0.1067 - accuracy: 0.96 - ETA: 2s - loss: 0.1068 - accuracy: 0.96 - ETA: 2s - loss: 0.1073 - accuracy: 0.96 - ETA: 2s - loss: 0.1075 - accuracy: 0.96 - ETA: 2s - loss: 0.1075 - accuracy: 0.96 - ETA: 2s - loss: 0.1077 - accuracy: 0.95 - ETA: 2s - loss: 0.1081 - accuracy: 0.95 - ETA: 2s - loss: 0.1081 - accuracy: 0.95 - ETA: 2s - loss: 0.1080 - accuracy: 0.96 - ETA: 2s - loss: 0.1080 - accuracy: 0.96 - ETA: 2s - loss: 0.1079 - accuracy: 0.96 - ETA: 2s - loss: 0.1081 - accuracy: 0.96 - ETA: 2s - loss: 0.1082 - accuracy: 0.96 - ETA: 2s - loss: 0.1081 - accuracy: 0.96 - ETA: 2s - loss: 0.1080 - accuracy: 0.96 - ETA: 2s - loss: 0.1078 - accuracy: 0.96 - ETA: 1s - loss: 0.1080 - accuracy: 0.96 - ETA: 1s - loss: 0.1084 - accuracy: 0.95 - ETA: 1s - loss: 0.1086 - accuracy: 0.95 - ETA: 1s - loss: 0.1089 - accuracy: 0.95 - ETA: 1s - loss: 0.1089 - accuracy: 0.95 - ETA: 1s - loss: 0.1089 - accuracy: 0.95 - ETA: 1s - loss: 0.1088 - accuracy: 0.95 - ETA: 1s - loss: 0.1086 - accuracy: 0.95 - ETA: 1s - loss: 0.1085 - accuracy: 0.95 - ETA: 1s - loss: 0.1082 - accuracy: 0.95 - ETA: 1s - loss: 0.1081 - accuracy: 0.96 - ETA: 1s - loss: 0.1082 - accuracy: 0.96 - ETA: 1s - loss: 0.1080 - accuracy: 0.96 - ETA: 1s - loss: 0.1079 - accuracy: 0.96 - ETA: 1s - loss: 0.1079 - accuracy: 0.96 - ETA: 1s - loss: 0.1082 - accuracy: 0.96 - ETA: 1s - loss: 0.1080 - accuracy: 0.96 - ETA: 1s - loss: 0.1081 - accuracy: 0.96 - ETA: 0s - loss: 0.1082 - accuracy: 0.96 - ETA: 0s - loss: 0.1083 - accuracy: 0.95 - ETA: 0s - loss: 0.1087 - accuracy: 0.95 - ETA: 0s - loss: 0.1087 - accuracy: 0.95 - ETA: 0s - loss: 0.1088 - accuracy: 0.95 - ETA: 0s - loss: 0.1086 - accuracy: 0.95 - ETA: 0s - loss: 0.1084 - accuracy: 0.95 - ETA: 0s - loss: 0.1081 - accuracy: 0.96 - ETA: 0s - loss: 0.1078 - accuracy: 0.96 - ETA: 0s - loss: 0.1076 - accuracy: 0.96 - ETA: 0s - loss: 0.1076 - accuracy: 0.96 - ETA: 0s - loss: 0.1077 - accuracy: 0.96 - ETA: 0s - loss: 0.1078 - accuracy: 0.96 - ETA: 0s - loss: 0.1078 - accuracy: 0.96 - ETA: 0s - loss: 0.1078 - accuracy: 0.96 - ETA: 0s - loss: 0.1078 - accuracy: 0.96 - ETA: 0s - loss: 0.1077 - accuracy: 0.96 - ETA: 0s - loss: 0.1077 - accuracy: 0.96 - 9s 161us/sample - loss: 0.1078 - accuracy: 0.9600 - val_loss: 0.2806 - val_accuracy: 0.9077\n",
      "Epoch 5/10\n",
      "54000/54000 [==============================] - ETA: 8s - loss: 0.0633 - accuracy: 0.96 - ETA: 7s - loss: 0.0801 - accuracy: 0.96 - ETA: 7s - loss: 0.0759 - accuracy: 0.97 - ETA: 7s - loss: 0.0672 - accuracy: 0.97 - ETA: 7s - loss: 0.0667 - accuracy: 0.97 - ETA: 7s - loss: 0.0666 - accuracy: 0.97 - ETA: 7s - loss: 0.0632 - accuracy: 0.97 - ETA: 7s - loss: 0.0617 - accuracy: 0.97 - ETA: 7s - loss: 0.0602 - accuracy: 0.97 - ETA: 7s - loss: 0.0614 - accuracy: 0.97 - ETA: 7s - loss: 0.0590 - accuracy: 0.97 - ETA: 7s - loss: 0.0577 - accuracy: 0.97 - ETA: 7s - loss: 0.0578 - accuracy: 0.97 - ETA: 7s - loss: 0.0575 - accuracy: 0.98 - ETA: 7s - loss: 0.0567 - accuracy: 0.98 - ETA: 7s - loss: 0.0584 - accuracy: 0.97 - ETA: 7s - loss: 0.0571 - accuracy: 0.98 - ETA: 6s - loss: 0.0571 - accuracy: 0.98 - ETA: 6s - loss: 0.0573 - accuracy: 0.98 - ETA: 6s - loss: 0.0556 - accuracy: 0.98 - ETA: 6s - loss: 0.0551 - accuracy: 0.98 - ETA: 6s - loss: 0.0550 - accuracy: 0.98 - ETA: 6s - loss: 0.0548 - accuracy: 0.98 - ETA: 6s - loss: 0.0562 - accuracy: 0.97 - ETA: 6s - loss: 0.0562 - accuracy: 0.98 - ETA: 6s - loss: 0.0566 - accuracy: 0.97 - ETA: 6s - loss: 0.0573 - accuracy: 0.97 - ETA: 6s - loss: 0.0576 - accuracy: 0.97 - ETA: 6s - loss: 0.0576 - accuracy: 0.97 - ETA: 6s - loss: 0.0565 - accuracy: 0.97 - ETA: 6s - loss: 0.0564 - accuracy: 0.97 - ETA: 6s - loss: 0.0565 - accuracy: 0.97 - ETA: 6s - loss: 0.0561 - accuracy: 0.97 - ETA: 6s - loss: 0.0571 - accuracy: 0.97 - ETA: 6s - loss: 0.0575 - accuracy: 0.97 - ETA: 6s - loss: 0.0572 - accuracy: 0.97 - ETA: 6s - loss: 0.0574 - accuracy: 0.97 - ETA: 5s - loss: 0.0571 - accuracy: 0.97 - ETA: 5s - loss: 0.0568 - accuracy: 0.97 - ETA: 5s - loss: 0.0567 - accuracy: 0.97 - ETA: 5s - loss: 0.0576 - accuracy: 0.97 - ETA: 5s - loss: 0.0590 - accuracy: 0.97 - ETA: 5s - loss: 0.0591 - accuracy: 0.97 - ETA: 5s - loss: 0.0590 - accuracy: 0.97 - ETA: 5s - loss: 0.0593 - accuracy: 0.97 - ETA: 5s - loss: 0.0591 - accuracy: 0.97 - ETA: 5s - loss: 0.0602 - accuracy: 0.97 - ETA: 5s - loss: 0.0598 - accuracy: 0.97 - ETA: 5s - loss: 0.0600 - accuracy: 0.97 - ETA: 5s - loss: 0.0600 - accuracy: 0.97 - ETA: 5s - loss: 0.0598 - accuracy: 0.97 - ETA: 5s - loss: 0.0598 - accuracy: 0.97 - ETA: 5s - loss: 0.0604 - accuracy: 0.97 - ETA: 5s - loss: 0.0602 - accuracy: 0.97 - ETA: 4s - loss: 0.0605 - accuracy: 0.97 - ETA: 4s - loss: 0.0610 - accuracy: 0.97 - ETA: 4s - loss: 0.0611 - accuracy: 0.97 - ETA: 4s - loss: 0.0609 - accuracy: 0.97 - ETA: 4s - loss: 0.0607 - accuracy: 0.97 - ETA: 4s - loss: 0.0606 - accuracy: 0.97 - ETA: 4s - loss: 0.0611 - accuracy: 0.97 - ETA: 4s - loss: 0.0612 - accuracy: 0.97 - ETA: 4s - loss: 0.0614 - accuracy: 0.97 - ETA: 4s - loss: 0.0615 - accuracy: 0.97 - ETA: 4s - loss: 0.0614 - accuracy: 0.97 - ETA: 4s - loss: 0.0613 - accuracy: 0.97 - ETA: 4s - loss: 0.0614 - accuracy: 0.97 - ETA: 4s - loss: 0.0614 - accuracy: 0.97 - ETA: 4s - loss: 0.0614 - accuracy: 0.97 - ETA: 4s - loss: 0.0612 - accuracy: 0.97 - ETA: 4s - loss: 0.0614 - accuracy: 0.97 - ETA: 4s - loss: 0.0615 - accuracy: 0.97 - ETA: 4s - loss: 0.0615 - accuracy: 0.97 - ETA: 3s - loss: 0.0613 - accuracy: 0.97 - ETA: 3s - loss: 0.0615 - accuracy: 0.97 - ETA: 3s - loss: 0.0620 - accuracy: 0.97 - ETA: 3s - loss: 0.0624 - accuracy: 0.97 - ETA: 3s - loss: 0.0633 - accuracy: 0.97 - ETA: 3s - loss: 0.0635 - accuracy: 0.97 - ETA: 3s - loss: 0.0637 - accuracy: 0.97 - ETA: 3s - loss: 0.0640 - accuracy: 0.97 - ETA: 3s - loss: 0.0639 - accuracy: 0.97 - ETA: 3s - loss: 0.0637 - accuracy: 0.97 - ETA: 3s - loss: 0.0636 - accuracy: 0.97 - ETA: 3s - loss: 0.0638 - accuracy: 0.97 - ETA: 3s - loss: 0.0641 - accuracy: 0.97 - ETA: 3s - loss: 0.0643 - accuracy: 0.97 - ETA: 3s - loss: 0.0643 - accuracy: 0.97 - ETA: 3s - loss: 0.0641 - accuracy: 0.97 - ETA: 3s - loss: 0.0640 - accuracy: 0.97 - ETA: 3s - loss: 0.0637 - accuracy: 0.97 - ETA: 3s - loss: 0.0635 - accuracy: 0.97 - ETA: 2s - loss: 0.0635 - accuracy: 0.97 - ETA: 2s - loss: 0.0639 - accuracy: 0.97 - ETA: 2s - loss: 0.0639 - accuracy: 0.97 - ETA: 2s - loss: 0.0643 - accuracy: 0.97 - ETA: 2s - loss: 0.0649 - accuracy: 0.97 - ETA: 2s - loss: 0.0651 - accuracy: 0.97 - ETA: 2s - loss: 0.0652 - accuracy: 0.97 - ETA: 2s - loss: 0.0653 - accuracy: 0.97 - ETA: 2s - loss: 0.0655 - accuracy: 0.97 - ETA: 2s - loss: 0.0656 - accuracy: 0.97 - ETA: 2s - loss: 0.0661 - accuracy: 0.97 - ETA: 2s - loss: 0.0662 - accuracy: 0.97 - ETA: 2s - loss: 0.0663 - accuracy: 0.97 - ETA: 2s - loss: 0.0661 - accuracy: 0.97 - ETA: 2s - loss: 0.0661 - accuracy: 0.97 - ETA: 2s - loss: 0.0660 - accuracy: 0.97 - ETA: 2s - loss: 0.0658 - accuracy: 0.97 - ETA: 2s - loss: 0.0658 - accuracy: 0.97 - ETA: 2s - loss: 0.0660 - accuracy: 0.97 - ETA: 2s - loss: 0.0661 - accuracy: 0.97 - ETA: 1s - loss: 0.0662 - accuracy: 0.97 - ETA: 1s - loss: 0.0662 - accuracy: 0.97 - ETA: 1s - loss: 0.0665 - accuracy: 0.97 - ETA: 1s - loss: 0.0665 - accuracy: 0.97 - ETA: 1s - loss: 0.0666 - accuracy: 0.97 - ETA: 1s - loss: 0.0667 - accuracy: 0.97 - ETA: 1s - loss: 0.0666 - accuracy: 0.97 - ETA: 1s - loss: 0.0666 - accuracy: 0.97 - ETA: 1s - loss: 0.0666 - accuracy: 0.97 - ETA: 1s - loss: 0.0666 - accuracy: 0.97 - ETA: 1s - loss: 0.0667 - accuracy: 0.97 - ETA: 1s - loss: 0.0667 - accuracy: 0.97 - ETA: 1s - loss: 0.0667 - accuracy: 0.97 - ETA: 1s - loss: 0.0668 - accuracy: 0.97 - ETA: 1s - loss: 0.0669 - accuracy: 0.97 - ETA: 1s - loss: 0.0669 - accuracy: 0.97 - ETA: 1s - loss: 0.0669 - accuracy: 0.97 - ETA: 1s - loss: 0.0672 - accuracy: 0.97 - ETA: 1s - loss: 0.0672 - accuracy: 0.97 - ETA: 1s - loss: 0.0671 - accuracy: 0.97 - ETA: 0s - loss: 0.0672 - accuracy: 0.97 - ETA: 0s - loss: 0.0671 - accuracy: 0.97 - ETA: 0s - loss: 0.0672 - accuracy: 0.97 - ETA: 0s - loss: 0.0673 - accuracy: 0.97 - ETA: 0s - loss: 0.0673 - accuracy: 0.97 - ETA: 0s - loss: 0.0671 - accuracy: 0.97 - ETA: 0s - loss: 0.0671 - accuracy: 0.97 - ETA: 0s - loss: 0.0672 - accuracy: 0.97 - ETA: 0s - loss: 0.0672 - accuracy: 0.97 - ETA: 0s - loss: 0.0670 - accuracy: 0.97 - ETA: 0s - loss: 0.0671 - accuracy: 0.97 - ETA: 0s - loss: 0.0674 - accuracy: 0.97 - ETA: 0s - loss: 0.0679 - accuracy: 0.97 - ETA: 0s - loss: 0.0681 - accuracy: 0.97 - ETA: 0s - loss: 0.0684 - accuracy: 0.97 - ETA: 0s - loss: 0.0685 - accuracy: 0.97 - ETA: 0s - loss: 0.0685 - accuracy: 0.97 - ETA: 0s - loss: 0.0684 - accuracy: 0.97 - ETA: 0s - loss: 0.0687 - accuracy: 0.97 - 8s 155us/sample - loss: 0.0690 - accuracy: 0.9744 - val_loss: 0.3061 - val_accuracy: 0.9140\n",
      "Epoch 6/10\n"
     ]
    },
    {
     "name": "stdout",
     "output_type": "stream",
     "text": [
      "54000/54000 [==============================] - ETA: 9s - loss: 0.0391 - accuracy: 0.96 - ETA: 7s - loss: 0.0380 - accuracy: 0.99 - ETA: 7s - loss: 0.0353 - accuracy: 0.99 - ETA: 7s - loss: 0.0343 - accuracy: 0.99 - ETA: 7s - loss: 0.0373 - accuracy: 0.98 - ETA: 7s - loss: 0.0355 - accuracy: 0.99 - ETA: 7s - loss: 0.0343 - accuracy: 0.99 - ETA: 7s - loss: 0.0351 - accuracy: 0.99 - ETA: 7s - loss: 0.0359 - accuracy: 0.98 - ETA: 7s - loss: 0.0354 - accuracy: 0.98 - ETA: 7s - loss: 0.0365 - accuracy: 0.98 - ETA: 7s - loss: 0.0364 - accuracy: 0.98 - ETA: 7s - loss: 0.0361 - accuracy: 0.98 - ETA: 7s - loss: 0.0364 - accuracy: 0.98 - ETA: 7s - loss: 0.0370 - accuracy: 0.98 - ETA: 7s - loss: 0.0377 - accuracy: 0.98 - ETA: 7s - loss: 0.0370 - accuracy: 0.98 - ETA: 7s - loss: 0.0371 - accuracy: 0.98 - ETA: 7s - loss: 0.0374 - accuracy: 0.98 - ETA: 7s - loss: 0.0366 - accuracy: 0.98 - ETA: 6s - loss: 0.0365 - accuracy: 0.98 - ETA: 6s - loss: 0.0359 - accuracy: 0.98 - ETA: 6s - loss: 0.0354 - accuracy: 0.98 - ETA: 6s - loss: 0.0352 - accuracy: 0.98 - ETA: 6s - loss: 0.0347 - accuracy: 0.98 - ETA: 6s - loss: 0.0349 - accuracy: 0.98 - ETA: 6s - loss: 0.0352 - accuracy: 0.98 - ETA: 6s - loss: 0.0351 - accuracy: 0.98 - ETA: 6s - loss: 0.0350 - accuracy: 0.98 - ETA: 6s - loss: 0.0362 - accuracy: 0.98 - ETA: 6s - loss: 0.0356 - accuracy: 0.98 - ETA: 6s - loss: 0.0355 - accuracy: 0.98 - ETA: 6s - loss: 0.0355 - accuracy: 0.98 - ETA: 6s - loss: 0.0363 - accuracy: 0.98 - ETA: 6s - loss: 0.0363 - accuracy: 0.98 - ETA: 5s - loss: 0.0361 - accuracy: 0.98 - ETA: 5s - loss: 0.0359 - accuracy: 0.98 - ETA: 5s - loss: 0.0361 - accuracy: 0.98 - ETA: 5s - loss: 0.0364 - accuracy: 0.98 - ETA: 5s - loss: 0.0361 - accuracy: 0.98 - ETA: 5s - loss: 0.0364 - accuracy: 0.98 - ETA: 5s - loss: 0.0365 - accuracy: 0.98 - ETA: 5s - loss: 0.0367 - accuracy: 0.98 - ETA: 5s - loss: 0.0370 - accuracy: 0.98 - ETA: 5s - loss: 0.0375 - accuracy: 0.98 - ETA: 5s - loss: 0.0378 - accuracy: 0.98 - ETA: 5s - loss: 0.0377 - accuracy: 0.98 - ETA: 5s - loss: 0.0376 - accuracy: 0.98 - ETA: 5s - loss: 0.0374 - accuracy: 0.98 - ETA: 5s - loss: 0.0377 - accuracy: 0.98 - ETA: 5s - loss: 0.0376 - accuracy: 0.98 - ETA: 5s - loss: 0.0383 - accuracy: 0.98 - ETA: 5s - loss: 0.0385 - accuracy: 0.98 - ETA: 5s - loss: 0.0388 - accuracy: 0.98 - ETA: 5s - loss: 0.0390 - accuracy: 0.98 - ETA: 5s - loss: 0.0389 - accuracy: 0.98 - ETA: 5s - loss: 0.0390 - accuracy: 0.98 - ETA: 5s - loss: 0.0393 - accuracy: 0.98 - ETA: 5s - loss: 0.0390 - accuracy: 0.98 - ETA: 5s - loss: 0.0387 - accuracy: 0.98 - ETA: 5s - loss: 0.0389 - accuracy: 0.98 - ETA: 5s - loss: 0.0387 - accuracy: 0.98 - ETA: 5s - loss: 0.0393 - accuracy: 0.98 - ETA: 5s - loss: 0.0392 - accuracy: 0.98 - ETA: 5s - loss: 0.0398 - accuracy: 0.98 - ETA: 5s - loss: 0.0398 - accuracy: 0.98 - ETA: 5s - loss: 0.0397 - accuracy: 0.98 - ETA: 5s - loss: 0.0397 - accuracy: 0.98 - ETA: 5s - loss: 0.0397 - accuracy: 0.98 - ETA: 5s - loss: 0.0395 - accuracy: 0.98 - ETA: 5s - loss: 0.0399 - accuracy: 0.98 - ETA: 5s - loss: 0.0399 - accuracy: 0.98 - ETA: 5s - loss: 0.0399 - accuracy: 0.98 - ETA: 5s - loss: 0.0399 - accuracy: 0.98 - ETA: 5s - loss: 0.0402 - accuracy: 0.98 - ETA: 5s - loss: 0.0402 - accuracy: 0.98 - ETA: 5s - loss: 0.0402 - accuracy: 0.98 - ETA: 5s - loss: 0.0404 - accuracy: 0.98 - ETA: 5s - loss: 0.0405 - accuracy: 0.98 - ETA: 5s - loss: 0.0406 - accuracy: 0.98 - ETA: 5s - loss: 0.0405 - accuracy: 0.98 - ETA: 4s - loss: 0.0403 - accuracy: 0.98 - ETA: 4s - loss: 0.0404 - accuracy: 0.98 - ETA: 4s - loss: 0.0402 - accuracy: 0.98 - ETA: 4s - loss: 0.0408 - accuracy: 0.98 - ETA: 4s - loss: 0.0411 - accuracy: 0.98 - ETA: 4s - loss: 0.0414 - accuracy: 0.98 - ETA: 4s - loss: 0.0416 - accuracy: 0.98 - ETA: 4s - loss: 0.0418 - accuracy: 0.98 - ETA: 4s - loss: 0.0418 - accuracy: 0.98 - ETA: 4s - loss: 0.0424 - accuracy: 0.98 - ETA: 4s - loss: 0.0427 - accuracy: 0.98 - ETA: 4s - loss: 0.0425 - accuracy: 0.98 - ETA: 4s - loss: 0.0425 - accuracy: 0.98 - ETA: 4s - loss: 0.0426 - accuracy: 0.98 - ETA: 3s - loss: 0.0430 - accuracy: 0.98 - ETA: 3s - loss: 0.0433 - accuracy: 0.98 - ETA: 3s - loss: 0.0441 - accuracy: 0.98 - ETA: 3s - loss: 0.0442 - accuracy: 0.98 - ETA: 3s - loss: 0.0446 - accuracy: 0.98 - ETA: 3s - loss: 0.0445 - accuracy: 0.98 - ETA: 3s - loss: 0.0446 - accuracy: 0.98 - ETA: 3s - loss: 0.0447 - accuracy: 0.98 - ETA: 3s - loss: 0.0446 - accuracy: 0.98 - ETA: 3s - loss: 0.0446 - accuracy: 0.98 - ETA: 3s - loss: 0.0445 - accuracy: 0.98 - ETA: 3s - loss: 0.0446 - accuracy: 0.98 - ETA: 3s - loss: 0.0448 - accuracy: 0.98 - ETA: 3s - loss: 0.0450 - accuracy: 0.98 - ETA: 3s - loss: 0.0450 - accuracy: 0.98 - ETA: 2s - loss: 0.0452 - accuracy: 0.98 - ETA: 2s - loss: 0.0452 - accuracy: 0.98 - ETA: 2s - loss: 0.0453 - accuracy: 0.98 - ETA: 2s - loss: 0.0453 - accuracy: 0.98 - ETA: 2s - loss: 0.0451 - accuracy: 0.98 - ETA: 2s - loss: 0.0451 - accuracy: 0.98 - ETA: 2s - loss: 0.0452 - accuracy: 0.98 - ETA: 2s - loss: 0.0450 - accuracy: 0.98 - ETA: 2s - loss: 0.0449 - accuracy: 0.98 - ETA: 2s - loss: 0.0449 - accuracy: 0.98 - ETA: 2s - loss: 0.0449 - accuracy: 0.98 - ETA: 2s - loss: 0.0449 - accuracy: 0.98 - ETA: 2s - loss: 0.0449 - accuracy: 0.98 - ETA: 2s - loss: 0.0448 - accuracy: 0.98 - ETA: 2s - loss: 0.0449 - accuracy: 0.98 - ETA: 2s - loss: 0.0448 - accuracy: 0.98 - ETA: 2s - loss: 0.0447 - accuracy: 0.98 - ETA: 1s - loss: 0.0451 - accuracy: 0.98 - ETA: 1s - loss: 0.0451 - accuracy: 0.98 - ETA: 1s - loss: 0.0450 - accuracy: 0.98 - ETA: 1s - loss: 0.0451 - accuracy: 0.98 - ETA: 1s - loss: 0.0454 - accuracy: 0.98 - ETA: 1s - loss: 0.0455 - accuracy: 0.98 - ETA: 1s - loss: 0.0455 - accuracy: 0.98 - ETA: 1s - loss: 0.0458 - accuracy: 0.98 - ETA: 1s - loss: 0.0456 - accuracy: 0.98 - ETA: 1s - loss: 0.0457 - accuracy: 0.98 - ETA: 1s - loss: 0.0457 - accuracy: 0.98 - ETA: 1s - loss: 0.0457 - accuracy: 0.98 - ETA: 1s - loss: 0.0459 - accuracy: 0.98 - ETA: 1s - loss: 0.0460 - accuracy: 0.98 - ETA: 1s - loss: 0.0461 - accuracy: 0.98 - ETA: 1s - loss: 0.0462 - accuracy: 0.98 - ETA: 1s - loss: 0.0461 - accuracy: 0.98 - ETA: 0s - loss: 0.0464 - accuracy: 0.98 - ETA: 0s - loss: 0.0464 - accuracy: 0.98 - ETA: 0s - loss: 0.0464 - accuracy: 0.98 - ETA: 0s - loss: 0.0467 - accuracy: 0.98 - ETA: 0s - loss: 0.0468 - accuracy: 0.98 - ETA: 0s - loss: 0.0469 - accuracy: 0.98 - ETA: 0s - loss: 0.0469 - accuracy: 0.98 - ETA: 0s - loss: 0.0472 - accuracy: 0.98 - ETA: 0s - loss: 0.0472 - accuracy: 0.98 - ETA: 0s - loss: 0.0473 - accuracy: 0.98 - ETA: 0s - loss: 0.0474 - accuracy: 0.98 - ETA: 0s - loss: 0.0476 - accuracy: 0.98 - ETA: 0s - loss: 0.0476 - accuracy: 0.98 - ETA: 0s - loss: 0.0475 - accuracy: 0.98 - ETA: 0s - loss: 0.0473 - accuracy: 0.98 - ETA: 0s - loss: 0.0475 - accuracy: 0.98 - ETA: 0s - loss: 0.0477 - accuracy: 0.98 - ETA: 0s - loss: 0.0478 - accuracy: 0.98 - 9s 167us/sample - loss: 0.0477 - accuracy: 0.9826 - val_loss: 0.4448 - val_accuracy: 0.9070\n",
      "Epoch 7/10\n",
      "54000/54000 [==============================] - ETA: 10s - loss: 0.0827 - accuracy: 0.968 - ETA: 11s - loss: 0.0335 - accuracy: 0.983 - ETA: 15s - loss: 0.0299 - accuracy: 0.985 - ETA: 17s - loss: 0.0330 - accuracy: 0.985 - ETA: 15s - loss: 0.0339 - accuracy: 0.983 - ETA: 12s - loss: 0.0338 - accuracy: 0.986 - ETA: 11s - loss: 0.0330 - accuracy: 0.987 - ETA: 10s - loss: 0.0312 - accuracy: 0.988 - ETA: 10s - loss: 0.0317 - accuracy: 0.987 - ETA: 10s - loss: 0.0292 - accuracy: 0.989 - ETA: 10s - loss: 0.0310 - accuracy: 0.988 - ETA: 9s - loss: 0.0307 - accuracy: 0.988 - ETA: 9s - loss: 0.0343 - accuracy: 0.98 - ETA: 9s - loss: 0.0353 - accuracy: 0.98 - ETA: 9s - loss: 0.0351 - accuracy: 0.98 - ETA: 9s - loss: 0.0350 - accuracy: 0.98 - ETA: 9s - loss: 0.0353 - accuracy: 0.98 - ETA: 9s - loss: 0.0349 - accuracy: 0.98 - ETA: 9s - loss: 0.0351 - accuracy: 0.98 - ETA: 9s - loss: 0.0355 - accuracy: 0.98 - ETA: 9s - loss: 0.0350 - accuracy: 0.98 - ETA: 9s - loss: 0.0344 - accuracy: 0.98 - ETA: 9s - loss: 0.0339 - accuracy: 0.98 - ETA: 9s - loss: 0.0336 - accuracy: 0.98 - ETA: 9s - loss: 0.0330 - accuracy: 0.98 - ETA: 9s - loss: 0.0319 - accuracy: 0.98 - ETA: 8s - loss: 0.0316 - accuracy: 0.98 - ETA: 8s - loss: 0.0330 - accuracy: 0.98 - ETA: 8s - loss: 0.0322 - accuracy: 0.98 - ETA: 8s - loss: 0.0329 - accuracy: 0.98 - ETA: 8s - loss: 0.0329 - accuracy: 0.98 - ETA: 8s - loss: 0.0326 - accuracy: 0.98 - ETA: 7s - loss: 0.0326 - accuracy: 0.98 - ETA: 7s - loss: 0.0321 - accuracy: 0.98 - ETA: 7s - loss: 0.0318 - accuracy: 0.98 - ETA: 7s - loss: 0.0311 - accuracy: 0.98 - ETA: 7s - loss: 0.0309 - accuracy: 0.98 - ETA: 7s - loss: 0.0306 - accuracy: 0.98 - ETA: 7s - loss: 0.0301 - accuracy: 0.98 - ETA: 7s - loss: 0.0301 - accuracy: 0.98 - ETA: 7s - loss: 0.0303 - accuracy: 0.98 - ETA: 7s - loss: 0.0300 - accuracy: 0.98 - ETA: 6s - loss: 0.0298 - accuracy: 0.98 - ETA: 6s - loss: 0.0294 - accuracy: 0.98 - ETA: 6s - loss: 0.0292 - accuracy: 0.98 - ETA: 6s - loss: 0.0287 - accuracy: 0.99 - ETA: 6s - loss: 0.0285 - accuracy: 0.99 - ETA: 6s - loss: 0.0281 - accuracy: 0.99 - ETA: 6s - loss: 0.0275 - accuracy: 0.99 - ETA: 6s - loss: 0.0273 - accuracy: 0.99 - ETA: 6s - loss: 0.0273 - accuracy: 0.99 - ETA: 6s - loss: 0.0271 - accuracy: 0.99 - ETA: 6s - loss: 0.0269 - accuracy: 0.99 - ETA: 6s - loss: 0.0272 - accuracy: 0.99 - ETA: 5s - loss: 0.0271 - accuracy: 0.99 - ETA: 5s - loss: 0.0270 - accuracy: 0.99 - ETA: 5s - loss: 0.0273 - accuracy: 0.99 - ETA: 5s - loss: 0.0272 - accuracy: 0.99 - ETA: 5s - loss: 0.0275 - accuracy: 0.99 - ETA: 5s - loss: 0.0273 - accuracy: 0.99 - ETA: 5s - loss: 0.0272 - accuracy: 0.99 - ETA: 5s - loss: 0.0275 - accuracy: 0.99 - ETA: 5s - loss: 0.0275 - accuracy: 0.99 - ETA: 5s - loss: 0.0276 - accuracy: 0.99 - ETA: 5s - loss: 0.0280 - accuracy: 0.99 - ETA: 5s - loss: 0.0279 - accuracy: 0.99 - ETA: 5s - loss: 0.0276 - accuracy: 0.99 - ETA: 5s - loss: 0.0279 - accuracy: 0.99 - ETA: 5s - loss: 0.0278 - accuracy: 0.99 - ETA: 5s - loss: 0.0282 - accuracy: 0.99 - ETA: 4s - loss: 0.0287 - accuracy: 0.99 - ETA: 4s - loss: 0.0290 - accuracy: 0.99 - ETA: 4s - loss: 0.0293 - accuracy: 0.99 - ETA: 4s - loss: 0.0297 - accuracy: 0.98 - ETA: 4s - loss: 0.0297 - accuracy: 0.98 - ETA: 4s - loss: 0.0301 - accuracy: 0.98 - ETA: 4s - loss: 0.0300 - accuracy: 0.98 - ETA: 4s - loss: 0.0299 - accuracy: 0.98 - ETA: 4s - loss: 0.0298 - accuracy: 0.98 - ETA: 4s - loss: 0.0297 - accuracy: 0.98 - ETA: 4s - loss: 0.0297 - accuracy: 0.98 - ETA: 4s - loss: 0.0296 - accuracy: 0.98 - ETA: 4s - loss: 0.0300 - accuracy: 0.98 - ETA: 4s - loss: 0.0301 - accuracy: 0.98 - ETA: 4s - loss: 0.0301 - accuracy: 0.98 - ETA: 4s - loss: 0.0302 - accuracy: 0.98 - ETA: 4s - loss: 0.0305 - accuracy: 0.98 - ETA: 3s - loss: 0.0303 - accuracy: 0.98 - ETA: 3s - loss: 0.0302 - accuracy: 0.98 - ETA: 3s - loss: 0.0303 - accuracy: 0.98 - ETA: 3s - loss: 0.0303 - accuracy: 0.98 - ETA: 3s - loss: 0.0303 - accuracy: 0.98 - ETA: 3s - loss: 0.0303 - accuracy: 0.98 - ETA: 3s - loss: 0.0304 - accuracy: 0.98 - ETA: 3s - loss: 0.0303 - accuracy: 0.98 - ETA: 3s - loss: 0.0302 - accuracy: 0.98 - ETA: 3s - loss: 0.0304 - accuracy: 0.98 - ETA: 3s - loss: 0.0305 - accuracy: 0.98 - ETA: 3s - loss: 0.0304 - accuracy: 0.98 - ETA: 3s - loss: 0.0307 - accuracy: 0.98 - ETA: 3s - loss: 0.0307 - accuracy: 0.98 - ETA: 3s - loss: 0.0308 - accuracy: 0.98 - ETA: 3s - loss: 0.0311 - accuracy: 0.98 - ETA: 3s - loss: 0.0310 - accuracy: 0.98 - ETA: 2s - loss: 0.0311 - accuracy: 0.98 - ETA: 2s - loss: 0.0310 - accuracy: 0.98 - ETA: 2s - loss: 0.0311 - accuracy: 0.98 - ETA: 2s - loss: 0.0311 - accuracy: 0.98 - ETA: 2s - loss: 0.0310 - accuracy: 0.98 - ETA: 2s - loss: 0.0311 - accuracy: 0.98 - ETA: 2s - loss: 0.0312 - accuracy: 0.98 - ETA: 2s - loss: 0.0311 - accuracy: 0.98 - ETA: 2s - loss: 0.0311 - accuracy: 0.98 - ETA: 2s - loss: 0.0311 - accuracy: 0.98 - ETA: 2s - loss: 0.0312 - accuracy: 0.98 - ETA: 2s - loss: 0.0316 - accuracy: 0.98 - ETA: 2s - loss: 0.0317 - accuracy: 0.98 - ETA: 2s - loss: 0.0321 - accuracy: 0.98 - ETA: 2s - loss: 0.0322 - accuracy: 0.98 - ETA: 2s - loss: 0.0323 - accuracy: 0.98 - ETA: 2s - loss: 0.0323 - accuracy: 0.98 - ETA: 1s - loss: 0.0322 - accuracy: 0.98 - ETA: 1s - loss: 0.0322 - accuracy: 0.98 - ETA: 1s - loss: 0.0322 - accuracy: 0.98 - ETA: 1s - loss: 0.0322 - accuracy: 0.98 - ETA: 1s - loss: 0.0322 - accuracy: 0.98 - ETA: 1s - loss: 0.0321 - accuracy: 0.98 - ETA: 1s - loss: 0.0323 - accuracy: 0.98 - ETA: 1s - loss: 0.0324 - accuracy: 0.98 - ETA: 1s - loss: 0.0325 - accuracy: 0.98 - ETA: 1s - loss: 0.0330 - accuracy: 0.98 - ETA: 1s - loss: 0.0332 - accuracy: 0.98 - ETA: 1s - loss: 0.0334 - accuracy: 0.98 - ETA: 1s - loss: 0.0337 - accuracy: 0.98 - ETA: 1s - loss: 0.0337 - accuracy: 0.98 - ETA: 1s - loss: 0.0337 - accuracy: 0.98 - ETA: 1s - loss: 0.0337 - accuracy: 0.98 - ETA: 1s - loss: 0.0339 - accuracy: 0.98 - ETA: 1s - loss: 0.0339 - accuracy: 0.98 - ETA: 0s - loss: 0.0340 - accuracy: 0.98 - ETA: 0s - loss: 0.0340 - accuracy: 0.98 - ETA: 0s - loss: 0.0341 - accuracy: 0.98 - ETA: 0s - loss: 0.0340 - accuracy: 0.98 - ETA: 0s - loss: 0.0339 - accuracy: 0.98 - ETA: 0s - loss: 0.0338 - accuracy: 0.98 - ETA: 0s - loss: 0.0339 - accuracy: 0.98 - ETA: 0s - loss: 0.0339 - accuracy: 0.98 - ETA: 0s - loss: 0.0340 - accuracy: 0.98 - ETA: 0s - loss: 0.0339 - accuracy: 0.98 - ETA: 0s - loss: 0.0339 - accuracy: 0.98 - ETA: 0s - loss: 0.0340 - accuracy: 0.98 - ETA: 0s - loss: 0.0340 - accuracy: 0.98 - ETA: 0s - loss: 0.0340 - accuracy: 0.98 - ETA: 0s - loss: 0.0341 - accuracy: 0.98 - ETA: 0s - loss: 0.0343 - accuracy: 0.98 - ETA: 0s - loss: 0.0344 - accuracy: 0.98 - ETA: 0s - loss: 0.0343 - accuracy: 0.98 - 9s 162us/sample - loss: 0.0343 - accuracy: 0.9874 - val_loss: 0.4335 - val_accuracy: 0.9143\n",
      "Epoch 8/10\n"
     ]
    },
    {
     "name": "stdout",
     "output_type": "stream",
     "text": [
      "54000/54000 [==============================] - ETA: 8s - loss: 0.0220 - accuracy: 1.00 - ETA: 7s - loss: 0.0215 - accuracy: 0.99 - ETA: 7s - loss: 0.0248 - accuracy: 0.99 - ETA: 7s - loss: 0.0193 - accuracy: 0.99 - ETA: 7s - loss: 0.0217 - accuracy: 0.99 - ETA: 7s - loss: 0.0223 - accuracy: 0.99 - ETA: 7s - loss: 0.0232 - accuracy: 0.99 - ETA: 7s - loss: 0.0220 - accuracy: 0.99 - ETA: 7s - loss: 0.0222 - accuracy: 0.99 - ETA: 7s - loss: 0.0218 - accuracy: 0.99 - ETA: 7s - loss: 0.0234 - accuracy: 0.99 - ETA: 7s - loss: 0.0227 - accuracy: 0.99 - ETA: 7s - loss: 0.0225 - accuracy: 0.99 - ETA: 7s - loss: 0.0223 - accuracy: 0.99 - ETA: 7s - loss: 0.0216 - accuracy: 0.99 - ETA: 6s - loss: 0.0230 - accuracy: 0.99 - ETA: 6s - loss: 0.0239 - accuracy: 0.99 - ETA: 6s - loss: 0.0231 - accuracy: 0.99 - ETA: 6s - loss: 0.0224 - accuracy: 0.99 - ETA: 6s - loss: 0.0225 - accuracy: 0.99 - ETA: 6s - loss: 0.0225 - accuracy: 0.99 - ETA: 6s - loss: 0.0224 - accuracy: 0.99 - ETA: 6s - loss: 0.0223 - accuracy: 0.99 - ETA: 6s - loss: 0.0224 - accuracy: 0.99 - ETA: 6s - loss: 0.0222 - accuracy: 0.99 - ETA: 6s - loss: 0.0225 - accuracy: 0.99 - ETA: 6s - loss: 0.0221 - accuracy: 0.99 - ETA: 6s - loss: 0.0220 - accuracy: 0.99 - ETA: 6s - loss: 0.0220 - accuracy: 0.99 - ETA: 6s - loss: 0.0217 - accuracy: 0.99 - ETA: 6s - loss: 0.0214 - accuracy: 0.99 - ETA: 6s - loss: 0.0213 - accuracy: 0.99 - ETA: 5s - loss: 0.0215 - accuracy: 0.99 - ETA: 5s - loss: 0.0213 - accuracy: 0.99 - ETA: 5s - loss: 0.0213 - accuracy: 0.99 - ETA: 5s - loss: 0.0215 - accuracy: 0.99 - ETA: 5s - loss: 0.0213 - accuracy: 0.99 - ETA: 5s - loss: 0.0209 - accuracy: 0.99 - ETA: 5s - loss: 0.0205 - accuracy: 0.99 - ETA: 5s - loss: 0.0203 - accuracy: 0.99 - ETA: 5s - loss: 0.0206 - accuracy: 0.99 - ETA: 5s - loss: 0.0205 - accuracy: 0.99 - ETA: 5s - loss: 0.0203 - accuracy: 0.99 - ETA: 5s - loss: 0.0202 - accuracy: 0.99 - ETA: 5s - loss: 0.0201 - accuracy: 0.99 - ETA: 5s - loss: 0.0200 - accuracy: 0.99 - ETA: 5s - loss: 0.0200 - accuracy: 0.99 - ETA: 5s - loss: 0.0201 - accuracy: 0.99 - ETA: 5s - loss: 0.0200 - accuracy: 0.99 - ETA: 5s - loss: 0.0201 - accuracy: 0.99 - ETA: 5s - loss: 0.0199 - accuracy: 0.99 - ETA: 5s - loss: 0.0199 - accuracy: 0.99 - ETA: 5s - loss: 0.0198 - accuracy: 0.99 - ETA: 5s - loss: 0.0197 - accuracy: 0.99 - ETA: 5s - loss: 0.0195 - accuracy: 0.99 - ETA: 5s - loss: 0.0194 - accuracy: 0.99 - ETA: 5s - loss: 0.0198 - accuracy: 0.99 - ETA: 5s - loss: 0.0199 - accuracy: 0.99 - ETA: 5s - loss: 0.0200 - accuracy: 0.99 - ETA: 4s - loss: 0.0207 - accuracy: 0.99 - ETA: 4s - loss: 0.0207 - accuracy: 0.99 - ETA: 4s - loss: 0.0207 - accuracy: 0.99 - ETA: 4s - loss: 0.0206 - accuracy: 0.99 - ETA: 4s - loss: 0.0204 - accuracy: 0.99 - ETA: 4s - loss: 0.0205 - accuracy: 0.99 - ETA: 4s - loss: 0.0206 - accuracy: 0.99 - ETA: 4s - loss: 0.0206 - accuracy: 0.99 - ETA: 4s - loss: 0.0206 - accuracy: 0.99 - ETA: 4s - loss: 0.0205 - accuracy: 0.99 - ETA: 4s - loss: 0.0203 - accuracy: 0.99 - ETA: 4s - loss: 0.0203 - accuracy: 0.99 - ETA: 4s - loss: 0.0201 - accuracy: 0.99 - ETA: 4s - loss: 0.0200 - accuracy: 0.99 - ETA: 4s - loss: 0.0202 - accuracy: 0.99 - ETA: 4s - loss: 0.0200 - accuracy: 0.99 - ETA: 4s - loss: 0.0198 - accuracy: 0.99 - ETA: 3s - loss: 0.0197 - accuracy: 0.99 - ETA: 3s - loss: 0.0196 - accuracy: 0.99 - ETA: 3s - loss: 0.0195 - accuracy: 0.99 - ETA: 3s - loss: 0.0195 - accuracy: 0.99 - ETA: 3s - loss: 0.0199 - accuracy: 0.99 - ETA: 3s - loss: 0.0201 - accuracy: 0.99 - ETA: 3s - loss: 0.0200 - accuracy: 0.99 - ETA: 3s - loss: 0.0203 - accuracy: 0.99 - ETA: 3s - loss: 0.0202 - accuracy: 0.99 - ETA: 3s - loss: 0.0203 - accuracy: 0.99 - ETA: 3s - loss: 0.0201 - accuracy: 0.99 - ETA: 3s - loss: 0.0204 - accuracy: 0.99 - ETA: 3s - loss: 0.0203 - accuracy: 0.99 - ETA: 3s - loss: 0.0204 - accuracy: 0.99 - ETA: 3s - loss: 0.0206 - accuracy: 0.99 - ETA: 3s - loss: 0.0208 - accuracy: 0.99 - ETA: 3s - loss: 0.0208 - accuracy: 0.99 - ETA: 3s - loss: 0.0209 - accuracy: 0.99 - ETA: 2s - loss: 0.0210 - accuracy: 0.99 - ETA: 2s - loss: 0.0209 - accuracy: 0.99 - ETA: 2s - loss: 0.0209 - accuracy: 0.99 - ETA: 2s - loss: 0.0211 - accuracy: 0.99 - ETA: 2s - loss: 0.0212 - accuracy: 0.99 - ETA: 2s - loss: 0.0211 - accuracy: 0.99 - ETA: 2s - loss: 0.0215 - accuracy: 0.99 - ETA: 2s - loss: 0.0216 - accuracy: 0.99 - ETA: 2s - loss: 0.0216 - accuracy: 0.99 - ETA: 2s - loss: 0.0216 - accuracy: 0.99 - ETA: 2s - loss: 0.0218 - accuracy: 0.99 - ETA: 2s - loss: 0.0219 - accuracy: 0.99 - ETA: 2s - loss: 0.0220 - accuracy: 0.99 - ETA: 2s - loss: 0.0220 - accuracy: 0.99 - ETA: 2s - loss: 0.0221 - accuracy: 0.99 - ETA: 2s - loss: 0.0221 - accuracy: 0.99 - ETA: 2s - loss: 0.0223 - accuracy: 0.99 - ETA: 2s - loss: 0.0223 - accuracy: 0.99 - ETA: 2s - loss: 0.0223 - accuracy: 0.99 - ETA: 1s - loss: 0.0225 - accuracy: 0.99 - ETA: 1s - loss: 0.0224 - accuracy: 0.99 - ETA: 1s - loss: 0.0224 - accuracy: 0.99 - ETA: 1s - loss: 0.0224 - accuracy: 0.99 - ETA: 1s - loss: 0.0224 - accuracy: 0.99 - ETA: 1s - loss: 0.0223 - accuracy: 0.99 - ETA: 1s - loss: 0.0223 - accuracy: 0.99 - ETA: 1s - loss: 0.0223 - accuracy: 0.99 - ETA: 1s - loss: 0.0223 - accuracy: 0.99 - ETA: 1s - loss: 0.0225 - accuracy: 0.99 - ETA: 1s - loss: 0.0226 - accuracy: 0.99 - ETA: 1s - loss: 0.0229 - accuracy: 0.99 - ETA: 1s - loss: 0.0231 - accuracy: 0.99 - ETA: 1s - loss: 0.0230 - accuracy: 0.99 - ETA: 1s - loss: 0.0230 - accuracy: 0.99 - ETA: 1s - loss: 0.0230 - accuracy: 0.99 - ETA: 1s - loss: 0.0231 - accuracy: 0.99 - ETA: 1s - loss: 0.0232 - accuracy: 0.99 - ETA: 1s - loss: 0.0233 - accuracy: 0.99 - ETA: 1s - loss: 0.0233 - accuracy: 0.99 - ETA: 0s - loss: 0.0233 - accuracy: 0.99 - ETA: 0s - loss: 0.0234 - accuracy: 0.99 - ETA: 0s - loss: 0.0233 - accuracy: 0.99 - ETA: 0s - loss: 0.0234 - accuracy: 0.99 - ETA: 0s - loss: 0.0237 - accuracy: 0.99 - ETA: 0s - loss: 0.0239 - accuracy: 0.99 - ETA: 0s - loss: 0.0239 - accuracy: 0.99 - ETA: 0s - loss: 0.0239 - accuracy: 0.99 - ETA: 0s - loss: 0.0240 - accuracy: 0.99 - ETA: 0s - loss: 0.0239 - accuracy: 0.99 - ETA: 0s - loss: 0.0239 - accuracy: 0.99 - ETA: 0s - loss: 0.0240 - accuracy: 0.99 - ETA: 0s - loss: 0.0239 - accuracy: 0.99 - ETA: 0s - loss: 0.0238 - accuracy: 0.99 - ETA: 0s - loss: 0.0239 - accuracy: 0.99 - ETA: 0s - loss: 0.0240 - accuracy: 0.99 - ETA: 0s - loss: 0.0239 - accuracy: 0.99 - ETA: 0s - loss: 0.0239 - accuracy: 0.99 - ETA: 0s - loss: 0.0238 - accuracy: 0.99 - 8s 156us/sample - loss: 0.0238 - accuracy: 0.9911 - val_loss: 0.5298 - val_accuracy: 0.9135\n",
      "Epoch 9/10\n",
      "54000/54000 [==============================] - ETA: 10s - loss: 0.0082 - accuracy: 1.000 - ETA: 7s - loss: 0.0326 - accuracy: 0.990 - ETA: 7s - loss: 0.0297 - accuracy: 0.98 - ETA: 7s - loss: 0.0277 - accuracy: 0.98 - ETA: 7s - loss: 0.0239 - accuracy: 0.98 - ETA: 7s - loss: 0.0249 - accuracy: 0.98 - ETA: 7s - loss: 0.0237 - accuracy: 0.99 - ETA: 7s - loss: 0.0251 - accuracy: 0.99 - ETA: 7s - loss: 0.0234 - accuracy: 0.99 - ETA: 7s - loss: 0.0225 - accuracy: 0.99 - ETA: 7s - loss: 0.0241 - accuracy: 0.99 - ETA: 6s - loss: 0.0228 - accuracy: 0.99 - ETA: 6s - loss: 0.0227 - accuracy: 0.99 - ETA: 6s - loss: 0.0228 - accuracy: 0.99 - ETA: 6s - loss: 0.0229 - accuracy: 0.99 - ETA: 6s - loss: 0.0229 - accuracy: 0.99 - ETA: 6s - loss: 0.0225 - accuracy: 0.99 - ETA: 6s - loss: 0.0224 - accuracy: 0.99 - ETA: 6s - loss: 0.0221 - accuracy: 0.99 - ETA: 6s - loss: 0.0223 - accuracy: 0.99 - ETA: 6s - loss: 0.0223 - accuracy: 0.99 - ETA: 6s - loss: 0.0220 - accuracy: 0.99 - ETA: 6s - loss: 0.0212 - accuracy: 0.99 - ETA: 6s - loss: 0.0208 - accuracy: 0.99 - ETA: 6s - loss: 0.0204 - accuracy: 0.99 - ETA: 6s - loss: 0.0199 - accuracy: 0.99 - ETA: 6s - loss: 0.0196 - accuracy: 0.99 - ETA: 6s - loss: 0.0195 - accuracy: 0.99 - ETA: 6s - loss: 0.0195 - accuracy: 0.99 - ETA: 6s - loss: 0.0191 - accuracy: 0.99 - ETA: 6s - loss: 0.0188 - accuracy: 0.99 - ETA: 5s - loss: 0.0192 - accuracy: 0.99 - ETA: 5s - loss: 0.0189 - accuracy: 0.99 - ETA: 5s - loss: 0.0189 - accuracy: 0.99 - ETA: 5s - loss: 0.0189 - accuracy: 0.99 - ETA: 5s - loss: 0.0189 - accuracy: 0.99 - ETA: 5s - loss: 0.0186 - accuracy: 0.99 - ETA: 5s - loss: 0.0184 - accuracy: 0.99 - ETA: 5s - loss: 0.0184 - accuracy: 0.99 - ETA: 5s - loss: 0.0186 - accuracy: 0.99 - ETA: 5s - loss: 0.0186 - accuracy: 0.99 - ETA: 5s - loss: 0.0187 - accuracy: 0.99 - ETA: 5s - loss: 0.0188 - accuracy: 0.99 - ETA: 5s - loss: 0.0186 - accuracy: 0.99 - ETA: 5s - loss: 0.0184 - accuracy: 0.99 - ETA: 5s - loss: 0.0186 - accuracy: 0.99 - ETA: 5s - loss: 0.0183 - accuracy: 0.99 - ETA: 5s - loss: 0.0183 - accuracy: 0.99 - ETA: 5s - loss: 0.0189 - accuracy: 0.99 - ETA: 5s - loss: 0.0191 - accuracy: 0.99 - ETA: 4s - loss: 0.0190 - accuracy: 0.99 - ETA: 4s - loss: 0.0190 - accuracy: 0.99 - ETA: 4s - loss: 0.0193 - accuracy: 0.99 - ETA: 4s - loss: 0.0191 - accuracy: 0.99 - ETA: 4s - loss: 0.0192 - accuracy: 0.99 - ETA: 4s - loss: 0.0191 - accuracy: 0.99 - ETA: 4s - loss: 0.0191 - accuracy: 0.99 - ETA: 4s - loss: 0.0188 - accuracy: 0.99 - ETA: 4s - loss: 0.0188 - accuracy: 0.99 - ETA: 4s - loss: 0.0186 - accuracy: 0.99 - ETA: 4s - loss: 0.0185 - accuracy: 0.99 - ETA: 4s - loss: 0.0183 - accuracy: 0.99 - ETA: 4s - loss: 0.0181 - accuracy: 0.99 - ETA: 4s - loss: 0.0180 - accuracy: 0.99 - ETA: 4s - loss: 0.0180 - accuracy: 0.99 - ETA: 4s - loss: 0.0179 - accuracy: 0.99 - ETA: 4s - loss: 0.0178 - accuracy: 0.99 - ETA: 4s - loss: 0.0176 - accuracy: 0.99 - ETA: 4s - loss: 0.0174 - accuracy: 0.99 - ETA: 3s - loss: 0.0173 - accuracy: 0.99 - ETA: 3s - loss: 0.0173 - accuracy: 0.99 - ETA: 3s - loss: 0.0172 - accuracy: 0.99 - ETA: 3s - loss: 0.0175 - accuracy: 0.99 - ETA: 3s - loss: 0.0174 - accuracy: 0.99 - ETA: 3s - loss: 0.0178 - accuracy: 0.99 - ETA: 3s - loss: 0.0177 - accuracy: 0.99 - ETA: 3s - loss: 0.0176 - accuracy: 0.99 - ETA: 3s - loss: 0.0174 - accuracy: 0.99 - ETA: 3s - loss: 0.0172 - accuracy: 0.99 - ETA: 3s - loss: 0.0174 - accuracy: 0.99 - ETA: 3s - loss: 0.0179 - accuracy: 0.99 - ETA: 3s - loss: 0.0182 - accuracy: 0.99 - ETA: 3s - loss: 0.0180 - accuracy: 0.99 - ETA: 3s - loss: 0.0181 - accuracy: 0.99 - ETA: 3s - loss: 0.0181 - accuracy: 0.99 - ETA: 3s - loss: 0.0181 - accuracy: 0.99 - ETA: 3s - loss: 0.0184 - accuracy: 0.99 - ETA: 3s - loss: 0.0184 - accuracy: 0.99 - ETA: 3s - loss: 0.0184 - accuracy: 0.99 - ETA: 2s - loss: 0.0184 - accuracy: 0.99 - ETA: 2s - loss: 0.0187 - accuracy: 0.99 - ETA: 2s - loss: 0.0187 - accuracy: 0.99 - ETA: 2s - loss: 0.0189 - accuracy: 0.99 - ETA: 2s - loss: 0.0191 - accuracy: 0.99 - ETA: 2s - loss: 0.0191 - accuracy: 0.99 - ETA: 2s - loss: 0.0191 - accuracy: 0.99 - ETA: 2s - loss: 0.0191 - accuracy: 0.99 - ETA: 2s - loss: 0.0191 - accuracy: 0.99 - ETA: 2s - loss: 0.0191 - accuracy: 0.99 - ETA: 2s - loss: 0.0192 - accuracy: 0.99 - ETA: 2s - loss: 0.0195 - accuracy: 0.99 - ETA: 2s - loss: 0.0194 - accuracy: 0.99 - ETA: 2s - loss: 0.0195 - accuracy: 0.99 - ETA: 2s - loss: 0.0195 - accuracy: 0.99 - ETA: 2s - loss: 0.0197 - accuracy: 0.99 - ETA: 2s - loss: 0.0199 - accuracy: 0.99 - ETA: 2s - loss: 0.0200 - accuracy: 0.99 - ETA: 2s - loss: 0.0204 - accuracy: 0.99 - ETA: 2s - loss: 0.0204 - accuracy: 0.99 - ETA: 2s - loss: 0.0203 - accuracy: 0.99 - ETA: 1s - loss: 0.0207 - accuracy: 0.99 - ETA: 1s - loss: 0.0210 - accuracy: 0.99 - ETA: 1s - loss: 0.0210 - accuracy: 0.99 - ETA: 1s - loss: 0.0209 - accuracy: 0.99 - ETA: 1s - loss: 0.0212 - accuracy: 0.99 - ETA: 1s - loss: 0.0214 - accuracy: 0.99 - ETA: 1s - loss: 0.0214 - accuracy: 0.99 - ETA: 1s - loss: 0.0217 - accuracy: 0.99 - ETA: 1s - loss: 0.0222 - accuracy: 0.99 - ETA: 1s - loss: 0.0222 - accuracy: 0.99 - ETA: 1s - loss: 0.0224 - accuracy: 0.99 - ETA: 1s - loss: 0.0225 - accuracy: 0.99 - ETA: 1s - loss: 0.0227 - accuracy: 0.99 - ETA: 1s - loss: 0.0227 - accuracy: 0.99 - ETA: 1s - loss: 0.0227 - accuracy: 0.99 - ETA: 1s - loss: 0.0229 - accuracy: 0.99 - ETA: 1s - loss: 0.0230 - accuracy: 0.99 - ETA: 1s - loss: 0.0232 - accuracy: 0.99 - ETA: 1s - loss: 0.0233 - accuracy: 0.99 - ETA: 0s - loss: 0.0234 - accuracy: 0.99 - ETA: 0s - loss: 0.0234 - accuracy: 0.99 - ETA: 0s - loss: 0.0234 - accuracy: 0.99 - ETA: 0s - loss: 0.0233 - accuracy: 0.99 - ETA: 0s - loss: 0.0233 - accuracy: 0.99 - ETA: 0s - loss: 0.0232 - accuracy: 0.99 - ETA: 0s - loss: 0.0231 - accuracy: 0.99 - ETA: 0s - loss: 0.0230 - accuracy: 0.99 - ETA: 0s - loss: 0.0229 - accuracy: 0.99 - ETA: 0s - loss: 0.0228 - accuracy: 0.99 - ETA: 0s - loss: 0.0227 - accuracy: 0.99 - ETA: 0s - loss: 0.0228 - accuracy: 0.99 - ETA: 0s - loss: 0.0227 - accuracy: 0.99 - ETA: 0s - loss: 0.0227 - accuracy: 0.99 - ETA: 0s - loss: 0.0226 - accuracy: 0.99 - ETA: 0s - loss: 0.0226 - accuracy: 0.99 - ETA: 0s - loss: 0.0226 - accuracy: 0.99 - ETA: 0s - loss: 0.0225 - accuracy: 0.99 - ETA: 0s - loss: 0.0226 - accuracy: 0.99 - ETA: 0s - loss: 0.0225 - accuracy: 0.99 - 8s 152us/sample - loss: 0.0225 - accuracy: 0.9925 - val_loss: 0.5017 - val_accuracy: 0.9092\n",
      "Epoch 10/10\n"
     ]
    },
    {
     "name": "stdout",
     "output_type": "stream",
     "text": [
      "54000/54000 [==============================] - ETA: 14s - loss: 0.0397 - accuracy: 0.968 - ETA: 7s - loss: 0.0194 - accuracy: 0.992 - ETA: 7s - loss: 0.0135 - accuracy: 0.99 - ETA: 7s - loss: 0.0117 - accuracy: 0.99 - ETA: 7s - loss: 0.0109 - accuracy: 0.99 - ETA: 7s - loss: 0.0115 - accuracy: 0.99 - ETA: 7s - loss: 0.0106 - accuracy: 0.99 - ETA: 7s - loss: 0.0099 - accuracy: 0.99 - ETA: 7s - loss: 0.0100 - accuracy: 0.99 - ETA: 7s - loss: 0.0126 - accuracy: 0.99 - ETA: 7s - loss: 0.0119 - accuracy: 0.99 - ETA: 7s - loss: 0.0131 - accuracy: 0.99 - ETA: 6s - loss: 0.0129 - accuracy: 0.99 - ETA: 6s - loss: 0.0121 - accuracy: 0.99 - ETA: 6s - loss: 0.0116 - accuracy: 0.99 - ETA: 6s - loss: 0.0111 - accuracy: 0.99 - ETA: 6s - loss: 0.0108 - accuracy: 0.99 - ETA: 6s - loss: 0.0105 - accuracy: 0.99 - ETA: 6s - loss: 0.0100 - accuracy: 0.99 - ETA: 6s - loss: 0.0109 - accuracy: 0.99 - ETA: 6s - loss: 0.0108 - accuracy: 0.99 - ETA: 6s - loss: 0.0110 - accuracy: 0.99 - ETA: 6s - loss: 0.0109 - accuracy: 0.99 - ETA: 6s - loss: 0.0110 - accuracy: 0.99 - ETA: 6s - loss: 0.0109 - accuracy: 0.99 - ETA: 6s - loss: 0.0109 - accuracy: 0.99 - ETA: 6s - loss: 0.0108 - accuracy: 0.99 - ETA: 6s - loss: 0.0111 - accuracy: 0.99 - ETA: 6s - loss: 0.0112 - accuracy: 0.99 - ETA: 6s - loss: 0.0109 - accuracy: 0.99 - ETA: 6s - loss: 0.0106 - accuracy: 0.99 - ETA: 6s - loss: 0.0103 - accuracy: 0.99 - ETA: 6s - loss: 0.0103 - accuracy: 0.99 - ETA: 6s - loss: 0.0103 - accuracy: 0.99 - ETA: 5s - loss: 0.0102 - accuracy: 0.99 - ETA: 5s - loss: 0.0104 - accuracy: 0.99 - ETA: 5s - loss: 0.0103 - accuracy: 0.99 - ETA: 5s - loss: 0.0101 - accuracy: 0.99 - ETA: 5s - loss: 0.0102 - accuracy: 0.99 - ETA: 5s - loss: 0.0103 - accuracy: 0.99 - ETA: 5s - loss: 0.0104 - accuracy: 0.99 - ETA: 5s - loss: 0.0102 - accuracy: 0.99 - ETA: 5s - loss: 0.0100 - accuracy: 0.99 - ETA: 5s - loss: 0.0099 - accuracy: 0.99 - ETA: 5s - loss: 0.0101 - accuracy: 0.99 - ETA: 5s - loss: 0.0100 - accuracy: 0.99 - ETA: 5s - loss: 0.0100 - accuracy: 0.99 - ETA: 5s - loss: 0.0098 - accuracy: 0.99 - ETA: 5s - loss: 0.0098 - accuracy: 0.99 - ETA: 5s - loss: 0.0098 - accuracy: 0.99 - ETA: 5s - loss: 0.0098 - accuracy: 0.99 - ETA: 5s - loss: 0.0097 - accuracy: 0.99 - ETA: 5s - loss: 0.0097 - accuracy: 0.99 - ETA: 5s - loss: 0.0097 - accuracy: 0.99 - ETA: 5s - loss: 0.0097 - accuracy: 0.99 - ETA: 5s - loss: 0.0095 - accuracy: 0.99 - ETA: 5s - loss: 0.0096 - accuracy: 0.99 - ETA: 5s - loss: 0.0095 - accuracy: 0.99 - ETA: 5s - loss: 0.0096 - accuracy: 0.99 - ETA: 5s - loss: 0.0099 - accuracy: 0.99 - ETA: 5s - loss: 0.0100 - accuracy: 0.99 - ETA: 5s - loss: 0.0102 - accuracy: 0.99 - ETA: 4s - loss: 0.0116 - accuracy: 0.99 - ETA: 4s - loss: 0.0120 - accuracy: 0.99 - ETA: 4s - loss: 0.0121 - accuracy: 0.99 - ETA: 4s - loss: 0.0121 - accuracy: 0.99 - ETA: 4s - loss: 0.0128 - accuracy: 0.99 - ETA: 4s - loss: 0.0135 - accuracy: 0.99 - ETA: 4s - loss: 0.0139 - accuracy: 0.99 - ETA: 4s - loss: 0.0139 - accuracy: 0.99 - ETA: 4s - loss: 0.0142 - accuracy: 0.99 - ETA: 4s - loss: 0.0143 - accuracy: 0.99 - ETA: 4s - loss: 0.0142 - accuracy: 0.99 - ETA: 4s - loss: 0.0144 - accuracy: 0.99 - ETA: 4s - loss: 0.0145 - accuracy: 0.99 - ETA: 4s - loss: 0.0150 - accuracy: 0.99 - ETA: 4s - loss: 0.0154 - accuracy: 0.99 - ETA: 4s - loss: 0.0154 - accuracy: 0.99 - ETA: 3s - loss: 0.0158 - accuracy: 0.99 - ETA: 3s - loss: 0.0161 - accuracy: 0.99 - ETA: 3s - loss: 0.0168 - accuracy: 0.99 - ETA: 3s - loss: 0.0167 - accuracy: 0.99 - ETA: 3s - loss: 0.0168 - accuracy: 0.99 - ETA: 3s - loss: 0.0169 - accuracy: 0.99 - ETA: 3s - loss: 0.0168 - accuracy: 0.99 - ETA: 3s - loss: 0.0168 - accuracy: 0.99 - ETA: 3s - loss: 0.0168 - accuracy: 0.99 - ETA: 3s - loss: 0.0168 - accuracy: 0.99 - ETA: 3s - loss: 0.0168 - accuracy: 0.99 - ETA: 3s - loss: 0.0168 - accuracy: 0.99 - ETA: 3s - loss: 0.0170 - accuracy: 0.99 - ETA: 3s - loss: 0.0169 - accuracy: 0.99 - ETA: 3s - loss: 0.0171 - accuracy: 0.99 - ETA: 3s - loss: 0.0171 - accuracy: 0.99 - ETA: 3s - loss: 0.0172 - accuracy: 0.99 - ETA: 3s - loss: 0.0171 - accuracy: 0.99 - ETA: 3s - loss: 0.0174 - accuracy: 0.99 - ETA: 2s - loss: 0.0175 - accuracy: 0.99 - ETA: 2s - loss: 0.0176 - accuracy: 0.99 - ETA: 2s - loss: 0.0175 - accuracy: 0.99 - ETA: 2s - loss: 0.0174 - accuracy: 0.99 - ETA: 2s - loss: 0.0177 - accuracy: 0.99 - ETA: 2s - loss: 0.0178 - accuracy: 0.99 - ETA: 2s - loss: 0.0179 - accuracy: 0.99 - ETA: 2s - loss: 0.0179 - accuracy: 0.99 - ETA: 2s - loss: 0.0179 - accuracy: 0.99 - ETA: 2s - loss: 0.0180 - accuracy: 0.99 - ETA: 2s - loss: 0.0180 - accuracy: 0.99 - ETA: 2s - loss: 0.0180 - accuracy: 0.99 - ETA: 2s - loss: 0.0180 - accuracy: 0.99 - ETA: 2s - loss: 0.0180 - accuracy: 0.99 - ETA: 2s - loss: 0.0180 - accuracy: 0.99 - ETA: 2s - loss: 0.0180 - accuracy: 0.99 - ETA: 2s - loss: 0.0181 - accuracy: 0.99 - ETA: 2s - loss: 0.0181 - accuracy: 0.99 - ETA: 1s - loss: 0.0182 - accuracy: 0.99 - ETA: 1s - loss: 0.0182 - accuracy: 0.99 - ETA: 1s - loss: 0.0181 - accuracy: 0.99 - ETA: 1s - loss: 0.0180 - accuracy: 0.99 - ETA: 1s - loss: 0.0181 - accuracy: 0.99 - ETA: 1s - loss: 0.0183 - accuracy: 0.99 - ETA: 1s - loss: 0.0181 - accuracy: 0.99 - ETA: 1s - loss: 0.0183 - accuracy: 0.99 - ETA: 1s - loss: 0.0182 - accuracy: 0.99 - ETA: 1s - loss: 0.0181 - accuracy: 0.99 - ETA: 1s - loss: 0.0182 - accuracy: 0.99 - ETA: 1s - loss: 0.0181 - accuracy: 0.99 - ETA: 1s - loss: 0.0180 - accuracy: 0.99 - ETA: 1s - loss: 0.0180 - accuracy: 0.99 - ETA: 1s - loss: 0.0179 - accuracy: 0.99 - ETA: 1s - loss: 0.0179 - accuracy: 0.99 - ETA: 1s - loss: 0.0180 - accuracy: 0.99 - ETA: 1s - loss: 0.0180 - accuracy: 0.99 - ETA: 0s - loss: 0.0180 - accuracy: 0.99 - ETA: 0s - loss: 0.0181 - accuracy: 0.99 - ETA: 0s - loss: 0.0182 - accuracy: 0.99 - ETA: 0s - loss: 0.0181 - accuracy: 0.99 - ETA: 0s - loss: 0.0181 - accuracy: 0.99 - ETA: 0s - loss: 0.0181 - accuracy: 0.99 - ETA: 0s - loss: 0.0181 - accuracy: 0.99 - ETA: 0s - loss: 0.0182 - accuracy: 0.99 - ETA: 0s - loss: 0.0182 - accuracy: 0.99 - ETA: 0s - loss: 0.0182 - accuracy: 0.99 - ETA: 0s - loss: 0.0181 - accuracy: 0.99 - ETA: 0s - loss: 0.0182 - accuracy: 0.99 - ETA: 0s - loss: 0.0182 - accuracy: 0.99 - ETA: 0s - loss: 0.0182 - accuracy: 0.99 - ETA: 0s - loss: 0.0182 - accuracy: 0.99 - ETA: 0s - loss: 0.0182 - accuracy: 0.99 - ETA: 0s - loss: 0.0182 - accuracy: 0.99 - ETA: 0s - loss: 0.0182 - accuracy: 0.99 - ETA: 0s - loss: 0.0185 - accuracy: 0.99 - 8s 157us/sample - loss: 0.0184 - accuracy: 0.9939 - val_loss: 0.5313 - val_accuracy: 0.9112\n"
     ]
    },
    {
     "data": {
      "text/plain": [
       "<tensorflow.python.keras.callbacks.History at 0x7f0fc8118d90>"
      ]
     },
     "execution_count": 16,
     "metadata": {},
     "output_type": "execute_result"
    }
   ],
   "source": [
    "model.fit(train_images, train_labels, epochs=10, validation_split=0.1, initial_epoch=3)"
   ]
  },
  {
   "cell_type": "code",
   "execution_count": null,
   "metadata": {},
   "outputs": [],
   "source": []
  },
  {
   "cell_type": "code",
   "execution_count": null,
   "metadata": {},
   "outputs": [],
   "source": []
  }
 ],
 "metadata": {
  "kernelspec": {
   "display_name": "Python 3",
   "language": "python",
   "name": "python3"
  },
  "language_info": {
   "codemirror_mode": {
    "name": "ipython",
    "version": 3
   },
   "file_extension": ".py",
   "mimetype": "text/x-python",
   "name": "python",
   "nbconvert_exporter": "python",
   "pygments_lexer": "ipython3",
   "version": "3.7.3"
  }
 },
 "nbformat": 4,
 "nbformat_minor": 4
}
