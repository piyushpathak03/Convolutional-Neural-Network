{
 "cells": [
  {
   "cell_type": "code",
   "execution_count": 1,
   "metadata": {},
   "outputs": [],
   "source": [
    "import numpy as np\n",
    "import os\n",
    "import cv2\n",
    "import matplotlib.pyplot as plt\n",
    "import tensorflow as tf\n",
    "from tensorflow import keras\n",
    "from tensorflow.keras.preprocessing import image\n",
    "from tensorflow.keras.preprocessing.image import ImageDataGenerator\n",
    "from tensorflow.keras.models import load_model\n",
    "from tensorflow.keras import layers\n",
    "from tensorflow.keras.models import Sequential\n",
    "from tensorflow.keras.optimizers import Adam"
   ]
  },
  {
   "cell_type": "code",
   "execution_count": 6,
   "metadata": {},
   "outputs": [],
   "source": [
    "training_ds= r\"D:\\Projects\\Mask detection\\train\"\n",
    "validation_ds= r\"D:\\Projects\\Mask detection\\validation\""
   ]
  },
  {
   "cell_type": "code",
   "execution_count": 7,
   "metadata": {},
   "outputs": [],
   "source": [
    "train = ImageDataGenerator(rescale= 1/255)\n",
    "validation = ImageDataGenerator(rescale= 1/255)"
   ]
  },
  {
   "cell_type": "code",
   "execution_count": 8,
   "metadata": {},
   "outputs": [
    {
     "name": "stdout",
     "output_type": "stream",
     "text": [
      "Found 1238 images belonging to 2 classes.\n",
      "Found 138 images belonging to 2 classes.\n"
     ]
    }
   ],
   "source": [
    "train_dataset= train.flow_from_directory(training_ds,\n",
    "                                         target_size= (100,100),\n",
    "                                         batch_size= 32, \n",
    "                                         class_mode= 'binary',\n",
    "                                         color_mode=\"grayscale\")\n",
    "\n",
    "validation_dataset= validation.flow_from_directory(validation_ds,\n",
    "                                         target_size= (100,100),\n",
    "                                         batch_size= 32,\n",
    "                                         class_mode= 'binary',\n",
    "                                         color_mode=\"grayscale\")"
   ]
  },
  {
   "cell_type": "code",
   "execution_count": 9,
   "metadata": {},
   "outputs": [
    {
     "data": {
      "text/plain": [
       "{'with mask': 0, 'without mask': 1}"
      ]
     },
     "execution_count": 9,
     "metadata": {},
     "output_type": "execute_result"
    }
   ],
   "source": [
    "train_dataset.class_indices"
   ]
  },
  {
   "cell_type": "code",
   "execution_count": 10,
   "metadata": {},
   "outputs": [
    {
     "data": {
      "text/plain": [
       "array([0, 0, 0, ..., 1, 1, 1])"
      ]
     },
     "execution_count": 10,
     "metadata": {},
     "output_type": "execute_result"
    }
   ],
   "source": [
    "train_dataset.classes"
   ]
  },
  {
   "cell_type": "code",
   "execution_count": 11,
   "metadata": {},
   "outputs": [
    {
     "name": "stdout",
     "output_type": "stream",
     "text": [
      "(32, 100, 100, 1)\n",
      "(32,)\n"
     ]
    }
   ],
   "source": [
    "for image_batch, labels_batch in train_dataset:\n",
    "    print(image_batch.shape)\n",
    "    print(labels_batch.shape)\n",
    "    break"
   ]
  },
  {
   "cell_type": "code",
   "execution_count": 29,
   "metadata": {},
   "outputs": [],
   "source": [
    "model = Sequential([\n",
    "  tf.keras.layers.Conv2D(32, (3,3), padding='same', activation='relu', input_shape=(100,100,1)),\n",
    "  tf.keras.layers.MaxPooling2D(2,2),\n",
    "  tf.keras.layers.Dropout(0.25),\n",
    "\n",
    "  tf.keras.layers.Conv2D(64, (3,3), padding='same', activation='relu'),\n",
    "  tf.keras.layers.MaxPooling2D(2,2),\n",
    "  tf.keras.layers.Dropout(0.25),\n",
    "\n",
    "  tf.keras.layers.Conv2D(128, (3,3), padding='same', activation='relu'),\n",
    "  tf.keras.layers.MaxPooling2D(2,2),\n",
    "  tf.keras.layers.Dropout(0.25),\n",
    "\n",
    "  tf.keras.layers.Conv2D(256, (3,3), padding='same', activation='relu'),\n",
    "  tf.keras.layers.MaxPooling2D(2,2),\n",
    "  tf.keras.layers.Dropout(0.25),\n",
    "    \n",
    "  tf.keras.layers.Flatten(),\n",
    "\n",
    "  tf.keras.layers.Dense(256, activation='relu'),\n",
    "\n",
    "  tf.keras.layers.Dense(1, activation= 'sigmoid')\n",
    "])"
   ]
  },
  {
   "cell_type": "code",
   "execution_count": 30,
   "metadata": {},
   "outputs": [],
   "source": [
    "model.compile(loss='binary_crossentropy', optimizer= Adam(lr= 0.001), metrics= ['accuracy'])"
   ]
  },
  {
   "cell_type": "code",
   "execution_count": 31,
   "metadata": {},
   "outputs": [
    {
     "name": "stdout",
     "output_type": "stream",
     "text": [
      "Model: \"sequential_1\"\n",
      "_________________________________________________________________\n",
      "Layer (type)                 Output Shape              Param #   \n",
      "=================================================================\n",
      "conv2d_3 (Conv2D)            (None, 100, 100, 32)      320       \n",
      "_________________________________________________________________\n",
      "max_pooling2d_3 (MaxPooling2 (None, 50, 50, 32)        0         \n",
      "_________________________________________________________________\n",
      "dropout_3 (Dropout)          (None, 50, 50, 32)        0         \n",
      "_________________________________________________________________\n",
      "conv2d_4 (Conv2D)            (None, 50, 50, 64)        18496     \n",
      "_________________________________________________________________\n",
      "max_pooling2d_4 (MaxPooling2 (None, 25, 25, 64)        0         \n",
      "_________________________________________________________________\n",
      "dropout_4 (Dropout)          (None, 25, 25, 64)        0         \n",
      "_________________________________________________________________\n",
      "conv2d_5 (Conv2D)            (None, 25, 25, 128)       73856     \n",
      "_________________________________________________________________\n",
      "max_pooling2d_5 (MaxPooling2 (None, 12, 12, 128)       0         \n",
      "_________________________________________________________________\n",
      "dropout_5 (Dropout)          (None, 12, 12, 128)       0         \n",
      "_________________________________________________________________\n",
      "conv2d_6 (Conv2D)            (None, 12, 12, 256)       295168    \n",
      "_________________________________________________________________\n",
      "max_pooling2d_6 (MaxPooling2 (None, 6, 6, 256)         0         \n",
      "_________________________________________________________________\n",
      "dropout_6 (Dropout)          (None, 6, 6, 256)         0         \n",
      "_________________________________________________________________\n",
      "flatten_1 (Flatten)          (None, 9216)              0         \n",
      "_________________________________________________________________\n",
      "dense_2 (Dense)              (None, 256)               2359552   \n",
      "_________________________________________________________________\n",
      "dense_3 (Dense)              (None, 1)                 257       \n",
      "=================================================================\n",
      "Total params: 2,747,649\n",
      "Trainable params: 2,747,649\n",
      "Non-trainable params: 0\n",
      "_________________________________________________________________\n"
     ]
    }
   ],
   "source": [
    "model.summary()"
   ]
  },
  {
   "cell_type": "code",
   "execution_count": 32,
   "metadata": {},
   "outputs": [
    {
     "name": "stdout",
     "output_type": "stream",
     "text": [
      "Epoch 1/30\n",
      "39/39 [==============================] - 42s 1s/step - loss: 0.7220 - accuracy: 0.5561 - val_loss: 0.6452 - val_accuracy: 0.6594\n",
      "Epoch 2/30\n",
      "39/39 [==============================] - 26s 655ms/step - loss: 0.5250 - accuracy: 0.7407 - val_loss: 0.4873 - val_accuracy: 0.7826\n",
      "Epoch 3/30\n",
      "39/39 [==============================] - 27s 697ms/step - loss: 0.3012 - accuracy: 0.8708 - val_loss: 0.3030 - val_accuracy: 0.8696\n",
      "Epoch 4/30\n",
      "39/39 [==============================] - 34s 866ms/step - loss: 0.1871 - accuracy: 0.9253 - val_loss: 0.1177 - val_accuracy: 0.9783\n",
      "Epoch 5/30\n",
      "39/39 [==============================] - 35s 892ms/step - loss: 0.1225 - accuracy: 0.9581 - val_loss: 0.1453 - val_accuracy: 0.9275\n",
      "Epoch 6/30\n",
      "39/39 [==============================] - 40s 1s/step - loss: 0.0721 - accuracy: 0.9734 - val_loss: 0.0558 - val_accuracy: 0.9928\n",
      "Epoch 7/30\n",
      "39/39 [==============================] - 31s 790ms/step - loss: 0.0699 - accuracy: 0.9769 - val_loss: 0.1290 - val_accuracy: 0.9348\n",
      "Epoch 8/30\n",
      "39/39 [==============================] - 42s 1s/step - loss: 0.0743 - accuracy: 0.9765 - val_loss: 0.0371 - val_accuracy: 0.9855\n",
      "Epoch 9/30\n",
      "39/39 [==============================] - 27s 692ms/step - loss: 0.0689 - accuracy: 0.9746 - val_loss: 0.1602 - val_accuracy: 0.9203\n",
      "Epoch 10/30\n",
      "39/39 [==============================] - 28s 724ms/step - loss: 0.0447 - accuracy: 0.9798 - val_loss: 0.0451 - val_accuracy: 0.9855\n",
      "Epoch 11/30\n",
      "39/39 [==============================] - 32s 818ms/step - loss: 0.0318 - accuracy: 0.9875 - val_loss: 0.0531 - val_accuracy: 0.9783\n",
      "Epoch 12/30\n",
      "39/39 [==============================] - 31s 772ms/step - loss: 0.0211 - accuracy: 0.9948 - val_loss: 0.0644 - val_accuracy: 0.9783\n",
      "Epoch 13/30\n",
      "39/39 [==============================] - 38s 961ms/step - loss: 0.0272 - accuracy: 0.9931 - val_loss: 0.0422 - val_accuracy: 0.9855\n",
      "Epoch 14/30\n",
      "39/39 [==============================] - 62s 2s/step - loss: 0.0275 - accuracy: 0.9842 - val_loss: 0.0327 - val_accuracy: 0.9855\n",
      "Epoch 15/30\n",
      "39/39 [==============================] - 43s 1s/step - loss: 0.0404 - accuracy: 0.9848 - val_loss: 0.0389 - val_accuracy: 0.9855\n",
      "Epoch 16/30\n",
      "39/39 [==============================] - 30s 763ms/step - loss: 0.0153 - accuracy: 0.9951 - val_loss: 0.1534 - val_accuracy: 0.9493\n",
      "Epoch 17/30\n",
      "39/39 [==============================] - 30s 754ms/step - loss: 0.0740 - accuracy: 0.9828 - val_loss: 0.0108 - val_accuracy: 1.0000\n",
      "Epoch 18/30\n",
      "39/39 [==============================] - 29s 753ms/step - loss: 0.0257 - accuracy: 0.9914 - val_loss: 0.0225 - val_accuracy: 1.0000\n",
      "Epoch 19/30\n",
      "39/39 [==============================] - 30s 754ms/step - loss: 0.0098 - accuracy: 0.9973 - val_loss: 0.0183 - val_accuracy: 0.9855\n",
      "Epoch 20/30\n",
      "39/39 [==============================] - 28s 719ms/step - loss: 0.0079 - accuracy: 0.9964 - val_loss: 0.0115 - val_accuracy: 0.9928\n",
      "Epoch 21/30\n",
      "39/39 [==============================] - 29s 721ms/step - loss: 0.0141 - accuracy: 0.9953 - val_loss: 0.1184 - val_accuracy: 0.9420\n",
      "Epoch 22/30\n",
      "39/39 [==============================] - 27s 663ms/step - loss: 0.0049 - accuracy: 0.9987 - val_loss: 0.0402 - val_accuracy: 0.9783\n",
      "Epoch 23/30\n",
      "39/39 [==============================] - 26s 672ms/step - loss: 0.0115 - accuracy: 0.9943 - val_loss: 0.0256 - val_accuracy: 0.9928\n",
      "Epoch 24/30\n",
      "39/39 [==============================] - 26s 672ms/step - loss: 0.0098 - accuracy: 0.9967 - val_loss: 0.0562 - val_accuracy: 0.9855\n",
      "Epoch 25/30\n",
      "39/39 [==============================] - 28s 704ms/step - loss: 0.0347 - accuracy: 0.9842 - val_loss: 0.0101 - val_accuracy: 1.0000\n",
      "Epoch 26/30\n",
      "39/39 [==============================] - 27s 678ms/step - loss: 0.0046 - accuracy: 0.9987 - val_loss: 0.0168 - val_accuracy: 0.9928\n",
      "Epoch 27/30\n",
      "39/39 [==============================] - 26s 670ms/step - loss: 0.0049 - accuracy: 0.9984 - val_loss: 0.0200 - val_accuracy: 0.9855\n",
      "Epoch 28/30\n",
      "39/39 [==============================] - 26s 673ms/step - loss: 0.0047 - accuracy: 0.9992 - val_loss: 0.0623 - val_accuracy: 0.9783\n",
      "Epoch 29/30\n",
      "39/39 [==============================] - 26s 659ms/step - loss: 0.0050 - accuracy: 0.9992 - val_loss: 0.0154 - val_accuracy: 0.9928\n",
      "Epoch 30/30\n",
      "39/39 [==============================] - 28s 714ms/step - loss: 7.9984e-04 - accuracy: 0.9999 - val_loss: 0.0234 - val_accuracy: 0.9928\n"
     ]
    }
   ],
   "source": [
    "model_fit= model.fit(train_dataset, \n",
    "                     epochs= 30, \n",
    "                     validation_data= validation_dataset)"
   ]
  },
  {
   "cell_type": "code",
   "execution_count": 33,
   "metadata": {},
   "outputs": [],
   "source": [
    "model.save('model_greyscale.h5')"
   ]
  },
  {
   "cell_type": "code",
   "execution_count": 17,
   "metadata": {},
   "outputs": [],
   "source": [
    "model = load_model(\"model_greyscale.h5\")"
   ]
  },
  {
   "cell_type": "code",
   "execution_count": 53,
   "metadata": {},
   "outputs": [],
   "source": [
    "face_clsfr = cv2.CascadeClassifier('haarcascade_frontalface_default.xml')\n",
    "video_capture = cv2.VideoCapture(0)\n",
    "while(True):\n",
    "\n",
    "    ret, frame = video_capture.read()\n",
    "    RGB = cv2.cvtColor(frame, cv2.COLOR_BGR2RGB)\n",
    "    gray = cv2.cvtColor(RGB, cv2.COLOR_BGR2GRAY)\n",
    "    #cv2.imshow(\"frame\",gray)\n",
    "    faces=face_clsfr.detectMultiScale(gray,1.3,5)\n",
    "\n",
    "    for x,y,w,h in faces:\n",
    "        xmin=int(x)\n",
    "        ymin=int(y)\n",
    "        xmax=int(x+w)\n",
    "        ymax=int(y+h)\n",
    "        \n",
    "        \n",
    "        face_img = gray[y:y+w,x:x+w]\n",
    "        #face_img = frame[y:y+w,x:x+w]\n",
    "        #cv_img = cv2.imread(i)\n",
    "        resize = cv2.resize(face_img, (100,100))\n",
    "        #gray = cv2.cvtColor(resize,cv2.COLOR_BGR2GRAY)\n",
    "\n",
    "        x=image.img_to_array(resize)\n",
    "        #x = x.astype(\"float\")/255.0\n",
    "\n",
    "\n",
    "        x=np.expand_dims(x,axis=0)\n",
    "        images = np.vstack([x])\n",
    "        val = model.predict(images)\n",
    "        \n",
    "        if val == 0:\n",
    "            label=\"Mask\"\n",
    "        else:\n",
    "            label=\"No Mask\"\n",
    "        \n",
    "        #print(label)\n",
    "\n",
    "        cv2.rectangle(frame,(xmin, ymin), (xmax, ymax) ,(0, 255, 255), 2)\n",
    "        #cv2.rectangle(frame,(x,y-40),(x+w,y+h),color_dict[label],-1)\n",
    "        cv2.putText(frame,label,(xmin,ymin-10),cv2.FONT_HERSHEY_COMPLEX,0.8,(255,255,255),2)\n",
    "\n",
    "\n",
    "    cv2.imshow(\"img\",frame)\n",
    "    key=cv2.waitKey(5)\n",
    "\n",
    "    if (key==27):\n",
    "        break\n",
    "\n",
    "cv2.destroyAllWindows()\n",
    "video_capture.release()"
   ]
  },
  {
   "cell_type": "code",
   "execution_count": null,
   "metadata": {},
   "outputs": [],
   "source": []
  }
 ],
 "metadata": {
  "accelerator": "GPU",
  "colab": {
   "collapsed_sections": [],
   "name": "Face Detection.ipynb",
   "provenance": []
  },
  "kernelspec": {
   "display_name": "Python 3",
   "language": "python",
   "name": "python3"
  },
  "language_info": {
   "codemirror_mode": {
    "name": "ipython",
    "version": 3
   },
   "file_extension": ".py",
   "mimetype": "text/x-python",
   "name": "python",
   "nbconvert_exporter": "python",
   "pygments_lexer": "ipython3",
   "version": "3.8.5"
  }
 },
 "nbformat": 4,
 "nbformat_minor": 1
}
